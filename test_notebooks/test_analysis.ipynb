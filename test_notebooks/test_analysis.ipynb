{
 "cells": [
  {
   "cell_type": "code",
   "execution_count": 1,
   "metadata": {
    "collapsed": true
   },
   "outputs": [],
   "source": [
    "#TODO: Write function to run algorithm on all coins and see if any call would have lost money (negative price action)\n",
    "#TODO: Fine tune filters\n",
    "#TODO: Write function that takes in list of coins and buys those if pump occurs\n",
    "#TODO: Output all pumps"
   ]
  },
  {
   "cell_type": "code",
   "execution_count": 2,
   "metadata": {
    "collapsed": true
   },
   "outputs": [],
   "source": [
    "from contextlib import closing\n",
    "import json\n",
    "from numpy import array, dtype, mean as np_mean, exp, linspace, convolve, log\n",
    "from datetime import datetime\n",
    "from decimal import Decimal\n",
    "\n",
    "%matplotlib inline\n",
    "import matplotlib.pyplot as plt\n",
    "from matplotlib.dates import DateFormatter\n",
    "import matplotlib.ticker as mtick\n",
    "\n",
    "from scipy import stats\n",
    "\n",
    "from MySQLdb import connect, OperationalError, ProgrammingError\n",
    "\n",
    "from crocket.utilities.passcode import AESCipher\n",
    "from crocket.sql.sql import Database\n",
    "\n",
    "CREDENTIALS_FILE_PATH = '/Users/brian/crypto/.credentials.json'\n",
    "ENCRYPTED_FAKE_KEY = 'kS9fYyw94g7sWI/7L0pVi91ZFeiitH4Rk54vacZWwLvi6Nxoe64zUVMWjELor0th'\n",
    "\n",
    "HOSTNAME = '173.255.241.200'\n",
    "DATABASE_NAME = 'BITTREX'"
   ]
  },
  {
   "cell_type": "code",
   "execution_count": 3,
   "metadata": {
    "collapsed": false
   },
   "outputs": [],
   "source": [
    "# Decrypt the fake key to get the real key\n",
    "fake_cipher = AESCipher('passcode')\n",
    "\n",
    "real_key = fake_cipher.decrypt(ENCRYPTED_FAKE_KEY.encode())\n",
    "\n",
    "cipher = AESCipher(real_key)\n",
    "\n",
    "# Load credentials\n",
    "with open(CREDENTIALS_FILE_PATH, 'r') as f:\n",
    "    credentials = json.load(f)\n",
    "\n",
    "USERNAME = cipher.decrypt(credentials.get('username').encode())\n",
    "PASSCODE = cipher.decrypt(credentials.get('passcode').encode())"
   ]
  },
  {
   "cell_type": "code",
   "execution_count": 4,
   "metadata": {
    "collapsed": false
   },
   "outputs": [],
   "source": [
    "def calculate_average(input_vector, bin_size):\n",
    "    \n",
    "    truncated_vector = input_vector[len(input_vector)-int(len(input_vector)/bin_size)*bin_size:]\n",
    "    \n",
    "    return np_mean(np_array(truncated_vector).reshape(-1, bin_size), axis=1)\n",
    "\n",
    "def calculate_rate_of_change(values, lag):\n",
    "    \n",
    "    if (lag > len(values)):\n",
    "        raise ValueError('Period is larger than number of data points available.')\n",
    "    \n",
    "    lag += 1\n",
    "    \n",
    "    return ((values[-1] - values[-lag]) / values[-lag]) * 100\n",
    "\n",
    "def calculate_change_over_time(values, alpha, periods):\n",
    "    \n",
    "    if alpha < 0 or alpha > 1:\n",
    "        raise ValueError('Alpha must be between [0, 1]')\n",
    "        \n",
    "    value_changes = [calculate_rate_of_change(values, x)*alpha*(1-alpha)**i for i, x in enumerate(periods[:-1])] + \\\n",
    "    [calculate_rate_of_change(values, periods[-1])*(1-alpha)**(len(periods)-1)]\n",
    "    \n",
    "    return sum(value_changes), all([x for x in value_changes if x > 0])\n",
    "\n",
    "def calculate_total_change(values, lag):\n",
    "    \n",
    "    if (lag > len(values)):\n",
    "        raise ValueError('Period is larger than number of data points available.')\n",
    "    \n",
    "    lag += 1\n",
    "    \n",
    "    return (values[-1] - values[-lag])\n",
    "\n",
    "def calculate_total_change_over_time(change, alpha, periods):\n",
    "    \n",
    "    if alpha < 0 or alpha > 1:\n",
    "        raise ValueError('Alpha must be between [0, 1]')\n",
    "        \n",
    "    total_changes = [calculate_total_change(change, x)*alpha*(1-alpha)**i for i, x in enumerate(periods[:-1])] + \\\n",
    "    [calculate_total_change(change, periods[-1])*(1-alpha)**(len(periods)-1)]\n",
    "    \n",
    "    return sum(total_changes)\n",
    "\n",
    "def exp_moving_average_decimal(values, window):\n",
    "    \n",
    "    weights = array(exp(linspace(-1., 0., window)), dtype=dtype(Decimal))\n",
    "    weights = [round(Decimal(x / weights.sum()), 8) for x in weights]\n",
    "    a = convolve(values, weights, mode='full')[:len(values)]\n",
    "    a[:window] = a[window]\n",
    "    return a\n",
    "\n",
    "def exp_moving_average(values, window):\n",
    "    \n",
    "    weights = exp(linspace(-1., 0., window))\n",
    "    weights /= weights.sum()\n",
    "    a = convolve(values, weights, mode='full')[:len(values)]\n",
    "    a[:window] = a[window]\n",
    "    return a\n",
    "\n",
    "def convert_datetime_to_minutes(time):\n",
    "    \n",
    "    reference = datetime(1970, 1, 1)\n",
    "    start = (time[0]-reference).total_seconds()\n",
    "    time_minutes = [((time[x]-reference).total_seconds()-start)/60 for x in range(len(time))]\n",
    "    \n",
    "    return time_minutes"
   ]
  },
  {
   "cell_type": "code",
   "execution_count": 5,
   "metadata": {
    "collapsed": false,
    "scrolled": true
   },
   "outputs": [],
   "source": [
    "# Create database object\n",
    "\n",
    "db = Database(hostname=HOSTNAME,\n",
    "              username=USERNAME,\n",
    "              password=PASSCODE,\n",
    "              database_name=DATABASE_NAME)"
   ]
  },
  {
   "cell_type": "code",
   "execution_count": null,
   "metadata": {
    "collapsed": true
   },
   "outputs": [],
   "source": [
    "# TODO: Debug ZEC"
   ]
  },
  {
   "cell_type": "code",
   "execution_count": 6,
   "metadata": {
    "collapsed": false
   },
   "outputs": [],
   "source": [
    "# TODO: Fix slow query time\n",
    "data = db.select_query('BTC-ZEC', '*') # `BTC-GCR` # TODO: Fix false positives in `BTC-BRX` (consecutive time points)\n",
    "time, price, basevolume, volume, buyorder, sellorder = map(list, zip(*data))"
   ]
  },
  {
   "cell_type": "code",
   "execution_count": 7,
   "metadata": {
    "collapsed": false
   },
   "outputs": [],
   "source": [
    "def detect_pump(time, price, basevolume, buyorder, sellorder):\n",
    "    \n",
    "    pema = exp_moving_average_decimal(price, 2)\n",
    "    procl, procln = zip(*[calculate_change_over_time(pema, Decimal(0.8), range(5, 8))])\n",
    "    procs, procsn = zip(*[calculate_change_over_time(pema, Decimal(0.8), range(1, 4)) \n",
    "                          for x in range(20, len(pema))])\n",
    "\n",
    "    vema = exp_moving_average(basevolume, 2)\n",
    "    vrocl, vrocln = zip(*[calculate_change_over_time(vema, 0.8, range(5, 8))])\n",
    "    vrocs, vrocsn = zip(*[calculate_change_over_time(vema, 0.8, range(1, 4))])\n",
    "    \n",
    "    sema = exp_moving_average(sellorder, 2)\n",
    "    srocl, srocln = zip(*[calculate_change_over_time(sema, 0.8, [1, 2, 3, 5, 8])])\n",
    "    srocs, srocsn = zip(*[calculate_change_over_time(sema, 0.8, range(1, 4))])\n",
    "    \n",
    "    if (procl[-1] > 0.1 and procl[-1] < 3 and procs[-1] > 0.1 and procsn[-1] and\n",
    "        vrocl[-1] > 0.3 and vrocl[-1] < 10 and vrocs[-1] > 0.3 and\n",
    "        srocl[-1] < -0.2 and srocs[-1] < -0.2 and srocsn[-1]):\n",
    "        \n",
    "        return time[-1]\n",
    "        \n",
    "    \n",
    "    # TODO: add buy order and sell order percent change and slope change (ONLY NEED ONE)"
   ]
  },
  {
   "cell_type": "code",
   "execution_count": 8,
   "metadata": {
    "collapsed": false
   },
   "outputs": [
    {
     "name": "stdout",
     "output_type": "stream",
     "text": [
      "54\n"
     ]
    }
   ],
   "source": [
    "window_size = 25\n",
    "calls = [detect_pump(time[x-window_size:x], \n",
    "                     price[x-window_size:x], \n",
    "                     basevolume[x-window_size:x], \n",
    "                     buyorder[x-window_size:x], \n",
    "                     sellorder[x-window_size:x]) for x in range(25, len(time))]\n",
    "\n",
    "calls = [x for x in calls if x]\n",
    "indices = [i for (i, x) in enumerate(time) if x in calls]\n",
    "print(len(indices))"
   ]
  },
  {
   "cell_type": "code",
   "execution_count": 11,
   "metadata": {
    "collapsed": false
   },
   "outputs": [
    {
     "data": {
      "text/plain": [
       "[134,\n",
       " 155,\n",
       " 164,\n",
       " 300,\n",
       " 309,\n",
       " 1532,\n",
       " 1990,\n",
       " 2137,\n",
       " 2662,\n",
       " 2663,\n",
       " 2664,\n",
       " 2665,\n",
       " 3013,\n",
       " 3070,\n",
       " 3071,\n",
       " 3072,\n",
       " 3073,\n",
       " 3112,\n",
       " 3117,\n",
       " 3139,\n",
       " 3144,\n",
       " 3145,\n",
       " 3151,\n",
       " 3166,\n",
       " 3168,\n",
       " 3219,\n",
       " 3220,\n",
       " 3228,\n",
       " 3229,\n",
       " 3233,\n",
       " 3234,\n",
       " 3435,\n",
       " 3589,\n",
       " 3723,\n",
       " 3724,\n",
       " 3735,\n",
       " 3736,\n",
       " 4493,\n",
       " 4494,\n",
       " 4495,\n",
       " 4506,\n",
       " 4514,\n",
       " 4515,\n",
       " 4539,\n",
       " 4540,\n",
       " 4618,\n",
       " 4892,\n",
       " 4893,\n",
       " 7885,\n",
       " 8113,\n",
       " 8114,\n",
       " 10194,\n",
       " 10196,\n",
       " 10197]"
      ]
     },
     "execution_count": 11,
     "metadata": {},
     "output_type": "execute_result"
    }
   ],
   "source": [
    "indices"
   ]
  },
  {
   "cell_type": "code",
   "execution_count": 9,
   "metadata": {
    "collapsed": true
   },
   "outputs": [],
   "source": [
    "start = 0\n",
    "stop = len(time)"
   ]
  },
  {
   "cell_type": "code",
   "execution_count": 10,
   "metadata": {
    "collapsed": false,
    "scrolled": true
   },
   "outputs": [
    {
     "data": {
      "image/png": "[encoded data removed]",
      "text/plain": [
       "<matplotlib.figure.Figure at 0x114aac4a8>"
      ]
     },
     "metadata": {},
     "output_type": "display_data"
    },
    {
     "data": {
      "image/png": "[encoded data removed]",
      "text/plain": [
       "<matplotlib.figure.Figure at 0x114bbaba8>"
      ]
     },
     "metadata": {},
     "output_type": "display_data"
    },
    {
     "data": {
      "image/png": "[encoded data removed]",
      "text/plain": [
       "<matplotlib.figure.Figure at 0x114ca6630>"
      ]
     },
     "metadata": {},
     "output_type": "display_data"
    },
    {
     "data": {
      "image/png": "[encoded data removed]",
      "text/plain": [
       "<matplotlib.figure.Figure at 0x114e3a9e8>"
      ]
     },
     "metadata": {},
     "output_type": "display_data"
    }
   ],
   "source": [
    "priceema = exp_moving_average_decimal(price, 2)\n",
    "\n",
    "plt.plot(time[start:stop], price[start:stop])\n",
    "plt.plot([time[x] for x in indices if x > start and x < stop], \n",
    "         [price[x] for x in indices if x > start and x < stop], 'r', linewidth=4)\n",
    "plt.plot(time[start:stop], priceema[start:stop], 'k')\n",
    "ax = plt.gca()\n",
    "plt.ylabel('PRICE')\n",
    "ax.xaxis.set_major_formatter(DateFormatter('%H:%M'))\n",
    "ax.yaxis.set_major_formatter(mtick.FormatStrFormatter('%.2e'))\n",
    "plt.show()\n",
    "\n",
    "plt.plot(time[start:stop], basevolume[start:stop])\n",
    "plt.plot([time[x] for x in indices if x > start and x < stop], \n",
    "         [basevolume[x] for x in indices if x > start and x < stop], 'r', linewidth=4)\n",
    "ax = plt.gca()\n",
    "plt.ylabel('BASEVOLUME')\n",
    "ax.xaxis.set_major_formatter(DateFormatter('%H:%M'))\n",
    "ax.yaxis.set_major_formatter(mtick.FormatStrFormatter('%.2e'))\n",
    "plt.show()\n",
    "\n",
    "plt.plot(time[start:stop], buyorder[start:stop])\n",
    "plt.plot([time[x] for x in indices if x > start and x < stop], \n",
    "         [buyorder[x] for x in indices if x > start and x < stop], 'r', linewidth=4)\n",
    "ax = plt.gca()\n",
    "plt.ylabel('BUYORDER')\n",
    "ax.xaxis.set_major_formatter(DateFormatter('%H:%M'))\n",
    "ax.yaxis.set_major_formatter(mtick.FormatStrFormatter('%.2e'))\n",
    "plt.show()\n",
    "\n",
    "plt.plot(time[start:stop], sellorder[start:stop])\n",
    "plt.plot([time[x] for x in indices if x > start and x < stop], \n",
    "         [sellorder[x] for x in indices if x > start and x < stop], 'r', linewidth=4)\n",
    "ax = plt.gca()\n",
    "plt.ylabel('SELLORDER')\n",
    "ax.xaxis.set_major_formatter(DateFormatter('%H:%M'))\n",
    "ax.yaxis.set_major_formatter(mtick.FormatStrFormatter('%.2e'))\n",
    "plt.show()"
   ]
  },
  {
   "cell_type": "code",
   "execution_count": 13,
   "metadata": {
    "collapsed": false
   },
   "outputs": [
    {
     "data": {
      "text/plain": [
       "2880"
      ]
     },
     "execution_count": 13,
     "metadata": {},
     "output_type": "execute_result"
    }
   ],
   "source": [
    "60*24*2"
   ]
  },
  {
   "cell_type": "code",
   "execution_count": null,
   "metadata": {
    "collapsed": false
   },
   "outputs": [],
   "source": [
    "priceema = exp_moving_average_decimal(price, 2)\n",
    "vema = exp_moving_average(basevolume, 2)\n",
    "vrocl = [calculate_volume_change_over_time(vema[:x], 0, [1, 2, 3, 5, 8, 13]) for x in range(100, len(vema))]\n",
    "vrocs0 = [calculate_total_change_over_time(vema[:x], 0, range(1, 5)) for x in range(100, len(vema))]\n",
    "vrocs2 = [calculate_total_change_over_time(vema[:x], 0.5, range(1, 5)) for x in range(100, len(vema))]\n",
    "vrocs1 = [calculate_total_change_over_time(vema[:x], 0.8, range(1, 5)) for x in range(100, len(vema))]"
   ]
  },
  {
   "cell_type": "code",
   "execution_count": null,
   "metadata": {
    "collapsed": true
   },
   "outputs": [],
   "source": [
    "start = 2400\n",
    "stop = 2500"
   ]
  },
  {
   "cell_type": "code",
   "execution_count": null,
   "metadata": {
    "collapsed": false,
    "scrolled": true
   },
   "outputs": [],
   "source": [
    "plt.plot(time[start:stop], price[start:stop])\n",
    "plt.plot(time[start:stop], priceema[start:stop], 'r')\n",
    "ax = plt.gca()\n",
    "plt.ylabel('PRICE')\n",
    "ax.xaxis.set_major_formatter(DateFormatter('%H:%M'))\n",
    "ax.yaxis.set_major_formatter(mtick.FormatStrFormatter('%.2e'))\n",
    "plt.show()\n",
    "\n",
    "plt.plot(time[start:stop], basevolume[start:stop])\n",
    "plt.plot(time[start:stop], vema[start:stop], 'r')\n",
    "ax = plt.gca()\n",
    "plt.ylabel('VOLUME')\n",
    "ax.xaxis.set_major_formatter(DateFormatter('%H:%M'))\n",
    "ax.yaxis.set_major_formatter(mtick.FormatStrFormatter('%.2e'))\n",
    "plt.show()\n",
    "\n",
    "plt.plot(time[start:stop], vrocl[start-100:stop-100])\n",
    "ax = plt.gca()\n",
    "plt.ylabel('VOLUME RATE OF CHANGE')\n",
    "ax.xaxis.set_major_formatter(DateFormatter('%H:%M'))\n",
    "ax.yaxis.set_major_formatter(mtick.FormatStrFormatter('%.2e'))\n",
    "plt.show()\n",
    "\n",
    "plt.plot(time[start:stop], vrocs0[start-100:stop-100], 'b')\n",
    "plt.plot(time[start:stop], vrocs1[start-100:stop-100], 'r')\n",
    "plt.plot(time[start:stop], vrocs2[start-100:stop-100], 'k')\n",
    "ax = plt.gca()\n",
    "plt.ylabel('VOLUME RATE OF CHANGE SLOPE')\n",
    "ax.xaxis.set_major_formatter(DateFormatter('%H:%M'))\n",
    "ax.yaxis.set_major_formatter(mtick.FormatStrFormatter('%.2e'))\n",
    "plt.show()"
   ]
  },
  {
   "cell_type": "code",
   "execution_count": null,
   "metadata": {
    "collapsed": false,
    "scrolled": true
   },
   "outputs": [],
   "source": [
    "def detect_sell(values, time):\n",
    "\n",
    "    sema = exp_moving_average(values, 2)\n",
    "    srocl, srocln = zip(*[calculate_change_over_time(sema, 0.8, [1, 2, 3, 5, 8])])\n",
    "    srocs, srocsn = zip(*[calculate_change_over_time(sema, 0.8, range(1, 4))])\n",
    "    \n",
    "    if (srocl[-1] < -0.2 and srocs[-1] < -0.2):\n",
    "        \n",
    "        print(time[-1], srocl[-1])\n",
    "        return time[-1]\n",
    "\n",
    "window_size = 25\n",
    "calls = [detect_sell(sellorder[x-window_size:x],\n",
    "                     time[x-window_size:x]) for x in range(5100, 5200)]\n",
    "\n",
    "\n",
    "indices = [i for (i, x) in enumerate(time) if x in calls]\n",
    "print(len(indices))"
   ]
  },
  {
   "cell_type": "code",
   "execution_count": null,
   "metadata": {
    "collapsed": false
   },
   "outputs": [],
   "source": [
    "[time[x] for x in indices]"
   ]
  },
  {
   "cell_type": "code",
   "execution_count": null,
   "metadata": {
    "collapsed": false
   },
   "outputs": [],
   "source": [
    "[srocl[x-99] for x in indices]"
   ]
  },
  {
   "cell_type": "code",
   "execution_count": null,
   "metadata": {
    "collapsed": false
   },
   "outputs": [],
   "source": [
    "sema = exp_moving_average(sellorder, 2)\n",
    "srocl, na1 = zip(*[calculate_change_over_time(sema[:x], 0.8, [1, 2, 3, 5, 8]) \n",
    "                              for x in range(100, len(sema))])\n",
    "srocs, na2 = zip(*[calculate_change_over_time(sema[:x], 0.8, range(1, 4)) \n",
    "                      for x in range(100, len(sema))])"
   ]
  },
  {
   "cell_type": "code",
   "execution_count": null,
   "metadata": {
    "collapsed": true
   },
   "outputs": [],
   "source": [
    "start = 5120\n",
    "stop = 5150"
   ]
  },
  {
   "cell_type": "code",
   "execution_count": null,
   "metadata": {
    "collapsed": false
   },
   "outputs": [],
   "source": [
    "plt.plot(time[start:stop], sellorder[start:stop])\n",
    "plt.plot([time[x] for x in indices if x > start and x < stop], \n",
    "         [sellorder[x] for x in indices if x > start and x < stop], 'r', linewidth=3)\n",
    "ax = plt.gca()\n",
    "plt.ylabel('SELLORDER')\n",
    "ax.xaxis.set_major_formatter(DateFormatter('%H:%M'))\n",
    "ax.yaxis.set_major_formatter(mtick.FormatStrFormatter('%.2e'))\n",
    "plt.show()\n",
    "\n",
    "plt.plot(time[start:stop], srocl[start-99:stop-99])\n",
    "plt.plot([time[x] for x in indices if x > start and x < stop], \n",
    "         [srocl[x-99] for x in indices if x > start and x < stop], 'r', linewidth=3)\n",
    "ax = plt.gca()\n",
    "plt.ylabel('SELLORDER LONG')\n",
    "ax.xaxis.set_major_formatter(DateFormatter('%H:%M'))\n",
    "ax.yaxis.set_major_formatter(mtick.FormatStrFormatter('%.2e'))\n",
    "plt.show()\n",
    "\n",
    "plt.plot(time[start:stop], srocs[start-99:stop-99])\n",
    "plt.plot([time[x] for x in indices if x > start and x < stop], \n",
    "         [srocs[x-99] for x in indices if x > start and x < stop], 'r', linewidth=3)\n",
    "ax = plt.gca()\n",
    "plt.ylabel('SELLORDER SHORT')\n",
    "ax.xaxis.set_major_formatter(DateFormatter('%H:%M'))\n",
    "ax.yaxis.set_major_formatter(mtick.FormatStrFormatter('%.2e'))\n",
    "plt.show()"
   ]
  },
  {
   "cell_type": "code",
   "execution_count": null,
   "metadata": {
    "collapsed": false
   },
   "outputs": [],
   "source": [
    "pema = exp_moving_average_decimal(price, 3)\n",
    "procl = [calculate_volume_change_over_time(pema[:x], 0, [1, 2, 3, 5, 8]) for x in range(20, len(pema))]\n",
    "procs = [calculate_volume_change_over_time(pema[:x], 0, range(0, 3)) for x in range(20, len(pema))]"
   ]
  },
  {
   "cell_type": "code",
   "execution_count": null,
   "metadata": {
    "collapsed": true
   },
   "outputs": [],
   "source": [
    "start = 2\n",
    "stop = 2500"
   ]
  },
  {
   "cell_type": "code",
   "execution_count": null,
   "metadata": {
    "collapsed": false
   },
   "outputs": [],
   "source": [
    "plt.plot(time[start:stop], price[start:stop])\n",
    "plt.plot(time[start:stop], pema[start:stop], 'r')\n",
    "ax = plt.gca()\n",
    "plt.ylabel('PRICE')\n",
    "ax.xaxis.set_major_formatter(DateFormatter('%H:%M'))\n",
    "ax.yaxis.set_major_formatter(mtick.FormatStrFormatter('%.2e'))\n",
    "plt.show()\n",
    "\n",
    "plt.plot(time[start:stop], procl[start-100:stop-100])\n",
    "ax = plt.gca()\n",
    "plt.ylabel('PRICE LONG')\n",
    "ax.xaxis.set_major_formatter(DateFormatter('%H:%M'))\n",
    "ax.yaxis.set_major_formatter(mtick.FormatStrFormatter('%.2e'))\n",
    "plt.show()\n",
    "\n",
    "plt.plot(time[start:stop], procs[start-100:stop-100])\n",
    "ax = plt.gca()\n",
    "plt.ylabel('PRICE SHORT')\n",
    "ax.xaxis.set_major_formatter(DateFormatter('%H:%M'))\n",
    "ax.yaxis.set_major_formatter(mtick.FormatStrFormatter('%.2e'))\n",
    "plt.show()"
   ]
  },
  {
   "cell_type": "code",
   "execution_count": null,
   "metadata": {
    "collapsed": false
   },
   "outputs": [],
   "source": [
    "from pandas import DataFrame, set_option\n",
    "from pandas.stats.moments import ewma\n",
    "from numpy import vstack, mean"
   ]
  },
  {
   "cell_type": "code",
   "execution_count": null,
   "metadata": {
    "collapsed": true
   },
   "outputs": [],
   "source": [
    "# Set precision to 8\n",
    "set_option('precision', 8)"
   ]
  },
  {
   "cell_type": "code",
   "execution_count": null,
   "metadata": {
    "collapsed": true
   },
   "outputs": [],
   "source": [
    "df = DataFrame(price)"
   ]
  },
  {
   "cell_type": "code",
   "execution_count": null,
   "metadata": {
    "collapsed": false,
    "scrolled": true
   },
   "outputs": [],
   "source": [
    "smooth2 = df.rolling(window=2).mean()\n",
    "smooth3 = df.rolling(window=3).mean()\n",
    "smooth10 = df.rolling(window=100).mean()"
   ]
  },
  {
   "cell_type": "code",
   "execution_count": null,
   "metadata": {
    "collapsed": false
   },
   "outputs": [],
   "source": [
    "%matplotlib inline\n",
    "import matplotlib.pyplot as plt\n",
    "from matplotlib.dates import DateFormatter\n",
    "import matplotlib.ticker as mtick\n",
    "\n",
    "plt.plot(time[start:stop], smooth2[start:stop])\n",
    "ax = plt.gca()\n",
    "plt.ylabel('PRICE')\n",
    "ax.xaxis.set_major_formatter(DateFormatter('%H:%M'))\n",
    "ax.yaxis.set_major_formatter(mtick.FormatStrFormatter('%.2e'))\n",
    "plt.show()\n",
    "\n",
    "plt.plot(time[start:stop], smooth3[start:stop])\n",
    "ax = plt.gca()\n",
    "plt.ylabel('PRICE')\n",
    "ax.xaxis.set_major_formatter(DateFormatter('%H:%M'))\n",
    "ax.yaxis.set_major_formatter(mtick.FormatStrFormatter('%.2e'))\n",
    "plt.show()\n",
    "\n",
    "plt.plot(time[start:stop], smooth10[start:stop])\n",
    "ax = plt.gca()\n",
    "plt.ylabel('PRICE')\n",
    "ax.xaxis.set_major_formatter(DateFormatter('%H:%M'))\n",
    "ax.yaxis.set_major_formatter(mtick.FormatStrFormatter('%.2e'))\n",
    "plt.show()"
   ]
  },
  {
   "cell_type": "code",
   "execution_count": null,
   "metadata": {
    "collapsed": true
   },
   "outputs": [],
   "source": [
    "from numpy import array, dtype, exp, linspace, convolve"
   ]
  },
  {
   "cell_type": "code",
   "execution_count": null,
   "metadata": {
    "collapsed": false
   },
   "outputs": [],
   "source": [
    "a = array(exp(linspace(-1., 0., 10)), dtype=dtype(Decimal))"
   ]
  },
  {
   "cell_type": "code",
   "execution_count": null,
   "metadata": {
    "collapsed": true
   },
   "outputs": [],
   "source": [
    "from decimal import Decimal"
   ]
  },
  {
   "cell_type": "code",
   "execution_count": null,
   "metadata": {
    "collapsed": false
   },
   "outputs": [],
   "source": [
    "Decimal(exp(linspace(-1., 0., 20)))"
   ]
  },
  {
   "cell_type": "code",
   "execution_count": null,
   "metadata": {
    "collapsed": false
   },
   "outputs": [],
   "source": [
    "weights = array(exp(linspace(-1., 0., 20)), dtype=dtype(Decimal))\n",
    "weights = [round(Decimal(x / weights.sum()), 8) for x in weights]\n",
    "a = convolve(price, weights, mode='full')[:len(price)]"
   ]
  },
  {
   "cell_type": "code",
   "execution_count": null,
   "metadata": {
    "collapsed": false
   },
   "outputs": [],
   "source": [
    "tmp = exp_moving_average(price, 20)\n",
    "tmp1 = exp_moving_average(price, 40)\n",
    "tmp2 = exp_moving_average(price, 10)"
   ]
  },
  {
   "cell_type": "code",
   "execution_count": null,
   "metadata": {
    "collapsed": true
   },
   "outputs": [],
   "source": [
    "start = 1350\n",
    "stop = 1600"
   ]
  },
  {
   "cell_type": "code",
   "execution_count": null,
   "metadata": {
    "collapsed": false
   },
   "outputs": [],
   "source": [
    "%matplotlib inline\n",
    "import matplotlib.pyplot as plt\n",
    "from matplotlib.dates import DateFormatter\n",
    "import matplotlib.ticker as mtick\n",
    "\n",
    "plt.plot(time[start:stop], price[start:stop])\n",
    "plt.plot(time[start:stop], tmp[start:stop], 'r')\n",
    "plt.plot(time[start:stop], tmp1[start:stop], 'g')\n",
    "plt.plot(time[start:stop], tmp2[start:stop], 'k')\n",
    "ax = plt.gca()\n",
    "plt.ylabel('PRICE')\n",
    "ax.xaxis.set_major_formatter(DateFormatter('%H:%M'))\n",
    "ax.yaxis.set_major_formatter(mtick.FormatStrFormatter('%.2e'))\n",
    "plt.show()\n",
    "\n",
    "plt.plot(time[start:stop], volume[start:stop], 'k')\n",
    "ax = plt.gca()\n",
    "plt.ylabel('VOLUME')\n",
    "ax.xaxis.set_major_formatter(DateFormatter('%H:%M'))\n",
    "ax.yaxis.set_major_formatter(mtick.FormatStrFormatter('%.2e'))\n",
    "plt.show()"
   ]
  },
  {
   "cell_type": "code",
   "execution_count": null,
   "metadata": {
    "collapsed": true
   },
   "outputs": [],
   "source": []
  }
 ],
 "metadata": {
  "kernelspec": {
   "display_name": "Python 3",
   "language": "python",
   "name": "python3"
  },
  "language_info": {
   "codemirror_mode": {
    "name": "ipython",
    "version": 3
   },
   "file_extension": ".py",
   "mimetype": "text/x-python",
   "name": "python",
   "nbconvert_exporter": "python",
   "pygments_lexer": "ipython3",
   "version": "3.5.3"
  }
 },
 "nbformat": 4,
 "nbformat_minor": 0
}
