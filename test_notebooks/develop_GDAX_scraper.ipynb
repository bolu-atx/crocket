{
 "cells": [
  {
   "cell_type": "code",
   "execution_count": null,
   "metadata": {
    "collapsed": true
   },
   "outputs": [],
   "source": [
    "import gdax"
   ]
  },
  {
   "cell_type": "code",
   "execution_count": null,
   "metadata": {
    "collapsed": true
   },
   "outputs": [],
   "source": [
    "public_client = gdax.PublicClient()"
   ]
  },
  {
   "cell_type": "code",
   "execution_count": null,
   "metadata": {
    "collapsed": true
   },
   "outputs": [],
   "source": [
    "products = public_client.get_products()"
   ]
  },
  {
   "cell_type": "code",
   "execution_count": null,
   "metadata": {},
   "outputs": [],
   "source": [
    "len(products)"
   ]
  },
  {
   "cell_type": "code",
   "execution_count": null,
   "metadata": {},
   "outputs": [],
   "source": [
    "[x.get('display_name') for x in products]"
   ]
  },
  {
   "cell_type": "code",
   "execution_count": null,
   "metadata": {
    "collapsed": true
   },
   "outputs": [],
   "source": [
    "ticker = public_client.get_product_ticker(product_id='BTC-USD')"
   ]
  },
  {
   "cell_type": "code",
   "execution_count": null,
   "metadata": {},
   "outputs": [],
   "source": [
    "ticker"
   ]
  },
  {
   "cell_type": "code",
   "execution_count": null,
   "metadata": {
    "collapsed": true
   },
   "outputs": [],
   "source": [
    "trades = public_client.get_product_trades(product_id='BTC-USD')"
   ]
  },
  {
   "cell_type": "code",
   "execution_count": null,
   "metadata": {
    "scrolled": true
   },
   "outputs": [],
   "source": [
    "wsClient = gdax.WebsocketClient(url=\"wss://ws-feed.gdax.com\", products=\"BTC-USD\")"
   ]
  },
  {
   "cell_type": "code",
   "execution_count": 1,
   "metadata": {
    "collapsed": true
   },
   "outputs": [],
   "source": [
    "import gdax, time\n",
    "\n",
    "class myWebsocketClient(gdax.WebsocketClient):\n",
    "\n",
    "    def on_open(self):\n",
    "        self.url = \"wss://ws-feed.gdax.com/\"\n",
    "        self.products = [\"LTC-USD\"]\n",
    "        self.message_count = 0\n",
    "        print(\"Lets count the messages!\")\n",
    "    \n",
    "    def on_message(self, msg):\n",
    "        self.message_count += 1\n",
    "        if 'price' in msg and 'type' in msg:\n",
    "            print (\"Message type:\", msg[\"type\"],\n",
    "                   \"\\t@ {:.3f}\".format(float(msg[\"price\"])))\n",
    "    \n",
    "    def on_close(self):\n",
    "        print(\"-- Goodbye! --\")"
   ]
  },
  {
   "cell_type": "code",
   "execution_count": 2,
   "metadata": {
    "scrolled": true
   },
   "outputs": [
    {
     "name": "stdout",
     "output_type": "stream",
     "text": [
      "Lets count the messages!\n",
      "wss://ws-feed.gdax.com ['LTC-USD']\n",
      "-- Goodbye! --\n",
      "Message type: done \t@ 114.590\n",
      "Message type: done \t@ 114.360\n",
      "Message type: done \t@ 114.460\n",
      "Message type: received \t@ 114.460\n",
      "Message type: open \t@ 114.460\n",
      "Message type: done \t@ 114.040\n",
      "Message type: received \t@ 114.120\n",
      "Message type: open \t@ 114.120\n",
      "Message type: received \t@ 113.790\n",
      "Message type: open \t@ 113.790\n",
      "Message type: done \t@ 114.980\n",
      "Message type: done \t@ 112.540\n",
      "Message type: received \t@ 113.210\n",
      "Message type: open \t@ 113.210\n",
      "Message type: received \t@ 112.990\n",
      "Message type: open \t@ 112.990\n",
      "Message type: done \t@ 114.490\n",
      "Message type: received \t@ 114.610\n",
      "Message type: open \t@ 114.610\n",
      "Message type: received \t@ 114.590\n",
      "Message type: open \t@ 114.590\n",
      "Message type: received \t@ 114.360\n",
      "Message type: open \t@ 114.360\n",
      "Message type: received \t@ 115.020\n",
      "Message type: open \t@ 115.020\n",
      "Message type: received \t@ 114.380\n",
      "Message type: open \t@ 114.380\n",
      "Message type: done \t@ 114.180\n",
      "Message type: done \t@ 114.590\n",
      "Message type: done \t@ 114.360\n",
      "Message type: received \t@ 112.100\n",
      "Message type: open \t@ 112.100\n",
      "Message type: done \t@ 114.660\n",
      "Message type: received \t@ 114.640\n",
      "Message type: open \t@ 114.640\n",
      "Message type: done \t@ 113.480\n",
      "Message type: done \t@ 114.980\n",
      "Message type: done \t@ 114.210\n",
      "Message type: done \t@ 112.990\n",
      "Message type: done \t@ 113.210\n",
      "Message type: received \t@ 112.540\n",
      "Message type: open \t@ 112.540\n",
      "Message type: received \t@ 113.890\n",
      "Message type: open \t@ 113.890\n",
      "Message type: done \t@ 112.540\n",
      "Message type: received \t@ 113.210\n",
      "Message type: open \t@ 113.210\n",
      "Message type: received \t@ 112.990\n",
      "Message type: open \t@ 112.990\n",
      "Message type: done \t@ 114.610\n",
      "Message type: received \t@ 114.830\n",
      "Message type: open \t@ 114.830\n",
      "Message type: done \t@ 114.350\n",
      "Message type: done \t@ 112.990\n",
      "Message type: done \t@ 113.210\n",
      "Message type: received \t@ 112.540\n",
      "Message type: open \t@ 112.540\n",
      "Message type: received \t@ 114.600\n",
      "Message type: open \t@ 114.600\n",
      "Message type: done \t@ 114.380\n",
      "Message type: received \t@ 114.590\n",
      "Message type: open \t@ 114.590\n",
      "Message type: received \t@ 114.360\n",
      "Message type: open \t@ 114.360\n",
      "Message type: done \t@ 112.540\n",
      "Message type: received \t@ 112.990\n",
      "Message type: open \t@ 112.990\n",
      "Message type: received \t@ 113.210\n",
      "Message type: open \t@ 113.210\n",
      "Message type: received \t@ 114.180\n",
      "Message type: open \t@ 114.180\n",
      "Message type: done \t@ 112.990\n",
      "Message type: done \t@ 113.210\n",
      "Message type: received \t@ 112.540\n",
      "Message type: open \t@ 112.540\n",
      "Message type: done \t@ 114.590\n",
      "Message type: done \t@ 114.360\n",
      "Message type: received \t@ 114.370\n",
      "Message type: open \t@ 114.370\n",
      "Message type: done \t@ 114.180\n",
      "Message type: received \t@ 114.680\n",
      "Message type: open \t@ 114.680\n",
      "Message type: received \t@ 114.590\n",
      "Message type: open \t@ 114.590\n",
      "Message type: done \t@ 113.790\n",
      "Message type: received \t@ 114.330\n",
      "Message type: open \t@ 114.330\n",
      "Message type: done \t@ 114.590\n",
      "Message type: done \t@ 114.330\n",
      "Message type: done \t@ 114.640\n",
      "Message type: received \t@ 114.660\n",
      "Message type: open \t@ 114.660\n",
      "Message type: received \t@ 112.990\n",
      "Message type: open \t@ 112.990\n",
      "Message type: done \t@ 130.000\n",
      "Message type: received \t@ 114.590\n",
      "Message type: open \t@ 114.590\n",
      "Message type: received \t@ 114.330\n",
      "Message type: open \t@ 114.330\n",
      "Message type: done \t@ 115.190\n",
      "Message type: received \t@ 115.190\n",
      "Message type: open \t@ 115.190\n",
      "Message type: received \t@ 114.510\n",
      "Message type: open \t@ 114.510\n",
      "Message type: done \t@ 114.520\n",
      "Message type: received \t@ 113.790\n",
      "Message type: open \t@ 113.790\n",
      "Message type: received \t@ 114.450\n",
      "Message type: open \t@ 114.450\n",
      "Message type: done \t@ 114.450\n",
      "Message type: done \t@ 114.760\n",
      "Message type: done \t@ 114.070\n",
      "Message type: done \t@ 114.080\n",
      "Message type: done \t@ 114.080\n",
      "Message type: done \t@ 114.800\n",
      "Message type: done \t@ 114.800\n",
      "Message type: received \t@ 114.450\n",
      "Message type: open \t@ 114.450\n",
      "Message type: done \t@ 114.720\n",
      "Message type: done \t@ 114.180\n",
      "Message type: received \t@ 114.740\n",
      "Message type: open \t@ 114.740\n",
      "Message type: received \t@ 114.770\n",
      "Message type: open \t@ 114.770\n",
      "Message type: done \t@ 114.750\n",
      "Message type: received \t@ 114.210\n",
      "Message type: open \t@ 114.210\n",
      "Message type: done \t@ 114.140\n",
      "Message type: received \t@ 114.820\n",
      "Message type: open \t@ 114.820\n",
      "Message type: received \t@ 114.820\n",
      "Message type: open \t@ 114.820\n",
      "Message type: received \t@ 114.790\n",
      "Message type: open \t@ 114.790\n",
      "Message type: received \t@ 114.100\n",
      "Message type: open \t@ 114.100\n",
      "Message type: received \t@ 114.100\n",
      "Message type: open \t@ 114.100\n",
      "Message type: done \t@ 114.120\n",
      "Message type: received \t@ 114.110\n",
      "Message type: open \t@ 114.110\n",
      "Message type: received \t@ 114.160\n",
      "Message type: open \t@ 114.160\n",
      "Message type: done \t@ 114.210\n",
      "Message type: done \t@ 115.500\n",
      "Message type: received \t@ 115.500\n",
      "Message type: open \t@ 115.500\n",
      "Message type: received \t@ 113.890\n",
      "Message type: open \t@ 113.890\n",
      "Message type: done \t@ 112.290\n",
      "Message type: received \t@ 112.360\n",
      "Message type: open \t@ 112.360\n",
      "Message type: done \t@ 114.600\n",
      "Message type: received \t@ 114.540\n",
      "Message type: open \t@ 114.540\n",
      "Message type: done \t@ 114.590\n",
      "Message type: done \t@ 114.330\n",
      "Message type: match \t@ 114.450\n",
      "Message type: done \t@ 114.450\n",
      "Message type: match \t@ 114.450\n",
      "Message type: done \t@ 114.510\n",
      "Message type: received \t@ 114.590\n",
      "Message type: open \t@ 114.590\n",
      "Message type: done \t@ 111.080\n",
      "Message type: done \t@ 111.080\n",
      "Message type: done \t@ 111.080\n",
      "Message type: done \t@ 111.080\n",
      "Message type: received \t@ 114.590\n",
      "Message type: open \t@ 114.590\n",
      "Message type: received \t@ 114.330\n",
      "Message type: open \t@ 114.330\n",
      "Message type: done \t@ 114.660\n",
      "Message type: received \t@ 114.640\n",
      "Message type: open \t@ 114.640\n",
      "Message type: received \t@ 114.450\n",
      "Message type: open \t@ 114.450\n",
      "Message type: done \t@ 114.450\n",
      "Message type: received \t@ 114.450\n",
      "Message type: open \t@ 114.450\n"
     ]
    }
   ],
   "source": [
    "wsClient = myWebsocketClient()\n",
    "wsClient.start()\n",
    "print(wsClient.url, wsClient.products)\n",
    "#while (wsClient.message_count < 2):\n",
    "#    print (\"\\nmessage_count =\", \"{} \\n\".format(wsClient.message_count))\n",
    "#    time.sleep(1)\n",
    "wsClient.close()"
   ]
  },
  {
   "cell_type": "code",
   "execution_count": 1,
   "metadata": {},
   "outputs": [
    {
     "ename": "NameError",
     "evalue": "name 'wsClient' is not defined",
     "traceback": [
      "\u001b[0;31m---------------------------------------------------------------------------\u001b[0m",
      "\u001b[0;31mNameError\u001b[0m                                 Traceback (most recent call last)",
      "\u001b[0;32m<ipython-input-1-ad9709b12990>\u001b[0m in \u001b[0;36m<module>\u001b[0;34m()\u001b[0m\n\u001b[0;32m----> 1\u001b[0;31m \u001b[0mwsClient\u001b[0m\u001b[0;34m.\u001b[0m\u001b[0mclose\u001b[0m\u001b[0;34m(\u001b[0m\u001b[0;34m)\u001b[0m\u001b[0;34m\u001b[0m\u001b[0m\n\u001b[0m",
      "\u001b[0;31mNameError\u001b[0m: name 'wsClient' is not defined"
     ],
     "output_type": "error"
    }
   ],
   "source": [
    "wsClient.close()"
   ]
  },
  {
   "cell_type": "code",
   "execution_count": null,
   "metadata": {
    "collapsed": true
   },
   "outputs": [],
   "source": []
  }
 ],
 "metadata": {
  "kernelspec": {
   "display_name": "Python 3",
   "language": "python",
   "name": "python3"
  },
  "language_info": {
   "codemirror_mode": {
    "name": "ipython",
    "version": 3
   },
   "file_extension": ".py",
   "mimetype": "text/x-python",
   "name": "python",
   "nbconvert_exporter": "python",
   "pygments_lexer": "ipython3",
   "version": "3.6.3"
  }
 },
 "nbformat": 4,
 "nbformat_minor": 2
}
