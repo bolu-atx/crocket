{
 "cells": [
  {
   "cell_type": "code",
   "execution_count": 1,
   "metadata": {},
   "outputs": [],
   "source": [
    "import sys\n",
    "sys.path.insert(1, '/home/b3arjuden/crocket')\n",
    "\n",
    "from decimal import Decimal\n",
    "from json import load as json_load\n",
    "from os import environ\n",
    "from os.path import join\n",
    "\n",
    "from crocket.sql.sql import Database\n",
    "from crocket.utilities.passcode import AESCipher\n",
    "from crocket.utilities.credentials import get_credentials"
   ]
  },
  {
   "cell_type": "code",
   "execution_count": 2,
   "metadata": {},
   "outputs": [],
   "source": [
    "# Environment variables\n",
    "\n",
    "HOME_DIRECTORY_PATH = environ['HOME']\n",
    "CREDENTIALS_FILE_PATH = join(HOME_DIRECTORY_PATH, '.credentials_unlocked.json')\n",
    "\n",
    "HOSTNAME = 'localhost'\n",
    "DATABASE_NAME = 'BITTREX2'"
   ]
  },
  {
   "cell_type": "code",
   "execution_count": 3,
   "metadata": {},
   "outputs": [],
   "source": [
    "# Load SQL username and password\n",
    "USERNAME, PASSCODE = get_credentials(CREDENTIALS_FILE_PATH)"
   ]
  },
  {
   "cell_type": "code",
   "execution_count": 4,
   "metadata": {
    "collapsed": true
   },
   "outputs": [],
   "source": [
    "db = Database(hostname=HOSTNAME,\n",
    "              username=USERNAME,\n",
    "              password=PASSCODE,\n",
    "              database_name=DATABASE_NAME)"
   ]
  },
  {
   "cell_type": "code",
   "execution_count": 5,
   "metadata": {},
   "outputs": [],
   "source": [
    "entries = [('BTC-ADT', ('time', 'price', 'wprice', 'basevolume', 'buyorder', 'sellorder'), ('2017-11-11 07:38:31', Decimal('0.00000318'), Decimal('0.00000318'), Decimal('0.00226210'), 0, 1))]"
   ]
  },
  {
   "cell_type": "code",
   "execution_count": 6,
   "metadata": {},
   "outputs": [
    {
     "data": {
      "text/plain": [
       "('BTC-ADT',\n",
       " ('time', 'price', 'wprice', 'basevolume', 'buyorder', 'sellorder'),\n",
       " ('2017-11-11 07:38:31',\n",
       "  Decimal('0.00000318'),\n",
       "  Decimal('0.00000318'),\n",
       "  Decimal('0.00226210'),\n",
       "  0,\n",
       "  1))"
      ]
     },
     "execution_count": 6,
     "metadata": {},
     "output_type": "execute_result"
    }
   ],
   "source": [
    "entries[0]"
   ]
  },
  {
   "cell_type": "code",
   "execution_count": 7,
   "metadata": {
    "scrolled": true
   },
   "outputs": [
    {
     "name": "stdout",
     "output_type": "stream",
     "text": [
      "[('BTC-ADT', ('time', 'price', 'wprice', 'basevolume', 'buyorder', 'sellorder'), ('2017-11-11 07:38:31', Decimal('0.00000318'), Decimal('0.00000318'), Decimal('0.00226210'), 0, 1))]\n",
      "[\"INSERT INTO `BTC-ADT` (time,price,wprice,basevolume,buyorder,sellorder) VALUES ('2017-11-11 07:38:31','0.00000318','0.00000318','0.00226210','0','1')\"]\n",
      "START TRANSACTION;INSERT INTO `BTC-ADT` (time,price,wprice,basevolume,buyorder,sellorder) VALUES ('2017-11-11 07:38:31','0.00000318','0.00000318','0.00226210','0','1');COMMIT;\n"
     ]
    }
   ],
   "source": [
    "db.insert_transaction_query(entries)"
   ]
  },
  {
   "cell_type": "code",
   "execution_count": null,
   "metadata": {
    "collapsed": true
   },
   "outputs": [],
   "source": [
    "tmp = [1, 2]"
   ]
  },
  {
   "cell_type": "code",
   "execution_count": null,
   "metadata": {},
   "outputs": [],
   "source": [
    "print(','.join(map(lambda x: \"'{}'\".format(x), tmp)))"
   ]
  },
  {
   "cell_type": "code",
   "execution_count": null,
   "metadata": {
    "collapsed": true
   },
   "outputs": [],
   "source": []
  }
 ],
 "metadata": {
  "kernelspec": {
   "display_name": "Python 3",
   "language": "python",
   "name": "python3"
  },
  "language_info": {
   "codemirror_mode": {
    "name": "ipython",
    "version": 3
   },
   "file_extension": ".py",
   "mimetype": "text/x-python",
   "name": "python",
   "nbconvert_exporter": "python",
   "pygments_lexer": "ipython3",
   "version": "3.6.1"
  }
 },
 "nbformat": 4,
 "nbformat_minor": 1
}
