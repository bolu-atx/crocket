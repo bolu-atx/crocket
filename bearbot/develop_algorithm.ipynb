{
 "cells": [
  {
   "cell_type": "code",
   "execution_count": 1,
   "metadata": {
    "collapsed": true,
    "scrolled": true
   },
   "outputs": [],
   "source": [
    "import sys\n",
    "sys.path.insert(1, '/home/b3arjuden/crocket')\n",
    "\n",
    "from datetime import datetime\n",
    "from decimal import Decimal\n",
    "import itertools\n",
    "from math import floor\n",
    "from numpy import exp, linspace, median, mean, std\n",
    "from pprint import pprint\n",
    "from os import environ\n",
    "from os.path import join\n",
    "from scipy.stats import mannwhitneyu, ttest_ind, variation\n",
    "\n",
    "\n",
    "import matplotlib.pyplot as plt\n",
    "%matplotlib inline\n",
    "\n",
    "from crocket.sql.sql import Database\n",
    "from crocket.utilities.credentials import get_credentials"
   ]
  },
  {
   "cell_type": "code",
   "execution_count": 2,
   "metadata": {
    "collapsed": true
   },
   "outputs": [],
   "source": [
    "# Environment variables\n",
    "\n",
    "HOME_DIRECTORY_PATH = environ['HOME']\n",
    "CREDENTIALS_FILE_PATH = join(HOME_DIRECTORY_PATH, '.credentials_unlocked.json')\n",
    "\n",
    "HOSTNAME = 'localhost'\n",
    "DATABASE_NAME = 'TEST23'"
   ]
  },
  {
   "cell_type": "code",
   "execution_count": 3,
   "metadata": {
    "collapsed": true
   },
   "outputs": [],
   "source": [
    "# Load SQL username and password\n",
    "USERNAME, PASSCODE = get_credentials(CREDENTIALS_FILE_PATH)\n",
    "\n",
    "# Create database connection\n",
    "db = Database(hostname=HOSTNAME,\n",
    "              username=USERNAME,\n",
    "              password=PASSCODE,\n",
    "              database_name=DATABASE_NAME)"
   ]
  },
  {
   "cell_type": "code",
   "execution_count": 4,
   "metadata": {
    "collapsed": true
   },
   "outputs": [],
   "source": [
    "tables = db.get_all_tables()"
   ]
  },
  {
   "cell_type": "code",
   "execution_count": null,
   "metadata": {
    "collapsed": true
   },
   "outputs": [],
   "source": [
    "def call(time, wprice, buyvolume, buyorder, \n",
    "         duration=None, \n",
    "         price_lag_time=None, \n",
    "         price_lag_duration=None,\n",
    "         price_lag_threshold=None,\n",
    "         volume_lag_duration=None,\n",
    "         volume_lag_threshold=None,\n",
    "         profit_percent=None, \n",
    "         stop_loss_percent=None, \n",
    "         stop_gain_percent=None, \n",
    "         max_hold_time=None, \n",
    "         wait_time=None):\n",
    "    \n",
    "    calls = []\n",
    "    \n",
    "    bought = False\n",
    "    stop_gain = False\n",
    "    maximize_gain = False\n",
    "    \n",
    "    for ii in range(duration+volume_lag_duration, len(buyvolume)):\n",
    "        \n",
    "        # Action if haven't bought coin\n",
    "        if not bought:\n",
    "            \n",
    "            # No action if purchased within time of last buy\n",
    "            try:\n",
    "                if ii - calls[-1].get('start') < wait_time:\n",
    "                    continue\n",
    "            except IndexError:\n",
    "                pass\n",
    "                \n",
    "            sample_volume_mean = mean(buyvolume[ii-duration:ii])\n",
    "            volume_lag_median = median(buyvolume[ii-duration-volume_lag_duration:ii-duration])\n",
    "            \n",
    "            if sample_volume_mean > 0 and volume_lag_median < volume_lag_threshold:\n",
    "                sample_price = float(wprice[ii-1])\n",
    "                previous_price = float(mean(wprice[ii-duration-price_lag_time:ii-duration-price_lag_time+price_lag_duration]))\n",
    "\n",
    "                if sample_volume_mean > 2 and \\\n",
    "                abs((sample_price - previous_price)/previous_price) < price_lag_threshold and \\\n",
    "                sum([1 if x > 1 else 0 for x in buyvolume[ii-duration:ii]]) >= 3:\n",
    "                    \n",
    "                    bought = True\n",
    "                    calls.append({'start': ii-1,  # buy time offset by 1 minute, account for time to purchase\n",
    "                                  'time': time[ii-1],\n",
    "                                  'buy_price': float(wprice[ii-1]),\n",
    "                                  'buy_volume': sample_volume_mean,\n",
    "                                  'buy_volume_total': sum(buyvolume[ii-duration:ii])}) \n",
    "\n",
    "        # Action if have bought coin\n",
    "        else:\n",
    "            \n",
    "            # Set stop loss after X minutes after buy\n",
    "            if ii - calls[-1].get('start') > 0 and \\\n",
    "            wprice[ii] < (calls[-1].get('buy_price') * (1 - stop_loss_percent)):\n",
    "                \n",
    "                print(ii, 'Passed stop loss.')\n",
    "                calls[-1]['stop'] = ii # sell price offset by 1 minute, account for time to sell\n",
    "                calls[-1]['sell_price'] = float(wprice[ii])\n",
    "                calls[-1]['profit'] = ((calls[-1].get('sell_price') - calls[-1].get('buy_price'))/calls[-1].get('buy_price')) * 0.9975**2\n",
    "                \n",
    "                bought = False\n",
    "                stop_gain = False\n",
    "                \n",
    "                continue\n",
    "            \n",
    "            # Activate stop gain signal after passing threshold percentage\n",
    "            if wprice[ii] > (calls[-1].get('buy_price') * (stop_gain_percent + 1)):\n",
    "                stop_gain = True\n",
    "            \n",
    "            # Activate maximize gain signal after passing profit threshold\n",
    "            if wprice[ii] > (calls[-1].get('buy_price') * (profit_percent + 1)):\n",
    "                maximize_gain = True\n",
    "            \n",
    "            # Sell after hitting profit threshold followed by drop in price of X%\n",
    "            if maximize_gain:\n",
    "#                 if (wprice[ii] - wprice[ii-1])/wprice[ii-1] < -0.005 or \\\n",
    "#                 (wprice[ii] < wprice[ii-1] < wprice[ii-2]) or \\\n",
    "#                 wprice[ii] < (calls[-1].get('buy_price') * (profit_percent + 1)):\n",
    "                calls[-1]['stop'] = ii # sell price offset by 1 minute, account for time to sell\n",
    "                calls[-1]['sell_price'] = float(wprice[ii])\n",
    "                calls[-1]['profit'] = ((calls[-1].get('sell_price') - calls[-1].get('buy_price'))/calls[-1].get('buy_price')) * 0.9975**2\n",
    "\n",
    "                bought = False\n",
    "                stop_gain = False\n",
    "                maximize_gain = False\n",
    "\n",
    "                continue\n",
    "                \n",
    "            # Sell after passing max hold time\n",
    "            if not maximize_gain and \\\n",
    "            (ii - calls[-1].get('start')) > max_hold_time:\n",
    "                \n",
    "\n",
    "                calls[-1]['stop'] = ii # sell price offset by 1 minute, account for time to sell\n",
    "                calls[-1]['sell_price'] = float(wprice[ii])\n",
    "                calls[-1]['profit'] = ((calls[-1].get('sell_price') - calls[-1].get('buy_price'))/calls[-1].get('buy_price')) * 0.9975**2\n",
    "                \n",
    "                print('Passed target hold time. Time: {}, Buy: {}, Sell: {}, Profit: {}'.format(\n",
    "                    str(calls[-1].get('time')), str(calls[-1].get('buy_price')), \n",
    "                    str(calls[-1].get('sell_price')), str(calls[-1].get('profit'))))\n",
    "                \n",
    "                bought = False\n",
    "                stop_gain = False\n",
    "            \n",
    "            # Sell after detecting stop gain signal and price drop below stop gain price\n",
    "            elif stop_gain and wprice[ii] < (calls[-1].get('buy_price') * (stop_gain_percent + 1)):\n",
    "                \n",
    "                #print(ii, 'Passed stop gain then below stop gain, exited.')\n",
    "                calls[-1]['stop'] = ii # sell price offset by 1 minute, account for time to sell\n",
    "                calls[-1]['sell_price'] = float(wprice[ii])\n",
    "                calls[-1]['profit'] = ((calls[-1].get('sell_price') - calls[-1].get('buy_price'))/calls[-1].get('buy_price')) * 0.9975**2\n",
    "\n",
    "                bought = False\n",
    "                stop_gain = False\n",
    "                maximize_gain = False\n",
    "    \n",
    "    return calls"
   ]
  },
  {
   "cell_type": "code",
   "execution_count": 7,
   "metadata": {
    "collapsed": true
   },
   "outputs": [],
   "source": [
    "def run_algorithm(data, status,\n",
    "                  duration=3,\n",
    "                  price_lag_time=30,\n",
    "                  price_lag_duration=5,\n",
    "                  price_lag_threshold=0.05,\n",
    "                  volume_lag_duration=60,\n",
    "                  volume_lag_threshold=30,\n",
    "                  profit_percent=0.05,\n",
    "                  stop_loss_percent=0.01,\n",
    "                  stop_gain_percent=0.01,\n",
    "                  max_hold_time=14400,\n",
    "                  wait_time=14400,\n",
    "                  digits=Decimal('1e-8')):\n",
    "\n",
    "    time = data.get('datetime')\n",
    "    buyvolume = data.get('buy_volume')\n",
    "    sellvolume = data.get('sell_volume')\n",
    "    wprice = data.get('wprice')\n",
    "\n",
    "    current_time = time[-1]\n",
    "    current_price = wprice[-1]\n",
    "\n",
    "    last_buy_time_difference = (current_time - status.get('last_buy').get('start')).total_seconds()\n",
    "\n",
    "    # Action if haven't bought coin\n",
    "    if not status.get('bought'):\n",
    "\n",
    "        # No action if purchased within time of last buy\n",
    "        if last_buy_time_difference < wait_time:\n",
    "            return status\n",
    "\n",
    "        sample_volume_mean = mean(buyvolume[-duration:])\n",
    "        volume_lag_total = sum(buyvolume[-(duration + volume_lag_duration):-duration])\n",
    "\n",
    "        if sample_volume_mean > 0 and volume_lag_total < volume_lag_threshold:\n",
    "            previous_price = Decimal(\n",
    "                mean(wprice[-(duration + price_lag_time):-(duration + price_lag_time - price_lag_duration)])).quantize(digits)\n",
    "\n",
    "            if sample_volume_mean > 2 and \\\n",
    "                    abs((current_price - previous_price) / previous_price) < price_lag_threshold and \\\n",
    "                    sum([1 if x > 1 else 0 for x in buyvolume[-duration:]]) >= 3:\n",
    "                # TODO: MAKE API CALL TO BUY (wrap in try)\n",
    "                status['bought'] = True\n",
    "                status['current_buy'] = {'start': current_time,\n",
    "                                         'buy_price': current_price,\n",
    "                                         'buy_volume': sample_volume_mean,\n",
    "                                         'last30_buyvolume': sum(buyvolume[-33:-3]),\n",
    "                                         'last60_buyvolume': sum(buyvolume[-63:-3]),\n",
    "                                         'last30_sellvolume': sum(sellvolume[-33:-3]),\n",
    "                                         'last60_sellvolume': sum(sellvolume[-63:-3])}\n",
    "\n",
    "    # Action if have bought coin\n",
    "    else:\n",
    "        current_buy = status.get('current_buy')\n",
    "        current_buy_hold_time = (current_time - current_buy.get('start')).total_seconds()\n",
    "\n",
    "        stop_gain_threshold = (current_buy.get('buy_price') * Decimal(stop_gain_percent + 1)).quantize(digits)\n",
    "\n",
    "        # Activate stop gain signal after passing threshold percentage\n",
    "        if current_price > stop_gain_threshold:\n",
    "            status['stop_gain'] = True\n",
    "\n",
    "        # Activate maximize gain signal after passing profit threshold\n",
    "        if current_price > (current_buy.get('buy_price') * Decimal(profit_percent + 1)).quantize(digits):\n",
    "            status['maximize_gain'] = True\n",
    "\n",
    "        # Sell if hit stop loss\n",
    "        # Sell after hitting profit threshold followed by drop in price of X%\n",
    "        # Sell after passing max hold time\n",
    "        # Sell after detecting stop gain signal and price drop below stop gain price\n",
    "        if (current_price < (current_buy.get('buy_price') * Decimal(1 - stop_loss_percent)).quantize(digits)) or \\\n",
    "                status.get('maximize_gain') or \\\n",
    "                current_buy_hold_time > max_hold_time or \\\n",
    "                (status.get('stop_gain') and current_price < stop_gain_threshold):\n",
    "            # TODO: MAKE API CALL TO SELL (wrap in try)\n",
    "            status['current_buy']['stop'] = current_time\n",
    "\n",
    "            buy_price = current_buy.get('buy_price')\n",
    "\n",
    "            status['current_buy']['sell_price'] = current_price\n",
    "            status['current_buy']['profit'] = (((current_price - buy_price) / buy_price) * Decimal(0.995)).quantize(digits)\n",
    "\n",
    "            status['bought'] = False\n",
    "            status['stop_gain'] = False\n",
    "            status['maximize_gain'] = False\n",
    "\n",
    "            status['last_buy'] = {'start': current_buy.get('start'),\n",
    "                                  'buy_price': buy_price}\n",
    "\n",
    "    return status"
   ]
  },
  {
   "cell_type": "code",
   "execution_count": 8,
   "metadata": {
    "collapsed": true
   },
   "outputs": [],
   "source": [
    "def benchmark(skip_list, params):\n",
    "    \n",
    "    markets = db.get_all_tables()\n",
    "    \n",
    "    running_data = {}\n",
    "    status = {}\n",
    "    all_calls = {}\n",
    "    \n",
    "    bought_time = datetime(2017, 11, 11, 11, 11).astimezone(tz=None)\n",
    "\n",
    "    last_buy = {'start': bought_time,\n",
    "                'buy_price': 0}\n",
    "    \n",
    "    total_profit = 0\n",
    "    \n",
    "    for market in markets:\n",
    "        status[market] = {'bought': False,\n",
    "                          'last_buy': last_buy,\n",
    "                          'current_buy': {},\n",
    "                          'stop_gain': False,\n",
    "                          'maximize_gain': False}\n",
    "\n",
    "        running_data[market] = {'datetime': [],\n",
    "                        'wprice': [],\n",
    "                        'buy_volume': [],\n",
    "                        'sell_volume': []}\n",
    "        \n",
    "        all_calls[market] = []\n",
    "        \n",
    "    for market in markets:\n",
    "        \n",
    "        if market not in skip_list:\n",
    "            data = db.select_query(market, '*')\n",
    "            \n",
    "            if data:\n",
    "                time, price, wprice, volume, buyvolume, sellvolume, buyorder, sellorder = zip(*data)\n",
    "                \n",
    "                time = [x.astimezone(tz=None) for x in time]\n",
    "                \n",
    "                for ind in range(90, len(volume)):\n",
    "                    running_data[market]['datetime'] = time[ind-90:ind]\n",
    "                    running_data[market]['wprice'] = wprice[ind-90:ind]\n",
    "                    running_data[market]['buy_volume'] = buyvolume[ind-90:ind]\n",
    "                    running_data[market]['sell_volume'] = sellvolume[ind-90:ind]\n",
    "                    \n",
    "                    status[market] = run_algorithm(running_data.get(market), status.get(market))\n",
    "                    \n",
    "                    completed_buy = status.get(market).get('current_buy')\n",
    "                    \n",
    "                    if completed_buy.get('profit'):\n",
    "                        \n",
    "                        status[market]['current_buy'] = {}\n",
    "                        all_calls[market].append(completed_buy)\n",
    "                        \n",
    "                        \n",
    "                if all_calls.get(market):\n",
    "                    profit = sum([x.get('profit') for x in all_calls.get(market) if 'profit' in x])\n",
    "                    print('For {}, profit: {}'.format(market, str(profit)))\n",
    "                    \n",
    "                    total_profit += profit\n",
    "    \n",
    "    print('Total profit: {}'.format(total_profit))\n",
    "    \n",
    "    return all_calls"
   ]
  },
  {
   "cell_type": "code",
   "execution_count": 9,
   "metadata": {
    "scrolled": true
   },
   "outputs": [
    {
     "name": "stdout",
     "output_type": "stream",
     "text": [
      "For BTC-ADA, profit: 0.01702909\n",
      "For BTC-ADX, profit: -0.01052404\n",
      "For BTC-AGRS, profit: -0.02936602\n",
      "For BTC-ARDR, profit: 0.04307815\n",
      "For BTC-ARK, profit: -0.01681531\n",
      "For BTC-BCC, profit: -0.01319082\n",
      "For BTC-BTG, profit: 0.06291433\n",
      "For BTC-CFI, profit: 0.07372787\n",
      "For BTC-CVC, profit: -0.02104739\n",
      "For BTC-DASH, profit: -0.01953494\n",
      "For BTC-EDG, profit: -0.00649000\n",
      "For BTC-EMC2, profit: -0.05602240\n",
      "For BTC-ETC, profit: -0.00787778\n",
      "For BTC-GNT, profit: 0.00946686\n",
      "For BTC-GRS, profit: -0.02765125\n",
      "For BTC-IOP, profit: -0.01151492\n",
      "For BTC-KMD, profit: -0.02162131\n",
      "For BTC-LSK, profit: 0.04588792\n",
      "For BTC-LTC, profit: -0.00297139\n",
      "For BTC-MCO, profit: 0.05601823\n",
      "For BTC-MER, profit: -0.03053668\n",
      "For BTC-MONA, profit: -0.02187295\n",
      "For BTC-MTL, profit: 0.00764914\n",
      "For BTC-NAV, profit: 0.11832990\n",
      "For BTC-NEO, profit: 0.00500587\n",
      "For BTC-OK, profit: -0.01144556\n",
      "For BTC-OMG, profit: -0.03753836\n",
      "For BTC-PAY, profit: -0.00469971\n",
      "For BTC-PIVX, profit: 0.00949732\n",
      "For BTC-POT, profit: -0.02153783\n",
      "For BTC-POWR, profit: -0.02339781\n",
      "For BTC-QTUM, profit: 0.00537851\n",
      "For BTC-RBY, profit: -0.00761140\n",
      "For BTC-RCN, profit: -0.01946266\n",
      "For BTC-REP, profit: -0.02717007\n",
      "For BTC-RISE, profit: 0.00605204\n",
      "For BTC-SALT, profit: -0.01121255\n",
      "For BTC-SC, profit: 0.20270182\n",
      "For BTC-SHIFT, profit: -0.03167766\n",
      "For BTC-SNT, profit: -0.04939522\n",
      "For BTC-STEEM, profit: 0.00710765\n",
      "For BTC-STORJ, profit: -0.01946805\n",
      "For BTC-STRAT, profit: -0.00988164\n",
      "For BTC-SYS, profit: 0.03947526\n",
      "For BTC-TRIG, profit: -0.00265392\n",
      "For BTC-VOX, profit: 0.05669209\n",
      "For BTC-VTC, profit: 0.02670349\n",
      "For BTC-WAVES, profit: 0.00725506\n",
      "For BTC-XEM, profit: 0.00346954\n",
      "For BTC-XLM, profit: -0.04857459\n",
      "For BTC-XMR, profit: 0.02262988\n",
      "For BTC-XRP, profit: -0.04709871\n",
      "For BTC-XVG, profit: 0.03251110\n",
      "For BTC-XZC, profit: 0.00811675\n",
      "For BTC-ZEC, profit: -0.03166431\n",
      "Total profit: 0.16517062\n"
     ]
    }
   ],
   "source": [
    "skip_list = ['BTC-BCC', 'BTC-ETH', 'BTC-LSK', 'BTC-NEO', 'BTC-XRP', 'BTC-LTC']\n",
    "\n",
    "\n",
    "calls = benchmark([])"
   ]
  },
  {
   "cell_type": "code",
   "execution_count": null,
   "metadata": {
    "collapsed": true
   },
   "outputs": [],
   "source": [
    "pos_calls = []\n",
    "neg_calls = []\n",
    "\n",
    "for k in calls.keys():\n",
    "    \n",
    "    for c in calls.get(k):\n",
    "        \n",
    "        if c.get('profit') > 0.05:\n",
    "            \n",
    "            pos_calls.append(c)\n",
    "        \n",
    "        else:\n",
    "            \n",
    "            neg_calls.append(c)"
   ]
  },
  {
   "cell_type": "code",
   "execution_count": 20,
   "metadata": {},
   "outputs": [
    {
     "name": "stdout",
     "output_type": "stream",
     "text": [
      "Total profit: 0.26546595\n",
      "Number of calls: 141\n"
     ]
    }
   ],
   "source": [
    "total_profit = []\n",
    "all_calls = []\n",
    "\n",
    "for k in calls.keys():\n",
    "    \n",
    "    for x in calls.get(k):\n",
    "        \n",
    "        if x.get('last60_buyvolume') < 25:\n",
    "            x['market'] = k\n",
    "            total_profit.append(x.get('profit'))\n",
    "            all_calls.append(x)\n",
    "        \n",
    "print('Total profit: {}'.format(str(sum(total_profit))))\n",
    "print('Number of calls: {}'.format(str(len(total_profit))))"
   ]
  },
  {
   "cell_type": "code",
   "execution_count": null,
   "metadata": {},
   "outputs": [],
   "source": [
    "total_profit = []\n",
    "all_calls = []\n",
    "\n",
    "for k in calls.keys():\n",
    "    \n",
    "    for x in calls.get(k):\n",
    "        \n",
    "        if x.get('last60_sellvolume') < 30 and x.get('last60_buyvolume') < 30:\n",
    "            x['market'] = k\n",
    "            total_profit.append(x.get('profit'))\n",
    "            all_calls.append(x)\n",
    "        \n",
    "print('Total profit: {}'.format(str(sum(total_profit))))\n",
    "print('Number of calls: {}'.format(str(len(total_profit))))"
   ]
  },
  {
   "cell_type": "code",
   "execution_count": null,
   "metadata": {
    "collapsed": true
   },
   "outputs": [],
   "source": [
    "[(x.get('market'), x.get('profit'), x.get('start')) for x in all_calls]"
   ]
  },
  {
   "cell_type": "code",
   "execution_count": null,
   "metadata": {
    "collapsed": true
   },
   "outputs": [],
   "source": []
  },
  {
   "cell_type": "code",
   "execution_count": null,
   "metadata": {
    "collapsed": true
   },
   "outputs": [],
   "source": [
    "max(x1 + x2)"
   ]
  },
  {
   "cell_type": "code",
   "execution_count": null,
   "metadata": {
    "collapsed": true
   },
   "outputs": [],
   "source": [
    "field = 'last60_sellvolume'\n",
    "x1 = [float(x.get(field)) for x in pos_calls]\n",
    "x2 = [float(x.get(field)) for x in neg_calls]\n",
    "\n",
    "bins = linspace(0, 150, 100)\n",
    "\n",
    "plt.hist(x1, bins, alpha=0.6, color='b', label='POS')\n",
    "plt.hist(x2, bins, alpha=0.3, color='r', label='NEG')\n",
    "plt.show()"
   ]
  },
  {
   "cell_type": "code",
   "execution_count": null,
   "metadata": {
    "collapsed": true
   },
   "outputs": [],
   "source": [
    "list(itertools.chain.from_iterable([[calls.get(k)] for k in calls]))"
   ]
  },
  {
   "cell_type": "code",
   "execution_count": null,
   "metadata": {
    "scrolled": true
   },
   "outputs": [],
   "source": [
    "for k in sorted(calls.keys()):\n",
    "    \n",
    "    if calls.get(k):\n",
    "        print('{}: total profit: {}, loss: {}, calls: {}, calls @ profit threshold: {}'.format(\n",
    "            k, str(sum([x.get('profit') for x in calls[k] if 'profit' in x])), str(sum([x.get('profit') for x in calls[k] if 'profit' in x and x.get('profit') < 0])), \n",
    "            len(calls[k]), str(len([x for x in calls[k] if 'profit' in x and x.get('profit') > 0.05]))))"
   ]
  },
  {
   "cell_type": "code",
   "execution_count": null,
   "metadata": {
    "collapsed": true,
    "scrolled": true
   },
   "outputs": [],
   "source": [
    "mv = {'loss': [],\n",
    "      'gain': []}\n",
    "\n",
    "tv = {'loss': [],\n",
    "      'gain': []}\n",
    "\n",
    "tp = [0 for x in range(50)]\n",
    "\n",
    "for k in sorted(calls.keys()):\n",
    "    \n",
    "    for e in calls.get(k):\n",
    "        \n",
    "        if e.get('profit') <= 0.02:\n",
    "            mv['loss'].append(float(e.get('buy_volume')))\n",
    "            tv['loss'].append(float(e.get('buy_volume_total')))\n",
    "        else:\n",
    "            mv['gain'].append(float(e.get('buy_volume')))\n",
    "            tv['gain'].append(float(e.get('buy_volume_total')))\n",
    "            \n",
    "        tmp = floor(float(e.get('buy_volume_total')))\n",
    "\n",
    "        tp[tmp] += float(e.get('profit'))\n",
    "            \n",
    "        print('{}: profit: {}, mean_volume: {}, total_volume: {}'.format(\n",
    "            k, str(e.get('profit')), str(e.get('buy_volume')), str(e.get('buy_volume_total'))))"
   ]
  },
  {
   "cell_type": "code",
   "execution_count": null,
   "metadata": {
    "collapsed": true
   },
   "outputs": [],
   "source": [
    "calls.get('BTC-TIX')"
   ]
  },
  {
   "cell_type": "code",
   "execution_count": null,
   "metadata": {
    "collapsed": true
   },
   "outputs": [],
   "source": [
    "for ii in range(17, 29):\n",
    "\n",
    "    orders = list(itertools.chain.from_iterable([[x for x in calls.get(y) if 0 < (x.get('time')-datetime(2017, 11, ii, 20, 14)).total_seconds() < 86400] \n",
    "                  for y in calls]))\n",
    "    \n",
    "    print('11/{}: {} orders, profit: {}'.format(str(ii), str(len(orders)), str(sum([x.get('profit') for x in orders if x.get('profit')]))))\n",
    "    \n",
    "    #pprint(sorted([(x.get('time'), x.get('profit')) for x in orders]))"
   ]
  },
  {
   "cell_type": "code",
   "execution_count": null,
   "metadata": {
    "collapsed": true
   },
   "outputs": [],
   "source": [
    "for x in sorted(calls.keys()):\n",
    "    \n",
    "    pprint((x, calls.get(x)))"
   ]
  },
  {
   "cell_type": "code",
   "execution_count": null,
   "metadata": {
    "collapsed": true,
    "scrolled": true
   },
   "outputs": [],
   "source": [
    "data = db.select_query('BTC-BAY', '*')\n",
    "\n",
    "time, price, wprice, volume, buyvolume, sellvolume, buyorder, sellorder = zip(*data)\n",
    "\n",
    "calls = call(time, wprice, buyvolume, buyorder,\n",
    "                             duration=params.get('duration'),\n",
    "                             price_lag_time=params.get('price_lag_time'),\n",
    "                             price_lag_duration=params.get('price_lag_duration'),\n",
    "                             price_lag_threshold=params.get('price_lag_threshold'),\n",
    "                             volume_lag_duration=params.get('volume_lag_duration'),\n",
    "                             volume_lag_threshold=params.get('volume_lag_threshold'),\n",
    "                             profit_percent=params.get('profit_percent'),\n",
    "                             stop_loss_percent=params.get('stop_loss_percent'),\n",
    "                             stop_gain_percent=params.get('stop_gain_percent'),\n",
    "                             max_hold_time=params.get('max_hold_time'),\n",
    "                             wait_time=params.get('wait_time'))"
   ]
  },
  {
   "cell_type": "code",
   "execution_count": null,
   "metadata": {
    "collapsed": true,
    "scrolled": true
   },
   "outputs": [],
   "source": [
    "calls"
   ]
  },
  {
   "cell_type": "code",
   "execution_count": null,
   "metadata": {
    "collapsed": true,
    "scrolled": true
   },
   "outputs": [],
   "source": [
    "for table in tables:\n",
    "    \n",
    "    data = db.select_query(table, '*')\n",
    "\n",
    "    time, price, wprice, volume, buyvolume, sellvolume, buyorder, sellorder = zip(*data)\n",
    "    \n",
    "    ind = [i for i in range(duration, len(buyvolume)) if mean(buyvolume[i-duration:i]) > 2 \n",
    "           and variation(buyvolume[i-duration:i]) < 1\n",
    "           and all([1 if x > 1 else 0 for x in buyvolume[i-duration:i]])]\n",
    "    \n",
    "    if ind:\n",
    "        print('Found {} hits for {}: {}'.format(str(len(ind)), table, ','.join(map(str, ind))))\n",
    "        plt.plot(range(len(time)), wprice, markevery=ind, marker='o', markerfacecolor='r', markersize=10)\n",
    "        plt.show()\n",
    "        plt.plot(range(len(time)), buyvolume, markevery=ind, marker='o', markerfacecolor='r', markersize=10)\n",
    "        plt.show()\n",
    "        for i in ind:\n",
    "            print(i, buyvolume[i-duration:i])\n",
    "            print(i, time[i])\n",
    "        input('NEXT')\n",
    "    else:\n",
    "        print('No hits found for {}'.format(table))"
   ]
  }
 ],
 "metadata": {
  "kernelspec": {
   "display_name": "Python 3",
   "language": "python",
   "name": "python3"
  },
  "language_info": {
   "codemirror_mode": {
    "name": "ipython",
    "version": 3
   },
   "file_extension": ".py",
   "mimetype": "text/x-python",
   "name": "python",
   "nbconvert_exporter": "python",
   "pygments_lexer": "ipython3",
   "version": "3.6.1"
  }
 },
 "nbformat": 4,
 "nbformat_minor": 1
}
