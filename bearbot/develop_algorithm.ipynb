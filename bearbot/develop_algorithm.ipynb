{
 "cells": [
  {
   "cell_type": "code",
   "execution_count": 1,
   "metadata": {
    "collapsed": true,
    "scrolled": true
   },
   "outputs": [],
   "source": [
    "import sys\n",
    "sys.path.insert(1, '/home/b3arjuden/crocket_tmp/crocket')\n",
    "\n",
    "from datetime import datetime\n",
    "import itertools\n",
    "from math import floor\n",
    "from numpy import exp, linspace, median, mean, std\n",
    "from pprint import pprint\n",
    "from os import environ\n",
    "from os.path import join\n",
    "from scipy.stats import mannwhitneyu, ttest_ind, variation\n",
    "\n",
    "\n",
    "import matplotlib.pyplot as plt\n",
    "%matplotlib inline\n",
    "\n",
    "from crocket.sql.sql import Database\n",
    "from crocket.utilities.credentials import get_credentials"
   ]
  },
  {
   "cell_type": "code",
   "execution_count": 2,
   "metadata": {
    "collapsed": true
   },
   "outputs": [],
   "source": [
    "# Environment variables\n",
    "\n",
    "HOME_DIRECTORY_PATH = environ['HOME']\n",
    "CREDENTIALS_FILE_PATH = join(HOME_DIRECTORY_PATH, '.credentials_unlocked.json')\n",
    "\n",
    "HOSTNAME = 'localhost'\n",
    "DATABASE_NAME = 'BITTREX3'"
   ]
  },
  {
   "cell_type": "code",
   "execution_count": 3,
   "metadata": {
    "collapsed": true
   },
   "outputs": [],
   "source": [
    "# Load SQL username and password\n",
    "USERNAME, PASSCODE = get_credentials(CREDENTIALS_FILE_PATH)\n",
    "\n",
    "# Create database connection\n",
    "db = Database(hostname=HOSTNAME,\n",
    "              username=USERNAME,\n",
    "              password=PASSCODE,\n",
    "              database_name=DATABASE_NAME)"
   ]
  },
  {
   "cell_type": "code",
   "execution_count": 4,
   "metadata": {
    "collapsed": true
   },
   "outputs": [],
   "source": [
    "tables = db.get_all_tables()"
   ]
  },
  {
   "cell_type": "code",
   "execution_count": 5,
   "metadata": {
    "collapsed": true
   },
   "outputs": [],
   "source": [
    "def call(time, wprice, buyvolume, buyorder, \n",
    "         duration=None, \n",
    "         price_lag_time=None, \n",
    "         price_lag_duration=None,\n",
    "         price_lag_threshold=None,\n",
    "         volume_lag_duration=None,\n",
    "         volume_lag_threshold=None,\n",
    "         profit_percent=None, \n",
    "         stop_loss_percent=None, \n",
    "         stop_gain_percent=None, \n",
    "         max_hold_time=None, \n",
    "         wait_time=None):\n",
    "    \n",
    "    calls = []\n",
    "    \n",
    "    bought = False\n",
    "    stop_gain = False\n",
    "    maximize_gain = False\n",
    "    \n",
    "    for ii in range(duration+volume_lag_duration, len(buyvolume)):\n",
    "        \n",
    "        # Action if haven't bought coin\n",
    "        if not bought:\n",
    "            \n",
    "            # No action if purchased within time of last buy\n",
    "            try:\n",
    "                if ii - calls[-1].get('start') < wait_time:\n",
    "                    continue\n",
    "            except IndexError:\n",
    "                pass\n",
    "                \n",
    "            sample_volume_mean = mean(buyvolume[ii-duration:ii])\n",
    "            volume_lag_median = median(buyvolume[ii-duration-volume_lag_duration:ii-duration])\n",
    "            \n",
    "            if sample_volume_mean > 0 and volume_lag_median < volume_lag_threshold:\n",
    "                sample_price = float(wprice[ii-1])\n",
    "                previous_price = float(mean(wprice[ii-duration-price_lag_time:ii-duration-price_lag_time+price_lag_duration]))\n",
    "\n",
    "                if sample_volume_mean > 2 and \\\n",
    "                abs((sample_price - previous_price)/previous_price) < price_lag_threshold and \\\n",
    "                sum([1 if x > 1 else 0 for x in buyvolume[ii-duration:ii]]) >= 3:\n",
    "                    \n",
    "                    bought = True\n",
    "                    calls.append({'start': ii,  # buy time offset by 1 minute, account for time to purchase\n",
    "                                  'time': time[ii],\n",
    "                                  'buy_price': float(wprice[ii]),\n",
    "                                  'buy_volume': sample_volume_mean,\n",
    "                                  'buy_volume_total': sum(buyvolume[ii-duration:ii])}) \n",
    "\n",
    "        # Action if have bought coin\n",
    "        else:\n",
    "            \n",
    "            # Set stop loss after X minutes after buy\n",
    "            if ii - calls[-1].get('start') > 0 and \\\n",
    "            wprice[ii] < (calls[-1].get('buy_price') * (1 - stop_loss_percent)):\n",
    "                \n",
    "                print(ii, 'Passed stop loss.')\n",
    "                calls[-1]['stop'] = ii + 1 # sell price offset by 1 minute, account for time to sell\n",
    "                calls[-1]['sell_price'] = float(wprice[ii+1])\n",
    "                calls[-1]['profit'] = ((calls[-1].get('sell_price') - calls[-1].get('buy_price'))/calls[-1].get('buy_price')) * 0.9975**2\n",
    "                \n",
    "                bought = False\n",
    "                stop_gain = False\n",
    "                \n",
    "                continue\n",
    "            \n",
    "            # Activate stop gain signal after passing threshold percentage\n",
    "            if wprice[ii] > (calls[-1].get('buy_price') * (stop_gain_percent + 1)):\n",
    "                stop_gain = True\n",
    "            \n",
    "            # Activate maximize gain signal after passing profit threshold\n",
    "            if wprice[ii] > (calls[-1].get('buy_price') * (profit_percent + 1)):\n",
    "                maximize_gain = True\n",
    "            \n",
    "            # Sell after hitting profit threshold followed by drop in price of X%\n",
    "            if maximize_gain:\n",
    "#                 if (wprice[ii] - wprice[ii-1])/wprice[ii-1] < -0.005 or \\\n",
    "#                 (wprice[ii] < wprice[ii-1] < wprice[ii-2]) or \\\n",
    "#                 wprice[ii] < (calls[-1].get('buy_price') * (profit_percent + 1)):\n",
    "                calls[-1]['stop'] = ii + 1 # sell price offset by 1 minute, account for time to sell\n",
    "                calls[-1]['sell_price'] = float(wprice[ii+1])\n",
    "                calls[-1]['profit'] = ((calls[-1].get('sell_price') - calls[-1].get('buy_price'))/calls[-1].get('buy_price')) * 0.9975**2\n",
    "\n",
    "                bought = False\n",
    "                stop_gain = False\n",
    "                maximize_gain = False\n",
    "\n",
    "                continue\n",
    "                \n",
    "            # Sell after passing max hold time\n",
    "            if not maximize_gain and \\\n",
    "            (ii - calls[-1].get('start')) > max_hold_time:\n",
    "                \n",
    "\n",
    "                calls[-1]['stop'] = ii + 1 # sell price offset by 1 minute, account for time to sell\n",
    "                calls[-1]['sell_price'] = float(wprice[ii+1])\n",
    "                calls[-1]['profit'] = ((calls[-1].get('sell_price') - calls[-1].get('buy_price'))/calls[-1].get('buy_price')) * 0.9975**2\n",
    "                \n",
    "                print('Passed target hold time. Time: {}, Buy: {}, Sell: {}, Profit: {}'.format(\n",
    "                    str(calls[-1].get('time')), str(calls[-1].get('buy_price')), \n",
    "                    str(calls[-1].get('sell_price')), str(calls[-1].get('profit'))))\n",
    "                \n",
    "                bought = False\n",
    "                stop_gain = False\n",
    "            \n",
    "            # Sell after detecting stop gain signal and price drop below stop gain price\n",
    "            elif stop_gain and wprice[ii] < (calls[-1].get('buy_price') * (stop_gain_percent + 1)):\n",
    "                \n",
    "                #print(ii, 'Passed stop gain then below stop gain, exited.')\n",
    "                calls[-1]['stop'] = ii + 1 # sell price offset by 1 minute, account for time to sell\n",
    "                calls[-1]['sell_price'] = float(wprice[ii+1])\n",
    "                calls[-1]['profit'] = ((calls[-1].get('sell_price') - calls[-1].get('buy_price'))/calls[-1].get('buy_price')) * 0.9975**2\n",
    "\n",
    "                bought = False\n",
    "                stop_gain = False\n",
    "                maximize_gain = False\n",
    "    \n",
    "    return calls"
   ]
  },
  {
   "cell_type": "code",
   "execution_count": 7,
   "metadata": {
    "collapsed": true
   },
   "outputs": [],
   "source": [
    "def benchmark(skip_list, params):\n",
    "    \n",
    "    tables = db.get_all_tables()\n",
    "    \n",
    "    all_calls = {}\n",
    "    \n",
    "    total_profit = 0\n",
    "    \n",
    "    for table in tables:\n",
    "        \n",
    "        if table not in skip_list:\n",
    "            data = db.select_query(table, '*', 'where time < \"2017/11/27 20:14:00\"')\n",
    "            \n",
    "            if data:\n",
    "                time, price, wprice, volume, buyvolume, sellvolume, buyorder, sellorder = zip(*data)\n",
    "\n",
    "                calls = call(time, wprice, buyvolume, buyorder,\n",
    "                             duration=params.get('duration'),\n",
    "                             price_lag_time=params.get('price_lag_time'),\n",
    "                             price_lag_duration=params.get('price_lag_duration'),\n",
    "                             price_lag_threshold=params.get('price_lag_threshold'),\n",
    "                             volume_lag_duration=params.get('volume_lag_duration'),\n",
    "                             volume_lag_threshold=params.get('volume_lag_threshold'),\n",
    "                             profit_percent=params.get('profit_percent'),\n",
    "                             stop_loss_percent=params.get('stop_loss_percent'),\n",
    "                             stop_gain_percent=params.get('stop_gain_percent'),\n",
    "                             max_hold_time=params.get('max_hold_time'),\n",
    "                             wait_time=params.get('wait_time'))\n",
    "\n",
    "                if calls:\n",
    "                    all_calls[table] = calls\n",
    "                    profit = sum([x.get('profit') for x in calls if 'profit' in x])\n",
    "                    print('For {}, profit: {}'.format(table, str(profit)))\n",
    "\n",
    "                    total_profit += profit\n",
    "    \n",
    "    print('Total profit: {}'.format(total_profit))\n",
    "    \n",
    "    return all_calls"
   ]
  },
  {
   "cell_type": "code",
   "execution_count": 8,
   "metadata": {
    "scrolled": false
   },
   "outputs": [
    {
     "name": "stdout",
     "output_type": "stream",
     "text": [
      "Passed target hold time. Time: 2017-11-24 05:15:00, Buy: 3.37e-06, Sell: 3.43e-06, Profit: 0.017715244807121742\n",
      "10101 Passed stop loss.\n",
      "10837 Passed stop loss.\n",
      "11745 Passed stop loss.\n",
      "12542 Passed stop loss.\n",
      "12840 Passed stop loss.\n",
      "14163 Passed stop loss.\n",
      "14398 Passed stop loss.\n",
      "For BTC-ADA, profit: 0.30622059818002845\n",
      "12994 Passed stop loss.\n",
      "For BTC-ADX, profit: -0.018850718840903904\n",
      "For BTC-ARDR, profit: 0.08451241325023495\n",
      "1634 Passed stop loss.\n",
      "12119 Passed stop loss.\n",
      "12520 Passed stop loss.\n",
      "13619 Passed stop loss.\n",
      "For BTC-ARK, profit: -0.011256705583891469\n",
      "10570 Passed stop loss.\n",
      "12635 Passed stop loss.\n",
      "For BTC-BAY, profit: 0.19894632922095112\n",
      "12890 Passed stop loss.\n",
      "For BTC-BLK, profit: -0.01796728112175113\n",
      "13312 Passed stop loss.\n",
      "13760 Passed stop loss.\n",
      "For BTC-CFI, profit: -0.088153697072978\n",
      "3741 Passed stop loss.\n",
      "6463 Passed stop loss.\n",
      "8475 Passed stop loss.\n",
      "13076 Passed stop loss.\n",
      "For BTC-CLUB, profit: 0.26263017501773345\n",
      "3226 Passed stop loss.\n",
      "12307 Passed stop loss.\n",
      "For BTC-CVC, profit: -0.024518551335623043\n",
      "51 Passed stop loss.\n",
      "2304 Passed stop loss.\n",
      "3979 Passed stop loss.\n",
      "4482 Passed stop loss.\n",
      "6313 Passed stop loss.\n",
      "8225 Passed stop loss.\n",
      "8510 Passed stop loss.\n",
      "For BTC-DASH, profit: 0.2296587295882579\n",
      "8727 Passed stop loss.\n",
      "9536 Passed stop loss.\n",
      "12193 Passed stop loss.\n",
      "12822 Passed stop loss.\n",
      "For BTC-DCR, profit: 0.09592790959959144\n",
      "13144 Passed stop loss.\n",
      "For BTC-DGD, profit: -0.004739166781257047\n",
      "3640 Passed stop loss.\n",
      "For BTC-DNT, profit: -0.028702103365384746\n",
      "6902 Passed stop loss.\n",
      "For BTC-DOGE, profit: 0.03826947115384619\n",
      "2129 Passed stop loss.\n",
      "3103 Passed stop loss.\n",
      "3482 Passed stop loss.\n",
      "7915 Passed stop loss.\n",
      "9218 Passed stop loss.\n",
      "10270 Passed stop loss.\n",
      "10832 Passed stop loss.\n",
      "11352 Passed stop loss.\n",
      "11614 Passed stop loss.\n",
      "12350 Passed stop loss.\n",
      "13180 Passed stop loss.\n",
      "13452 Passed stop loss.\n",
      "For BTC-EMC2, profit: 0.007367835208003576\n",
      "Passed target hold time. Time: 2017-11-20 15:48:00, Buy: 0.00223927, Sell: 0.00226997, Profit: 0.013641361637944625\n",
      "7615 Passed stop loss.\n",
      "8382 Passed stop loss.\n",
      "9060 Passed stop loss.\n",
      "10160 Passed stop loss.\n",
      "10574 Passed stop loss.\n",
      "10867 Passed stop loss.\n",
      "Passed target hold time. Time: 2017-11-25 17:28:00, Buy: 0.00237778, Sell: 0.00239939, Profit: 0.00904292451887897\n",
      "11839 Passed stop loss.\n",
      "13745 Passed stop loss.\n",
      "14174 Passed stop loss.\n",
      "For BTC-ETC, profit: 0.021548736553757074\n",
      "10655 Passed stop loss.\n",
      "14091 Passed stop loss.\n",
      "For BTC-FCT, profit: -0.022533137105062682\n",
      "3762 Passed stop loss.\n",
      "14387 Passed stop loss.\n",
      "For BTC-FTC, profit: -0.01965973034452638\n",
      "7690 Passed stop loss.\n",
      "14286 Passed stop loss.\n",
      "For BTC-GNT, profit: -0.03330374317558254\n",
      "618 Passed stop loss.\n",
      "1204 Passed stop loss.\n",
      "1778 Passed stop loss.\n",
      "5270 Passed stop loss.\n",
      "6803 Passed stop loss.\n",
      "7331 Passed stop loss.\n",
      "9925 Passed stop loss.\n",
      "13079 Passed stop loss.\n",
      "For BTC-GRS, profit: 0.24742278020115138\n",
      "For BTC-IOP, profit: -0.01174352179532901\n",
      "2999 Passed stop loss.\n",
      "3373 Passed stop loss.\n",
      "4864 Passed stop loss.\n",
      "11931 Passed stop loss.\n",
      "13220 Passed stop loss.\n",
      "For BTC-KMD, profit: -0.07898728580821697\n",
      "For BTC-LGD, profit: 0.07712907011689614\n",
      "For BTC-MCO, profit: 0.008006694125778981\n",
      "8602 Passed stop loss.\n",
      "9782 Passed stop loss.\n",
      "10210 Passed stop loss.\n",
      "14248 Passed stop loss.\n",
      "For BTC-MONA, profit: -0.024994898712984295\n",
      "9659 Passed stop loss.\n",
      "For BTC-MTL, profit: 0.07014424304317818\n",
      "12299 Passed stop loss.\n",
      "12888 Passed stop loss.\n",
      "For BTC-NAV, profit: 0.028198637562900232\n",
      "9363 Passed stop loss.\n",
      "For BTC-NXS, profit: -0.03235564178062534\n",
      "7826 Passed stop loss.\n",
      "9242 Passed stop loss.\n",
      "10767 Passed stop loss.\n",
      "12979 Passed stop loss.\n",
      "13358 Passed stop loss.\n",
      "13600 Passed stop loss.\n",
      "14202 Passed stop loss.\n",
      "For BTC-NXT, profit: 0.2270923686265677\n",
      "6273 Passed stop loss.\n",
      "6864 Passed stop loss.\n",
      "8422 Passed stop loss.\n",
      "10281 Passed stop loss.\n",
      "11282 Passed stop loss.\n",
      "13034 Passed stop loss.\n",
      "For BTC-OK, profit: -0.10047307327308852\n",
      "2189 Passed stop loss.\n",
      "Passed target hold time. Time: 2017-11-20 09:03:00, Buy: 0.00096298, Sell: 0.00097728, Profit: 0.014775581398367649\n",
      "9922 Passed stop loss.\n",
      "10616 Passed stop loss.\n",
      "11503 Passed stop loss.\n",
      "Passed target hold time. Time: 2017-11-27 15:27:00, Buy: 0.00096735, Sell: 0.00096701, Profit: -0.0003497204993021479\n",
      "For BTC-OMG, profit: 0.11944989587491804\n",
      "3512 Passed stop loss.\n",
      "For BTC-PAY, profit: 0.08364590335966954\n",
      "12260 Passed stop loss.\n",
      "14166 Passed stop loss.\n",
      "For BTC-PIVX, profit: -0.02026646516972469\n",
      "For BTC-POT, profit: 0.06680611648016263\n",
      "802 Passed stop loss.\n",
      "Passed target hold time. Time: 2017-11-19 10:20:00, Buy: 0.00172115, Sell: 0.0017219, Profit: 0.0004335791113499017\n",
      "2721 Passed stop loss.\n",
      "3693 Passed stop loss.\n",
      "4339 Passed stop loss.\n",
      "Passed target hold time. Time: 2017-11-22 05:49:00, Buy: 0.00168512, Sell: 0.00168881, Profit: 0.002178819943090099\n",
      "Passed target hold time. Time: 2017-11-23 03:07:00, Buy: 0.00170376, Sell: 0.00170018, Profit: -0.002090741873855467\n",
      "9389 Passed stop loss.\n",
      "12274 Passed stop loss.\n",
      "13666 Passed stop loss.\n",
      "For BTC-QTUM, profit: 0.0395296230020479\n",
      "10669 Passed stop loss.\n",
      "11343 Passed stop loss.\n",
      "For BTC-RCN, profit: -0.06305832870551292\n",
      "7172 Passed stop loss.\n",
      "7577 Passed stop loss.\n",
      "For BTC-REP, profit: -0.013217830814752606\n",
      "For BTC-RISE, profit: 0.003976616471595641\n",
      "2581 Passed stop loss.\n",
      "For BTC-SALT, profit: -0.015613271254242512\n",
      "5755 Passed stop loss.\n",
      "For BTC-SBD, profit: -0.01518076987419698\n",
      "10581 Passed stop loss.\n",
      "For BTC-SHIFT, profit: -0.03144781626506034\n",
      "For BTC-SLR, profit: -0.004401683728448291\n",
      "12741 Passed stop loss.\n",
      "13186 Passed stop loss.\n",
      "For BTC-SNT, profit: -0.020025759493670907\n",
      "For BTC-STEEM, profit: 0.16339397781299533\n",
      "For BTC-STORJ, profit: 0.0428258886167167\n",
      "1705 Passed stop loss.\n",
      "4987 Passed stop loss.\n",
      "9427 Passed stop loss.\n",
      "10209 Passed stop loss.\n",
      "11692 Passed stop loss.\n",
      "13914 Passed stop loss.\n",
      "For BTC-STRAT, profit: 0.03389018089423351\n",
      "1337 Passed stop loss.\n",
      "For BTC-SWT, profit: -0.005260179593134122\n",
      "14226 Passed stop loss.\n",
      "For BTC-SYNX, profit: -0.06911576834862378\n",
      "5801 Passed stop loss.\n",
      "11140 Passed stop loss.\n",
      "11382 Passed stop loss.\n",
      "11701 Passed stop loss.\n",
      "12261 Passed stop loss.\n",
      "12851 Passed stop loss.\n",
      "13633 Passed stop loss.\n",
      "For BTC-SYS, profit: -0.06653989175256787\n",
      "8484 Passed stop loss.\n",
      "9291 Passed stop loss.\n",
      "10513 Passed stop loss.\n",
      "11119 Passed stop loss.\n",
      "For BTC-TIX, profit: -0.06418416358397568\n",
      "4917 Passed stop loss.\n",
      "5163 Passed stop loss.\n",
      "6136 Passed stop loss.\n",
      "6578 Passed stop loss.\n",
      "11182 Passed stop loss.\n",
      "11826 Passed stop loss.\n",
      "12654 Passed stop loss.\n",
      "12906 Passed stop loss.\n",
      "13622 Passed stop loss.\n",
      "13909 Passed stop loss.\n",
      "For BTC-TRIG, profit: -0.09771844446074175\n",
      "11854 Passed stop loss.\n",
      "12148 Passed stop loss.\n",
      "12812 Passed stop loss.\n",
      "13245 Passed stop loss.\n",
      "13714 Passed stop loss.\n",
      "For BTC-VOX, profit: -0.06613664109320491\n",
      "2292 Passed stop loss.\n",
      "3596 Passed stop loss.\n",
      "5594 Passed stop loss.\n",
      "10196 Passed stop loss.\n",
      "Passed target hold time. Time: 2017-11-25 09:39:00, Buy: 0.00052117, Sell: 0.00054095, Profit: 0.03776353900838488\n",
      "11476 Passed stop loss.\n",
      "11733 Passed stop loss.\n",
      "12103 Passed stop loss.\n",
      "12397 Passed stop loss.\n",
      "12684 Passed stop loss.\n",
      "For BTC-VTC, profit: 0.009085649652897897\n",
      "6412 Passed stop loss.\n",
      "For BTC-WAVES, profit: 0.005865430019613711\n",
      "3210 Passed stop loss.\n",
      "For BTC-XEM, profit: 0.10418138741123134\n",
      "3351 Passed stop loss.\n",
      "3748 Passed stop loss.\n",
      "6959 Passed stop loss.\n",
      "10786 Passed stop loss.\n",
      "12280 Passed stop loss.\n",
      "13255 Passed stop loss.\n",
      "13468 Passed stop loss.\n",
      "13768 Passed stop loss.\n",
      "For BTC-XLM, profit: 0.15884032566795814\n",
      "3660 Passed stop loss.\n",
      "4135 Passed stop loss.\n",
      "4928 Passed stop loss.\n",
      "Passed target hold time. Time: 2017-11-21 19:37:00, Buy: 0.018007, Sell: 0.01793, Profit: -0.0042547609957237316\n",
      "6768 Passed stop loss.\n",
      "Passed target hold time. Time: 2017-11-23 09:02:00, Buy: 0.02024897, Sell: 0.02028488, Profit: 0.0017645675033100504\n",
      "9969 Passed stop loss.\n",
      "13333 Passed stop loss.\n",
      "Passed target hold time. Time: 2017-11-27 10:18:00, Buy: 0.01731933, Sell: 0.0173, Profit: -0.001110520488523599\n",
      "For BTC-XMR, profit: -0.034840110623468784\n",
      "12663 Passed stop loss.\n",
      "For BTC-XVG, profit: -0.028028345070422567\n",
      "4931 Passed stop loss.\n",
      "6442 Passed stop loss.\n",
      "For BTC-XZC, profit: 0.16315705147292245\n",
      "Passed target hold time. Time: 2017-11-18 04:20:00, Buy: 0.03765764, Sell: 0.03815566, Profit: 0.013158897175314275\n"
     ]
    },
    {
     "name": "stdout",
     "output_type": "stream",
     "text": [
      "4770 Passed stop loss.\n",
      "6228 Passed stop loss.\n",
      "8027 Passed stop loss.\n",
      "Passed target hold time. Time: 2017-11-24 07:33:00, Buy: 0.03858921, Sell: 0.03880015, Profit: 0.0054389975429660195\n",
      "14188 Passed stop loss.\n",
      "For BTC-ZEC, profit: 0.028437588467863477\n",
      "Total profit: 1.792886900724749\n"
     ]
    }
   ],
   "source": [
    "skip_list = ['BTC-BCC', 'BTC-ETH', 'BTC-LSK', 'BTC-NEO', 'BTC-XRP', 'BTC-LTC']\n",
    "\n",
    "params = {'duration': 3,\n",
    "          'price_lag_time': 30,\n",
    "          'price_lag_duration': 5,\n",
    "          'price_lag_threshold': 0.05,\n",
    "          'volume_lag_duration': 30,\n",
    "          'volume_lag_threshold': 2,\n",
    "          'profit_percent': 0.05,\n",
    "          'stop_loss_percent': 0.01,\n",
    "          'stop_gain_percent': 0.02,\n",
    "          'max_hold_time': 180,\n",
    "          'wait_time': 240}\n",
    "\n",
    "calls = benchmark(skip_list, params)"
   ]
  },
  {
   "cell_type": "code",
   "execution_count": null,
   "metadata": {
    "collapsed": true,
    "scrolled": true
   },
   "outputs": [],
   "source": [
    "skip_list = ['BTC-BCC', 'BTC-ETH', 'BTC-LSK', 'BTC-NEO', 'BTC-XRP', 'BTC-LTC']\n",
    "\n",
    "params = {'duration': 3,\n",
    "          'price_lag_time': 30,\n",
    "          'price_lag_duration': 5,\n",
    "          'price_lag_threshold': 0.03,\n",
    "          'volume_lag_duration': 30,\n",
    "          'volume_lag_threshold': 2,\n",
    "          'profit_percent': 0.05,\n",
    "          'stop_loss_percent': 0.01,\n",
    "          'stop_gain_percent': 0.02,\n",
    "          'max_hold_time': 240,\n",
    "          'wait_time': 240}\n",
    "\n",
    "calls = benchmark(skip_list, params)"
   ]
  },
  {
   "cell_type": "code",
   "execution_count": null,
   "metadata": {
    "collapsed": true
   },
   "outputs": [],
   "source": [
    "len(list(itertools.chain.from_iterable([calls.get(k) for k in calls])))"
   ]
  },
  {
   "cell_type": "code",
   "execution_count": null,
   "metadata": {
    "collapsed": true
   },
   "outputs": [],
   "source": [
    "list(itertools.chain.from_iterable([[calls.get(k)] for k in calls]))"
   ]
  },
  {
   "cell_type": "code",
   "execution_count": null,
   "metadata": {
    "collapsed": true,
    "scrolled": true
   },
   "outputs": [],
   "source": [
    "for k in sorted(calls.keys()):\n",
    "\n",
    "    print('{}: total profit: {}, loss: {}, calls: {}, calls @ profit threshold: {}'.format(\n",
    "        k, str(sum([x.get('profit') for x in calls[k]])), str(sum([x.get('profit') for x in calls[k] if x.get('profit') < 0])), \n",
    "        len(calls[k]), str(len([x for x in calls[k] if x.get('profit') > 0.05]))))"
   ]
  },
  {
   "cell_type": "code",
   "execution_count": null,
   "metadata": {
    "collapsed": true,
    "scrolled": true
   },
   "outputs": [],
   "source": [
    "mv = {'loss': [],\n",
    "      'gain': []}\n",
    "\n",
    "tv = {'loss': [],\n",
    "      'gain': []}\n",
    "\n",
    "tp = [0 for x in range(50)]\n",
    "\n",
    "for k in sorted(calls.keys()):\n",
    "    \n",
    "    for e in calls.get(k):\n",
    "        \n",
    "        if e.get('profit') <= 0.02:\n",
    "            mv['loss'].append(float(e.get('buy_volume')))\n",
    "            tv['loss'].append(float(e.get('buy_volume_total')))\n",
    "        else:\n",
    "            mv['gain'].append(float(e.get('buy_volume')))\n",
    "            tv['gain'].append(float(e.get('buy_volume_total')))\n",
    "            \n",
    "        tmp = floor(float(e.get('buy_volume_total')))\n",
    "\n",
    "        tp[tmp] += float(e.get('profit'))\n",
    "            \n",
    "        print('{}: profit: {}, mean_volume: {}, total_volume: {}'.format(\n",
    "            k, str(e.get('profit')), str(e.get('buy_volume')), str(e.get('buy_volume_total'))))"
   ]
  },
  {
   "cell_type": "code",
   "execution_count": null,
   "metadata": {
    "collapsed": true
   },
   "outputs": [],
   "source": [
    "calls.get('BTC-TIX')"
   ]
  },
  {
   "cell_type": "code",
   "execution_count": 11,
   "metadata": {},
   "outputs": [
    {
     "name": "stdout",
     "output_type": "stream",
     "text": [
      "11/17: 18 orders, profit: 0.246506389880088\n",
      "11/18: 15 orders, profit: 0.09967466186855263\n",
      "11/19: 32 orders, profit: 0.10438882572034472\n",
      "11/20: 27 orders, profit: 0.5108710606640549\n",
      "11/21: 35 orders, profit: 0.207460132873949\n",
      "11/22: 23 orders, profit: -0.036836496284886146\n",
      "11/23: 30 orders, profit: 0.12776847133733227\n",
      "11/24: 40 orders, profit: -0.17747302059352732\n",
      "11/25: 60 orders, profit: 0.4563467440700725\n"
     ]
    },
    {
     "ename": "TypeError",
     "evalue": "unsupported operand type(s) for +: 'float' and 'NoneType'",
     "output_type": "error",
     "traceback": [
      "\u001b[0;31m---------------------------------------------------------------------------\u001b[0m",
      "\u001b[0;31mTypeError\u001b[0m                                 Traceback (most recent call last)",
      "\u001b[0;32m<ipython-input-11-ffef6d943f91>\u001b[0m in \u001b[0;36m<module>\u001b[0;34m()\u001b[0m\n\u001b[1;32m      4\u001b[0m                   for y in calls]))\n\u001b[1;32m      5\u001b[0m \u001b[0;34m\u001b[0m\u001b[0m\n\u001b[0;32m----> 6\u001b[0;31m     \u001b[0mprint\u001b[0m\u001b[0;34m(\u001b[0m\u001b[0;34m'11/{}: {} orders, profit: {}'\u001b[0m\u001b[0;34m.\u001b[0m\u001b[0mformat\u001b[0m\u001b[0;34m(\u001b[0m\u001b[0mstr\u001b[0m\u001b[0;34m(\u001b[0m\u001b[0mii\u001b[0m\u001b[0;34m)\u001b[0m\u001b[0;34m,\u001b[0m \u001b[0mstr\u001b[0m\u001b[0;34m(\u001b[0m\u001b[0mlen\u001b[0m\u001b[0;34m(\u001b[0m\u001b[0morders\u001b[0m\u001b[0;34m)\u001b[0m\u001b[0;34m)\u001b[0m\u001b[0;34m,\u001b[0m \u001b[0mstr\u001b[0m\u001b[0;34m(\u001b[0m\u001b[0msum\u001b[0m\u001b[0;34m(\u001b[0m\u001b[0;34m[\u001b[0m\u001b[0mx\u001b[0m\u001b[0;34m.\u001b[0m\u001b[0mget\u001b[0m\u001b[0;34m(\u001b[0m\u001b[0;34m'profit'\u001b[0m\u001b[0;34m)\u001b[0m \u001b[0;32mfor\u001b[0m \u001b[0mx\u001b[0m \u001b[0;32min\u001b[0m \u001b[0morders\u001b[0m\u001b[0;34m]\u001b[0m\u001b[0;34m)\u001b[0m\u001b[0;34m)\u001b[0m\u001b[0;34m)\u001b[0m\u001b[0;34m)\u001b[0m\u001b[0;34m\u001b[0m\u001b[0m\n\u001b[0m\u001b[1;32m      7\u001b[0m \u001b[0;34m\u001b[0m\u001b[0m\n\u001b[1;32m      8\u001b[0m     \u001b[0;31m#pprint(sorted([(x.get('time'), x.get('profit')) for x in orders]))\u001b[0m\u001b[0;34m\u001b[0m\u001b[0;34m\u001b[0m\u001b[0m\n",
      "\u001b[0;31mTypeError\u001b[0m: unsupported operand type(s) for +: 'float' and 'NoneType'"
     ]
    }
   ],
   "source": [
    "for ii in range(17, 27):\n",
    "\n",
    "    orders = list(itertools.chain.from_iterable([[x for x in calls.get(y) if 0 < (x.get('time')-datetime(2017, 11, ii, 20, 14)).total_seconds() < 86400] \n",
    "                  for y in calls]))\n",
    "    \n",
    "    print('11/{}: {} orders, profit: {}'.format(str(ii), str(len(orders)), str(sum([x.get('profit') for x in orders]))))\n",
    "    \n",
    "    #pprint(sorted([(x.get('time'), x.get('profit')) for x in orders]))"
   ]
  },
  {
   "cell_type": "code",
   "execution_count": null,
   "metadata": {
    "collapsed": true
   },
   "outputs": [],
   "source": [
    "for x in sorted(calls.keys()):\n",
    "    \n",
    "    pprint((x, calls.get(x)))"
   ]
  },
  {
   "cell_type": "code",
   "execution_count": null,
   "metadata": {
    "collapsed": true,
    "scrolled": true
   },
   "outputs": [],
   "source": [
    "data = db.select_query('BTC-BAY', '*')\n",
    "\n",
    "time, price, wprice, volume, buyvolume, sellvolume, buyorder, sellorder = zip(*data)\n",
    "\n",
    "calls = call(time, wprice, buyvolume, buyorder,\n",
    "                             duration=params.get('duration'),\n",
    "                             price_lag_time=params.get('price_lag_time'),\n",
    "                             price_lag_duration=params.get('price_lag_duration'),\n",
    "                             price_lag_threshold=params.get('price_lag_threshold'),\n",
    "                             volume_lag_duration=params.get('volume_lag_duration'),\n",
    "                             volume_lag_threshold=params.get('volume_lag_threshold'),\n",
    "                             profit_percent=params.get('profit_percent'),\n",
    "                             stop_loss_percent=params.get('stop_loss_percent'),\n",
    "                             stop_gain_percent=params.get('stop_gain_percent'),\n",
    "                             max_hold_time=params.get('max_hold_time'),\n",
    "                             wait_time=params.get('wait_time'))"
   ]
  },
  {
   "cell_type": "code",
   "execution_count": null,
   "metadata": {
    "collapsed": true,
    "scrolled": true
   },
   "outputs": [],
   "source": [
    "calls"
   ]
  },
  {
   "cell_type": "code",
   "execution_count": null,
   "metadata": {
    "collapsed": true,
    "scrolled": true
   },
   "outputs": [],
   "source": [
    "for table in tables:\n",
    "    \n",
    "    data = db.select_query(table, '*')\n",
    "\n",
    "    time, price, wprice, volume, buyvolume, sellvolume, buyorder, sellorder = zip(*data)\n",
    "    \n",
    "    ind = [i for i in range(duration, len(buyvolume)) if mean(buyvolume[i-duration:i]) > 2 \n",
    "           and variation(buyvolume[i-duration:i]) < 1\n",
    "           and all([1 if x > 1 else 0 for x in buyvolume[i-duration:i]])]\n",
    "    \n",
    "    if ind:\n",
    "        print('Found {} hits for {}: {}'.format(str(len(ind)), table, ','.join(map(str, ind))))\n",
    "        plt.plot(range(len(time)), wprice, markevery=ind, marker='o', markerfacecolor='r', markersize=10)\n",
    "        plt.show()\n",
    "        plt.plot(range(len(time)), buyvolume, markevery=ind, marker='o', markerfacecolor='r', markersize=10)\n",
    "        plt.show()\n",
    "        for i in ind:\n",
    "            print(i, buyvolume[i-duration:i])\n",
    "            print(i, time[i])\n",
    "        input('NEXT')\n",
    "    else:\n",
    "        print('No hits found for {}'.format(table))"
   ]
  },
  {
   "cell_type": "code",
   "execution_count": null,
   "metadata": {
    "collapsed": true
   },
   "outputs": [],
   "source": [
    "data = db.select_query('BTC-ADA', '*')\n",
    "\n",
    "time, price, wprice, volume, buyvolume, sellvolume, buyorder, sellorder = zip(*data)"
   ]
  },
  {
   "cell_type": "code",
   "execution_count": null,
   "metadata": {
    "collapsed": true
   },
   "outputs": [],
   "source": [
    "start = 1100\n",
    "stop = 1500\n",
    "marked = [1270]\n",
    "plt.plot(time[start:stop], wprice[start:stop], markevery=[x - start for x in marked], marker='o', markerfacecolor='r', markersize=10)\n",
    "plt.show()"
   ]
  },
  {
   "cell_type": "code",
   "execution_count": null,
   "metadata": {
    "collapsed": true,
    "scrolled": true
   },
   "outputs": [],
   "source": [
    "variation([1, 9, 40])"
   ]
  },
  {
   "cell_type": "code",
   "execution_count": null,
   "metadata": {
    "collapsed": true
   },
   "outputs": [],
   "source": [
    "m = mean(buyvolume[1273-3:1273])\n",
    "s = std(buyvolume[1273-3:1273])"
   ]
  },
  {
   "cell_type": "code",
   "execution_count": null,
   "metadata": {
    "collapsed": true
   },
   "outputs": [],
   "source": [
    "m, s"
   ]
  },
  {
   "cell_type": "code",
   "execution_count": null,
   "metadata": {
    "collapsed": true,
    "scrolled": false
   },
   "outputs": [],
   "source": [
    "[(x, y) for x, y in zip(wprice[1260:1280], buyvolume[1260:1280])]"
   ]
  },
  {
   "cell_type": "code",
   "execution_count": null,
   "metadata": {
    "collapsed": true
   },
   "outputs": [],
   "source": [
    "buyvolume_ss = [median(buyvolume[x:x+60]) for x in range(len(buyvolume)-60)]"
   ]
  },
  {
   "cell_type": "code",
   "execution_count": null,
   "metadata": {
    "collapsed": true
   },
   "outputs": [],
   "source": [
    "plt.plot(range(len(buyvolume_ss)), buyvolume_ss)\n",
    "plt.show()"
   ]
  },
  {
   "cell_type": "code",
   "execution_count": null,
   "metadata": {
    "collapsed": true,
    "scrolled": true
   },
   "outputs": [],
   "source": [
    "plt.plot(range(len(price)), price)\n",
    "plt.plot(range(len(price)), wprice)\n",
    "plt.show()"
   ]
  },
  {
   "cell_type": "code",
   "execution_count": null,
   "metadata": {
    "collapsed": true,
    "scrolled": true
   },
   "outputs": [],
   "source": [
    "[(x, y, z) for x, y, z in zip(buyvolume[1700:2000], wprice[1700:2000], buyorder[1700:2000])]"
   ]
  },
  {
   "cell_type": "code",
   "execution_count": null,
   "metadata": {
    "collapsed": true
   },
   "outputs": [],
   "source": [
    "[(x, y) for x, y in zip(buyvolume[200:300], wprice[200:300])]"
   ]
  },
  {
   "cell_type": "code",
   "execution_count": null,
   "metadata": {
    "collapsed": true,
    "scrolled": true
   },
   "outputs": [],
   "source": [
    "median(buyvolume[241:245])\n",
    "pprint(buyvolume[241:247])\n",
    "pprint(price[241:290])"
   ]
  },
  {
   "cell_type": "code",
   "execution_count": null,
   "metadata": {
    "collapsed": true
   },
   "outputs": [],
   "source": [
    "plt.plot(range(len(time)), wprice)\n",
    "plt.show()"
   ]
  },
  {
   "cell_type": "code",
   "execution_count": null,
   "metadata": {
    "collapsed": true,
    "scrolled": true
   },
   "outputs": [],
   "source": [
    "plt.plot(range(len(time)), buyvolume)\n",
    "plt.show()"
   ]
  },
  {
   "cell_type": "code",
   "execution_count": null,
   "metadata": {
    "collapsed": true
   },
   "outputs": [],
   "source": [
    "# Get data from SQL database\n",
    "\n",
    "# Get initial coine data\n",
    "\n",
    "# Get data every minute"
   ]
  }
 ],
 "metadata": {
  "kernelspec": {
   "display_name": "Python 3",
   "language": "python",
   "name": "python3"
  },
  "language_info": {
   "codemirror_mode": {
    "name": "ipython",
    "version": 3
   },
   "file_extension": ".py",
   "mimetype": "text/x-python",
   "name": "python",
   "nbconvert_exporter": "python",
   "pygments_lexer": "ipython3",
   "version": "3.6.1"
  }
 },
 "nbformat": 4,
 "nbformat_minor": 1
}
