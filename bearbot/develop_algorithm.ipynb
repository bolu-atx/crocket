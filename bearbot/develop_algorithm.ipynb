{
 "cells": [
  {
   "cell_type": "code",
   "execution_count": null,
   "metadata": {
    "collapsed": true,
    "scrolled": true
   },
   "outputs": [],
   "source": [
    "import sys\n",
    "sys.path.insert(1, '/home/b3arjuden/crocket_tmp/crocket')\n",
    "\n",
    "from datetime import datetime\n",
    "import itertools\n",
    "from math import floor\n",
    "from numpy import exp, linspace, median, mean, std\n",
    "from pprint import pprint\n",
    "from os import environ\n",
    "from os.path import join\n",
    "from scipy.stats import mannwhitneyu, ttest_ind, variation\n",
    "\n",
    "\n",
    "import matplotlib.pyplot as plt\n",
    "%matplotlib inline\n",
    "\n",
    "from crocket.sql.sql import Database\n",
    "from crocket.utilities.credentials import get_credentials"
   ]
  },
  {
   "cell_type": "code",
   "execution_count": null,
   "metadata": {
    "collapsed": true
   },
   "outputs": [],
   "source": [
    "# Input parameters\n",
    "\n",
    "duration = 3"
   ]
  },
  {
   "cell_type": "code",
   "execution_count": null,
   "metadata": {
    "collapsed": true
   },
   "outputs": [],
   "source": [
    "# Environment variables\n",
    "\n",
    "HOME_DIRECTORY_PATH = environ['HOME']\n",
    "CREDENTIALS_FILE_PATH = join(HOME_DIRECTORY_PATH, '.credentials_unlocked.json')\n",
    "\n",
    "HOSTNAME = 'localhost'\n",
    "DATABASE_NAME = 'BITTREX3'"
   ]
  },
  {
   "cell_type": "code",
   "execution_count": null,
   "metadata": {
    "collapsed": true
   },
   "outputs": [],
   "source": [
    "# Load SQL username and password\n",
    "USERNAME, PASSCODE = get_credentials(CREDENTIALS_FILE_PATH)\n",
    "\n",
    "# Create database connection\n",
    "db = Database(hostname=HOSTNAME,\n",
    "              username=USERNAME,\n",
    "              password=PASSCODE,\n",
    "              database_name=DATABASE_NAME)"
   ]
  },
  {
   "cell_type": "code",
   "execution_count": null,
   "metadata": {
    "collapsed": true
   },
   "outputs": [],
   "source": [
    "tables = db.get_all_tables()"
   ]
  },
  {
   "cell_type": "code",
   "execution_count": null,
   "metadata": {
    "collapsed": true
   },
   "outputs": [],
   "source": [
    "def call(time, wprice, buyvolume, buyorder, \n",
    "         duration=None, \n",
    "         price_lag_time=None, \n",
    "         price_lag_duration=None,\n",
    "         price_lag_threshold=None,\n",
    "         volume_lag_duration=None,\n",
    "         volume_lag_threshold=None,\n",
    "         profit_percent=None, \n",
    "         stop_loss_percent=None, \n",
    "         stop_gain_percent=None, \n",
    "         max_hold_time=None, \n",
    "         wait_time=None):\n",
    "    \n",
    "    calls = []\n",
    "    \n",
    "    bought = False\n",
    "    stop_gain = False\n",
    "    maximize_gain = False\n",
    "    \n",
    "    for ii in range(duration+volume_lag_duration, len(buyvolume)):\n",
    "        \n",
    "        # Action if haven't bought coin\n",
    "        if not bought:\n",
    "            \n",
    "            # No action if purchased within time of last buy\n",
    "            try:\n",
    "                if ii - calls[-1].get('start') < wait_time:\n",
    "                    continue\n",
    "            except IndexError:\n",
    "                pass\n",
    "                \n",
    "            sample_volume_mean = mean(buyvolume[ii-duration:ii])\n",
    "            volume_lag_median = median(buyvolume[ii-duration-volume_lag_duration:ii-duration])\n",
    "            \n",
    "            if sample_volume_mean > 0 and volume_lag_median < volume_lag_threshold:\n",
    "                sample_price = float(wprice[ii-1])\n",
    "                previous_price = float(mean(wprice[ii-duration-price_lag_time:ii-duration-price_lag_time+price_lag_duration]))\n",
    "\n",
    "                if sample_volume_mean > 2 and \\\n",
    "                abs((sample_price - previous_price)/previous_price) < price_lag_threshold and \\\n",
    "                sum([1 if x > 1 else 0 for x in buyvolume[ii-duration:ii]]) >= 3:\n",
    "                    \n",
    "                    bought = True\n",
    "                    calls.append({'start': ii,  # buy time offset by 1 minute, account for time to purchase\n",
    "                                  'time': time[ii],\n",
    "                                  'buy_price': float(wprice[ii]),\n",
    "                                  'buy_volume': sample_volume_mean,\n",
    "                                  'buy_volume_total': sum(buyvolume[ii-duration:ii])}) \n",
    "\n",
    "        # Action if have bought coin\n",
    "        else:\n",
    "            \n",
    "            # Set stop loss after X minutes after buy\n",
    "            if ii - calls[-1].get('start') > 0 and \\\n",
    "            wprice[ii] < (calls[-1].get('buy_price') * (1 - stop_loss_percent)):\n",
    "                \n",
    "                print(ii, 'Passed stop loss.')\n",
    "                calls[-1]['stop'] = ii + 1 # sell price offset by 1 minute, account for time to sell\n",
    "                calls[-1]['sell_price'] = float(wprice[ii+1])\n",
    "                calls[-1]['profit'] = ((calls[-1].get('sell_price') - calls[-1].get('buy_price'))/calls[-1].get('buy_price')) * 0.9975**2\n",
    "                \n",
    "                bought = False\n",
    "                stop_gain = False\n",
    "                \n",
    "                continue\n",
    "            \n",
    "            # Activate stop gain signal after passing threshold percentage\n",
    "            if wprice[ii] > (calls[-1].get('buy_price') * (stop_gain_percent + 1)):\n",
    "                stop_gain = True\n",
    "            \n",
    "            # Activate maximize gain signal after passing profit threshold\n",
    "            if wprice[ii] > (calls[-1].get('buy_price') * (profit_percent + 1)):\n",
    "                maximize_gain = True\n",
    "            \n",
    "            # Sell after hitting profit threshold followed by drop in price of X%\n",
    "            if maximize_gain:\n",
    "#                 if (wprice[ii] - wprice[ii-1])/wprice[ii-1] < -0.005 or \\\n",
    "#                 (wprice[ii] < wprice[ii-1] < wprice[ii-2]) or \\\n",
    "#                 wprice[ii] < (calls[-1].get('buy_price') * (profit_percent + 1)):\n",
    "                calls[-1]['stop'] = ii + 1 # sell price offset by 1 minute, account for time to sell\n",
    "                calls[-1]['sell_price'] = float(wprice[ii+1])\n",
    "                calls[-1]['profit'] = ((calls[-1].get('sell_price') - calls[-1].get('buy_price'))/calls[-1].get('buy_price')) * 0.9975**2\n",
    "\n",
    "                bought = False\n",
    "                stop_gain = False\n",
    "                maximize_gain = False\n",
    "\n",
    "                continue\n",
    "                \n",
    "            # Sell after passing max hold time\n",
    "            if not maximize_gain and \\\n",
    "            (ii - calls[-1].get('start')) > max_hold_time:\n",
    "                \n",
    "\n",
    "                calls[-1]['stop'] = ii + 1 # sell price offset by 1 minute, account for time to sell\n",
    "                calls[-1]['sell_price'] = float(wprice[ii+1])\n",
    "                calls[-1]['profit'] = ((calls[-1].get('sell_price') - calls[-1].get('buy_price'))/calls[-1].get('buy_price')) * 0.9975**2\n",
    "                \n",
    "                print('Passed target hold time. Time: {}, Buy: {}, Sell: {}, Profit: {}'.format(\n",
    "                    str(calls[-1].get('time')), str(calls[-1].get('buy_price')), \n",
    "                    str(calls[-1].get('sell_price')), str(calls[-1].get('profit'))))\n",
    "                \n",
    "                bought = False\n",
    "                stop_gain = False\n",
    "            \n",
    "            # Sell after detecting stop gain signal and price drop below stop gain price\n",
    "            elif stop_gain and wprice[ii] < (calls[-1].get('buy_price') * (stop_gain_percent + 1)):\n",
    "                \n",
    "                #print(ii, 'Passed stop gain then below stop gain, exited.')\n",
    "                calls[-1]['stop'] = ii + 1 # sell price offset by 1 minute, account for time to sell\n",
    "                calls[-1]['sell_price'] = float(wprice[ii+1])\n",
    "                calls[-1]['profit'] = ((calls[-1].get('sell_price') - calls[-1].get('buy_price'))/calls[-1].get('buy_price')) * 0.9975**2\n",
    "\n",
    "                bought = False\n",
    "                stop_gain = False\n",
    "                maximize_gain = False\n",
    "    \n",
    "    return calls"
   ]
  },
  {
   "cell_type": "code",
   "execution_count": null,
   "metadata": {
    "collapsed": true
   },
   "outputs": [],
   "source": [
    "def benchmark(skip_list, params):\n",
    "    \n",
    "    tables = db.get_all_tables()\n",
    "    \n",
    "    all_calls = {}\n",
    "    \n",
    "    total_profit = 0\n",
    "    \n",
    "    for table in tables:\n",
    "        \n",
    "        if table not in skip_list:\n",
    "            data = db.select_query(table, '*', 'where time < \"2017/11/24 20:14:00\"')\n",
    "            \n",
    "            if data:\n",
    "                time, price, wprice, volume, buyvolume, sellvolume, buyorder, sellorder = zip(*data)\n",
    "\n",
    "                calls = call(time, wprice, buyvolume, buyorder,\n",
    "                             duration=params.get('duration'),\n",
    "                             price_lag_time=params.get('price_lag_time'),\n",
    "                             price_lag_duration=params.get('price_lag_duration'),\n",
    "                             price_lag_threshold=params.get('price_lag_threshold'),\n",
    "                             volume_lag_duration=params.get('volume_lag_duration'),\n",
    "                             volume_lag_threshold=params.get('volume_lag_threshold'),\n",
    "                             profit_percent=params.get('profit_percent'),\n",
    "                             stop_loss_percent=params.get('stop_loss_percent'),\n",
    "                             stop_gain_percent=params.get('stop_gain_percent'),\n",
    "                             max_hold_time=params.get('max_hold_time'),\n",
    "                             wait_time=params.get('wait_time'))\n",
    "\n",
    "                if calls:\n",
    "                    all_calls[table] = calls\n",
    "                    profit = sum([x.get('profit') for x in calls if 'profit' in x])\n",
    "                    print('For {}, profit: {}'.format(table, str(profit)))\n",
    "\n",
    "                    total_profit += profit\n",
    "    \n",
    "    print('Total profit: {}'.format(total_profit))\n",
    "    \n",
    "    return all_calls"
   ]
  },
  {
   "cell_type": "code",
   "execution_count": null,
   "metadata": {
    "scrolled": true
   },
   "outputs": [],
   "source": [
    "skip_list = ['BTC-BCC', 'BTC-ETH', 'BTC-LSK', 'BTC-NEO', 'BTC-XRP', 'BTC-LTC']\n",
    "\n",
    "params = {'duration': 3,\n",
    "          'price_lag_time': 30,\n",
    "          'price_lag_duration': 5,\n",
    "          'price_lag_threshold': 0.03,\n",
    "          'volume_lag_duration': 30,\n",
    "          'volume_lag_threshold': 2,\n",
    "          'profit_percent': 0.05,\n",
    "          'stop_loss_percent': 0.01,\n",
    "          'stop_gain_percent': 0.02,\n",
    "          'max_hold_time': 180,\n",
    "          'wait_time': 240}\n",
    "\n",
    "calls = benchmark(skip_list, params)"
   ]
  },
  {
   "cell_type": "code",
   "execution_count": null,
   "metadata": {
    "scrolled": true
   },
   "outputs": [],
   "source": [
    "skip_list = ['BTC-BCC', 'BTC-ETH', 'BTC-LSK', 'BTC-NEO', 'BTC-XRP', 'BTC-LTC']\n",
    "\n",
    "params = {'duration': 3,\n",
    "          'price_lag_time': 30,\n",
    "          'price_lag_duration': 5,\n",
    "          'price_lag_threshold': 0.03,\n",
    "          'volume_lag_duration': 30,\n",
    "          'volume_lag_threshold': 2,\n",
    "          'profit_percent': 0.05,\n",
    "          'stop_loss_percent': 0.01,\n",
    "          'stop_gain_percent': 0.02,\n",
    "          'max_hold_time': 240,\n",
    "          'wait_time': 240}\n",
    "\n",
    "calls = benchmark(skip_list, params)"
   ]
  },
  {
   "cell_type": "code",
   "execution_count": null,
   "metadata": {},
   "outputs": [],
   "source": [
    "len(list(itertools.chain.from_iterable([calls.get(k) for k in calls])))"
   ]
  },
  {
   "cell_type": "code",
   "execution_count": null,
   "metadata": {},
   "outputs": [],
   "source": [
    "list(itertools.chain.from_iterable([[calls.get(k)] for k in calls]))"
   ]
  },
  {
   "cell_type": "code",
   "execution_count": null,
   "metadata": {
    "scrolled": true
   },
   "outputs": [],
   "source": [
    "for k in sorted(calls.keys()):\n",
    "\n",
    "    print('{}: total profit: {}, loss: {}, calls: {}, calls @ profit threshold: {}'.format(\n",
    "        k, str(sum([x.get('profit') for x in calls[k]])), str(sum([x.get('profit') for x in calls[k] if x.get('profit') < 0])), \n",
    "        len(calls[k]), str(len([x for x in calls[k] if x.get('profit') > 0.05]))))"
   ]
  },
  {
   "cell_type": "code",
   "execution_count": null,
   "metadata": {
    "scrolled": true
   },
   "outputs": [],
   "source": [
    "mv = {'loss': [],\n",
    "      'gain': []}\n",
    "\n",
    "tv = {'loss': [],\n",
    "      'gain': []}\n",
    "\n",
    "tp = [0 for x in range(50)]\n",
    "\n",
    "for k in sorted(calls.keys()):\n",
    "    \n",
    "    for e in calls.get(k):\n",
    "        \n",
    "        if e.get('profit') <= 0.02:\n",
    "            mv['loss'].append(float(e.get('buy_volume')))\n",
    "            tv['loss'].append(float(e.get('buy_volume_total')))\n",
    "        else:\n",
    "            mv['gain'].append(float(e.get('buy_volume')))\n",
    "            tv['gain'].append(float(e.get('buy_volume_total')))\n",
    "            \n",
    "        tmp = floor(float(e.get('buy_volume_total')))\n",
    "\n",
    "        tp[tmp] += float(e.get('profit'))\n",
    "            \n",
    "        print('{}: profit: {}, mean_volume: {}, total_volume: {}'.format(\n",
    "            k, str(e.get('profit')), str(e.get('buy_volume')), str(e.get('buy_volume_total'))))"
   ]
  },
  {
   "cell_type": "code",
   "execution_count": null,
   "metadata": {},
   "outputs": [],
   "source": [
    "calls.get('BTC-TRIG')"
   ]
  },
  {
   "cell_type": "code",
   "execution_count": null,
   "metadata": {},
   "outputs": [],
   "source": [
    "for ii in range(17, 25):\n",
    "\n",
    "    orders = list(itertools.chain.from_iterable([[x for x in calls.get(y) if 0 < (x.get('time')-datetime(2017, 11, ii, 20, 14)).total_seconds() < 86400] \n",
    "                  for y in calls]))\n",
    "    \n",
    "    print('11/{}: {} orders, profit: {}'.format(str(ii), str(len(orders)), str(sum([x.get('profit') for x in orders]))))\n",
    "    \n",
    "    pprint(sorted([(x.get('time'), x.get('profit')) for x in orders]))"
   ]
  },
  {
   "cell_type": "code",
   "execution_count": null,
   "metadata": {},
   "outputs": [],
   "source": [
    "for x in sorted(calls.keys()):\n",
    "    \n",
    "    pprint((x, calls.get(x)))"
   ]
  },
  {
   "cell_type": "code",
   "execution_count": null,
   "metadata": {
    "scrolled": true
   },
   "outputs": [],
   "source": [
    "data = db.select_query('BTC-BAY', '*')\n",
    "\n",
    "time, price, wprice, volume, buyvolume, sellvolume, buyorder, sellorder = zip(*data)\n",
    "\n",
    "calls = call(time, wprice, buyvolume, buyorder,\n",
    "                             duration=params.get('duration'),\n",
    "                             price_lag_time=params.get('price_lag_time'),\n",
    "                             price_lag_duration=params.get('price_lag_duration'),\n",
    "                             price_lag_threshold=params.get('price_lag_threshold'),\n",
    "                             volume_lag_duration=params.get('volume_lag_duration'),\n",
    "                             volume_lag_threshold=params.get('volume_lag_threshold'),\n",
    "                             profit_percent=params.get('profit_percent'),\n",
    "                             stop_loss_percent=params.get('stop_loss_percent'),\n",
    "                             stop_gain_percent=params.get('stop_gain_percent'),\n",
    "                             max_hold_time=params.get('max_hold_time'),\n",
    "                             wait_time=params.get('wait_time'))"
   ]
  },
  {
   "cell_type": "code",
   "execution_count": null,
   "metadata": {
    "scrolled": true
   },
   "outputs": [],
   "source": [
    "calls"
   ]
  },
  {
   "cell_type": "code",
   "execution_count": null,
   "metadata": {
    "collapsed": true,
    "scrolled": true
   },
   "outputs": [],
   "source": [
    "for table in tables:\n",
    "    \n",
    "    data = db.select_query(table, '*')\n",
    "\n",
    "    time, price, wprice, volume, buyvolume, sellvolume, buyorder, sellorder = zip(*data)\n",
    "    \n",
    "    ind = [i for i in range(duration, len(buyvolume)) if mean(buyvolume[i-duration:i]) > 2 \n",
    "           and variation(buyvolume[i-duration:i]) < 1\n",
    "           and all([1 if x > 1 else 0 for x in buyvolume[i-duration:i]])]\n",
    "    \n",
    "    if ind:\n",
    "        print('Found {} hits for {}: {}'.format(str(len(ind)), table, ','.join(map(str, ind))))\n",
    "        plt.plot(range(len(time)), wprice, markevery=ind, marker='o', markerfacecolor='r', markersize=10)\n",
    "        plt.show()\n",
    "        plt.plot(range(len(time)), buyvolume, markevery=ind, marker='o', markerfacecolor='r', markersize=10)\n",
    "        plt.show()\n",
    "        for i in ind:\n",
    "            print(i, buyvolume[i-duration:i])\n",
    "            print(i, time[i])\n",
    "        input('NEXT')\n",
    "    else:\n",
    "        print('No hits found for {}'.format(table))"
   ]
  },
  {
   "cell_type": "code",
   "execution_count": null,
   "metadata": {
    "collapsed": true
   },
   "outputs": [],
   "source": [
    "data = db.select_query('BTC-ADA', '*')\n",
    "\n",
    "time, price, wprice, volume, buyvolume, sellvolume, buyorder, sellorder = zip(*data)"
   ]
  },
  {
   "cell_type": "code",
   "execution_count": null,
   "metadata": {
    "collapsed": true
   },
   "outputs": [],
   "source": [
    "start = 1100\n",
    "stop = 1500\n",
    "marked = [1270]\n",
    "plt.plot(time[start:stop], wprice[start:stop], markevery=[x - start for x in marked], marker='o', markerfacecolor='r', markersize=10)\n",
    "plt.show()"
   ]
  },
  {
   "cell_type": "code",
   "execution_count": null,
   "metadata": {
    "collapsed": true,
    "scrolled": true
   },
   "outputs": [],
   "source": [
    "variation([1, 9, 40])"
   ]
  },
  {
   "cell_type": "code",
   "execution_count": null,
   "metadata": {
    "collapsed": true
   },
   "outputs": [],
   "source": [
    "m = mean(buyvolume[1273-3:1273])\n",
    "s = std(buyvolume[1273-3:1273])"
   ]
  },
  {
   "cell_type": "code",
   "execution_count": null,
   "metadata": {
    "collapsed": true
   },
   "outputs": [],
   "source": [
    "m, s"
   ]
  },
  {
   "cell_type": "code",
   "execution_count": null,
   "metadata": {
    "collapsed": true,
    "scrolled": false
   },
   "outputs": [],
   "source": [
    "[(x, y) for x, y in zip(wprice[1260:1280], buyvolume[1260:1280])]"
   ]
  },
  {
   "cell_type": "code",
   "execution_count": null,
   "metadata": {
    "collapsed": true
   },
   "outputs": [],
   "source": [
    "buyvolume_ss = [median(buyvolume[x:x+60]) for x in range(len(buyvolume)-60)]"
   ]
  },
  {
   "cell_type": "code",
   "execution_count": null,
   "metadata": {
    "collapsed": true
   },
   "outputs": [],
   "source": [
    "plt.plot(range(len(buyvolume_ss)), buyvolume_ss)\n",
    "plt.show()"
   ]
  },
  {
   "cell_type": "code",
   "execution_count": null,
   "metadata": {
    "collapsed": true,
    "scrolled": true
   },
   "outputs": [],
   "source": [
    "plt.plot(range(len(price)), price)\n",
    "plt.plot(range(len(price)), wprice)\n",
    "plt.show()"
   ]
  },
  {
   "cell_type": "code",
   "execution_count": null,
   "metadata": {
    "collapsed": true,
    "scrolled": true
   },
   "outputs": [],
   "source": [
    "[(x, y, z) for x, y, z in zip(buyvolume[1700:2000], wprice[1700:2000], buyorder[1700:2000])]"
   ]
  },
  {
   "cell_type": "code",
   "execution_count": null,
   "metadata": {
    "collapsed": true
   },
   "outputs": [],
   "source": [
    "[(x, y) for x, y in zip(buyvolume[200:300], wprice[200:300])]"
   ]
  },
  {
   "cell_type": "code",
   "execution_count": null,
   "metadata": {
    "collapsed": true,
    "scrolled": true
   },
   "outputs": [],
   "source": [
    "median(buyvolume[241:245])\n",
    "pprint(buyvolume[241:247])\n",
    "pprint(price[241:290])"
   ]
  },
  {
   "cell_type": "code",
   "execution_count": null,
   "metadata": {
    "collapsed": true
   },
   "outputs": [],
   "source": [
    "plt.plot(range(len(time)), wprice)\n",
    "plt.show()"
   ]
  },
  {
   "cell_type": "code",
   "execution_count": null,
   "metadata": {
    "collapsed": true,
    "scrolled": true
   },
   "outputs": [],
   "source": [
    "plt.plot(range(len(time)), buyvolume)\n",
    "plt.show()"
   ]
  },
  {
   "cell_type": "code",
   "execution_count": null,
   "metadata": {
    "collapsed": true
   },
   "outputs": [],
   "source": [
    "# Get data from SQL database\n",
    "\n",
    "# Get initial coine data\n",
    "\n",
    "# Get data every minute"
   ]
  }
 ],
 "metadata": {
  "kernelspec": {
   "display_name": "Python 3",
   "language": "python",
   "name": "python3"
  },
  "language_info": {
   "codemirror_mode": {
    "name": "ipython",
    "version": 3
   },
   "file_extension": ".py",
   "mimetype": "text/x-python",
   "name": "python",
   "nbconvert_exporter": "python",
   "pygments_lexer": "ipython3",
   "version": "3.6.1"
  }
 },
 "nbformat": 4,
 "nbformat_minor": 1
}
