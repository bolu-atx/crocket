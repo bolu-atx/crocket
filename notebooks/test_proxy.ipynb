{
 "cells": [
  {
   "cell_type": "code",
   "execution_count": 6,
   "metadata": {
    "collapsed": true
   },
   "outputs": [],
   "source": [
    "import sys\n",
    "sys.path.insert(1, '/Users/brian/crypto/crocket')"
   ]
  },
  {
   "cell_type": "code",
   "execution_count": 7,
   "metadata": {
    "collapsed": true
   },
   "outputs": [],
   "source": [
    "import requests\n",
    "from time import time\n",
    "\n",
    "from crocket.bittrex.bittrex import Bittrex"
   ]
  },
  {
   "cell_type": "code",
   "execution_count": 8,
   "metadata": {
    "collapsed": true
   },
   "outputs": [],
   "source": [
    "proxies = {\n",
    "    'http': 'socks5://119.112.197.180:57958',\n",
    "    'https': 'socks5://119.112.197.180:57958'\n",
    "}"
   ]
  },
  {
   "cell_type": "code",
   "execution_count": 9,
   "metadata": {
    "collapsed": true
   },
   "outputs": [],
   "source": [
    "def main():\n",
    "    url = 'http://ifconfig.me/ip'\n",
    "    \n",
    "    start = time()\n",
    "    response = requests.get(url)\n",
    "    stop = time()\n",
    "    print('ip: {}'.format(response.text.strip()))\n",
    "    print('Elapsed time: {:.2f}'.format(stop-start))\n",
    "    \n",
    "    start = time()\n",
    "    response = requests.get(url, proxies=proxies)\n",
    "    stop = time()\n",
    "    print('5socks ip: {}'.format(response.text.strip()))\n",
    "    print('Elapsed time: {:.2f}'.format(stop-start))\n"
   ]
  },
  {
   "cell_type": "code",
   "execution_count": 10,
   "metadata": {
    "collapsed": false
   },
   "outputs": [],
   "source": [
    "b = Bittrex()"
   ]
  },
  {
   "cell_type": "code",
   "execution_count": null,
   "metadata": {
    "collapsed": true
   },
   "outputs": [],
   "source": []
  }
 ],
 "metadata": {
  "kernelspec": {
   "display_name": "Python 3",
   "language": "python",
   "name": "python3"
  },
  "language_info": {
   "codemirror_mode": {
    "name": "ipython",
    "version": 3
   },
   "file_extension": ".py",
   "mimetype": "text/x-python",
   "name": "python",
   "nbconvert_exporter": "python",
   "pygments_lexer": "ipython3",
   "version": "3.5.3"
  }
 },
 "nbformat": 4,
 "nbformat_minor": 0
}
