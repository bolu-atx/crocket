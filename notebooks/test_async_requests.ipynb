{
 "cells": [
  {
   "cell_type": "code",
   "execution_count": 1,
   "metadata": {
    "collapsed": true
   },
   "outputs": [],
   "source": [
    "import sys\n",
    "sys.path.insert(1, '/Users/brian/crypto/crocket')"
   ]
  },
  {
   "cell_type": "code",
   "execution_count": 2,
   "metadata": {
    "collapsed": false
   },
   "outputs": [],
   "source": [
    "from json import load as json_load\n",
    "from random import randint, shuffle\n",
    "from requests import get\n",
    "from time import sleep, time\n",
    "from requests import get\n",
    "from requests_futures.sessions import FuturesSession\n",
    "from requests.exceptions import ConnectTimeout, ProxyError\n",
    "from concurrent.futures import as_completed, Future\n",
    "\n",
    "from crocket.bittrex.bittrex2 import Bittrex, return_request_input"
   ]
  },
  {
   "cell_type": "code",
   "execution_count": 3,
   "metadata": {
    "collapsed": true
   },
   "outputs": [],
   "source": [
    "PROXY_LIST_PATH = '/Users/brian/crypto/crocket/proxy_list.txt'\n",
    "BITTREX_CREDENTIALS_PATH = '/Users/brian/bittrex_credentials.json'"
   ]
  },
  {
   "cell_type": "code",
   "execution_count": 4,
   "metadata": {
    "collapsed": true
   },
   "outputs": [],
   "source": [
    "def configure_ip(ip):\n",
    "    \n",
    "    return {\n",
    "        'http': ip,\n",
    "        'https': ip\n",
    "    }\n",
    "\n",
    "def process_response(session, response):\n",
    "    \n",
    "    try:\n",
    "        response.data = response.json()\n",
    "    except:\n",
    "        response.data = {\n",
    "               'success': False,\n",
    "               'message': 'NO_API_RESPONSE',\n",
    "               'result': None\n",
    "            }"
   ]
  },
  {
   "cell_type": "code",
   "execution_count": 5,
   "metadata": {
    "collapsed": false
   },
   "outputs": [],
   "source": [
    "# Read files\n",
    "\n",
    "with open(PROXY_LIST_PATH, 'r') as f:\n",
    "    proxies = f.read().splitlines()\n",
    "    \n",
    "with open(BITTREX_CREDENTIALS_PATH, 'r') as f:\n",
    "    credentials = json_load(f)"
   ]
  },
  {
   "cell_type": "code",
   "execution_count": 6,
   "metadata": {
    "collapsed": false
   },
   "outputs": [],
   "source": [
    "# Create bittrex objects\n",
    "\n",
    "b1 = Bittrex(api_key=credentials.get('key'), \n",
    "             api_secret=credentials.get('secret'), \n",
    "             api_version='v1.1')\n",
    "\n",
    "b2 = Bittrex(api_key=credentials.get('key'), \n",
    "             api_secret=credentials.get('secret'), \n",
    "             dispatch=return_request_input,\n",
    "             api_version='v1.1')"
   ]
  },
  {
   "cell_type": "code",
   "execution_count": 7,
   "metadata": {
    "collapsed": false
   },
   "outputs": [],
   "source": [
    "# Get list of currencies\n",
    "\n",
    "response = b1.get_markets()\n",
    "\n",
    "currencies = [x.get('MarketName') for x in response.get('result') \n",
    "              if x.get('BaseCurrency') == 'BTC' and x.get('IsActive')]\n",
    "\n",
    "markets = currencies"
   ]
  },
  {
   "cell_type": "code",
   "execution_count": 8,
   "metadata": {
    "collapsed": true
   },
   "outputs": [],
   "source": [
    "rind = list(range(200))"
   ]
  },
  {
   "cell_type": "code",
   "execution_count": 9,
   "metadata": {
    "collapsed": false,
    "scrolled": true
   },
   "outputs": [
    {
     "name": "stdout",
     "output_type": "stream",
     "text": [
      "0 {'http': '192.126.165.50:8800', 'https': '192.126.165.50:8800'}\n",
      "1 {'http': '192.126.164.200:8800', 'https': '192.126.164.200:8800'}\n",
      "2 {'http': '173.234.59.74:8800', 'https': '173.234.59.74:8800'}\n",
      "3 {'http': '192.126.161.75:8800', 'https': '192.126.161.75:8800'}\n",
      "4 {'http': '173.234.194.116:8800', 'https': '173.234.194.116:8800'}\n",
      "5 {'http': '173.208.46.200:8800', 'https': '173.208.46.200:8800'}\n",
      "6 {'http': '192.126.165.58:8800', 'https': '192.126.165.58:8800'}\n",
      "7 {'http': '192.126.157.223:8800', 'https': '192.126.157.223:8800'}\n",
      "8 {'http': '192.126.164.183:8800', 'https': '192.126.164.183:8800'}\n",
      "9 {'http': '192.126.157.100:8800', 'https': '192.126.157.100:8800'}\n",
      "10 {'http': '192.126.161.210:8800', 'https': '192.126.161.210:8800'}\n",
      "11 {'http': '192.161.163.239:8800', 'https': '192.161.163.239:8800'}\n",
      "12 {'http': '192.126.161.126:8800', 'https': '192.126.161.126:8800'}\n",
      "13 {'http': '173.234.194.120:8800', 'https': '173.234.194.120:8800'}\n",
      "14 {'http': '173.234.194.253:8800', 'https': '173.234.194.253:8800'}\n",
      "15 {'http': '192.126.161.13:8800', 'https': '192.126.161.13:8800'}\n",
      "16 {'http': '173.234.59.177:8800', 'https': '173.234.59.177:8800'}\n",
      "17 {'http': '192.126.165.111:8800', 'https': '192.126.165.111:8800'}\n",
      "18 {'http': '192.161.163.131:8800', 'https': '192.161.163.131:8800'}\n",
      "19 {'http': '173.234.59.166:8800', 'https': '173.234.59.166:8800'}\n",
      "20 {'http': '192.126.165.193:8800', 'https': '192.126.165.193:8800'}\n",
      "21 {'http': '192.126.165.99:8800', 'https': '192.126.165.99:8800'}\n",
      "22 {'http': '192.126.157.140:8800', 'https': '192.126.157.140:8800'}\n",
      "23 {'http': '23.19.34.180:8800', 'https': '23.19.34.180:8800'}\n",
      "24 {'http': '192.126.161.162:8800', 'https': '192.126.161.162:8800'}\n",
      "25 {'http': '173.234.181.223:8800', 'https': '173.234.181.223:8800'}\n",
      "26 {'http': '173.234.59.31:8800', 'https': '173.234.59.31:8800'}\n",
      "27 {'http': '192.161.163.163:8800', 'https': '192.161.163.163:8800'}\n",
      "28 {'http': '192.161.163.103:8800', 'https': '192.161.163.103:8800'}\n",
      "29 {'http': '173.208.46.122:8800', 'https': '173.208.46.122:8800'}\n",
      "30 {'http': '173.234.194.103:8800', 'https': '173.234.194.103:8800'}\n",
      "31 {'http': '23.19.34.15:8800', 'https': '23.19.34.15:8800'}\n",
      "32 {'http': '192.126.164.238:8800', 'https': '192.126.164.238:8800'}\n",
      "33 {'http': '173.234.165.179:8800', 'https': '173.234.165.179:8800'}\n",
      "34 {'http': '173.208.103.247:8800', 'https': '173.208.103.247:8800'}\n",
      "35 {'http': '173.208.46.151:8800', 'https': '173.208.46.151:8800'}\n",
      "36 {'http': '192.161.163.153:8800', 'https': '192.161.163.153:8800'}\n",
      "37 {'http': '173.234.181.53:8800', 'https': '173.234.181.53:8800'}\n",
      "38 {'http': '173.234.194.170:8800', 'https': '173.234.194.170:8800'}\n",
      "39 {'http': '173.234.181.97:8800', 'https': '173.234.181.97:8800'}\n",
      "40 {'http': '23.19.34.133:8800', 'https': '23.19.34.133:8800'}\n",
      "41 {'http': '192.126.165.183:8800', 'https': '192.126.165.183:8800'}\n",
      "42 {'http': '192.126.164.210:8800', 'https': '192.126.164.210:8800'}\n",
      "43 {'http': '173.208.103.173:8800', 'https': '173.208.103.173:8800'}\n",
      "44 {'http': '173.234.181.43:8800', 'https': '173.234.181.43:8800'}\n",
      "45 {'http': '173.208.103.110:8800', 'https': '173.208.103.110:8800'}\n",
      "46 {'http': '173.234.165.167:8800', 'https': '173.234.165.167:8800'}\n",
      "47 {'http': '192.126.164.101:8800', 'https': '192.126.164.101:8800'}\n",
      "48 {'http': '23.19.34.20:8800', 'https': '23.19.34.20:8800'}\n",
      "49 {'http': '192.126.164.189:8800', 'https': '192.126.164.189:8800'}\n",
      "50 {'http': '173.208.46.18:8800', 'https': '173.208.46.18:8800'}\n",
      "51 {'http': '173.208.103.130:8800', 'https': '173.208.103.130:8800'}\n",
      "52 {'http': '192.161.163.132:8800', 'https': '192.161.163.132:8800'}\n",
      "53 {'http': '192.161.163.204:8800', 'https': '192.161.163.204:8800'}\n",
      "54 {'http': '192.126.161.53:8800', 'https': '192.126.161.53:8800'}\n",
      "55 {'http': '173.208.46.24:8800', 'https': '173.208.46.24:8800'}\n",
      "56 {'http': '173.234.194.70:8800', 'https': '173.234.194.70:8800'}\n",
      "57 {'http': '173.234.181.224:8800', 'https': '173.234.181.224:8800'}\n",
      "58 {'http': '192.126.161.132:8800', 'https': '192.126.161.132:8800'}\n",
      "59 {'http': '192.126.161.173:8800', 'https': '192.126.161.173:8800'}\n",
      "60 {'http': '192.126.164.42:8800', 'https': '192.126.164.42:8800'}\n",
      "61 {'http': '23.19.34.36:8800', 'https': '23.19.34.36:8800'}\n",
      "62 {'http': '173.234.59.25:8800', 'https': '173.234.59.25:8800'}\n",
      "63 {'http': '173.234.165.246:8800', 'https': '173.234.165.246:8800'}\n",
      "64 {'http': '192.161.163.193:8800', 'https': '192.161.163.193:8800'}\n",
      "65 {'http': '173.234.59.194:8800', 'https': '173.234.59.194:8800'}\n",
      "66 {'http': '192.161.163.158:8800', 'https': '192.161.163.158:8800'}\n",
      "67 {'http': '173.234.181.115:8800', 'https': '173.234.181.115:8800'}\n",
      "68 {'http': '173.208.103.115:8800', 'https': '173.208.103.115:8800'}\n",
      "69 {'http': '173.208.46.234:8800', 'https': '173.208.46.234:8800'}\n",
      "70 {'http': '173.208.103.6:8800', 'https': '173.208.103.6:8800'}\n",
      "71 {'http': '192.161.163.99:8800', 'https': '192.161.163.99:8800'}\n",
      "72 {'http': '173.208.103.120:8800', 'https': '173.208.103.120:8800'}\n",
      "73 {'http': '192.126.165.194:8800', 'https': '192.126.165.194:8800'}\n",
      "74 {'http': '192.126.157.13:8800', 'https': '192.126.157.13:8800'}\n",
      "75 {'http': '192.126.157.111:8800', 'https': '192.126.157.111:8800'}\n",
      "76 {'http': '192.126.161.231:8800', 'https': '192.126.161.231:8800'}\n",
      "77 {'http': '173.208.103.195:8800', 'https': '173.208.103.195:8800'}\n",
      "78 {'http': '173.234.181.62:8800', 'https': '173.234.181.62:8800'}\n",
      "79 {'http': '173.208.46.27:8800', 'https': '173.208.46.27:8800'}\n",
      "80 {'http': '173.208.46.174:8800', 'https': '173.208.46.174:8800'}\n",
      "81 {'http': '173.208.46.150:8800', 'https': '173.208.46.150:8800'}\n",
      "82 {'http': '173.234.181.68:8800', 'https': '173.234.181.68:8800'}\n",
      "83 {'http': '192.126.157.76:8800', 'https': '192.126.157.76:8800'}\n",
      "84 {'http': '173.234.59.121:8800', 'https': '173.234.59.121:8800'}\n",
      "85 {'http': '173.234.59.146:8800', 'https': '173.234.59.146:8800'}\n",
      "86 {'http': '192.126.161.76:8800', 'https': '192.126.161.76:8800'}\n",
      "87 {'http': '173.234.165.192:8800', 'https': '173.234.165.192:8800'}\n",
      "88 {'http': '192.161.163.191:8800', 'https': '192.161.163.191:8800'}\n",
      "89 {'http': '192.126.165.41:8800', 'https': '192.126.165.41:8800'}\n",
      "90 {'http': '173.234.165.202:8800', 'https': '173.234.165.202:8800'}\n",
      "91 {'http': '192.126.165.80:8800', 'https': '192.126.165.80:8800'}\n",
      "92 {'http': '173.234.181.244:8800', 'https': '173.234.181.244:8800'}\n",
      "93 {'http': '192.161.163.58:8800', 'https': '192.161.163.58:8800'}\n",
      "94 {'http': '23.19.34.37:8800', 'https': '23.19.34.37:8800'}\n",
      "95 {'http': '192.126.164.194:8800', 'https': '192.126.164.194:8800'}\n",
      "96 {'http': '23.19.34.193:8800', 'https': '23.19.34.193:8800'}\n",
      "97 {'http': '192.126.164.46:8800', 'https': '192.126.164.46:8800'}\n",
      "98 {'http': '192.126.161.218:8800', 'https': '192.126.161.218:8800'}\n",
      "99 {'http': '173.234.165.94:8800', 'https': '173.234.165.94:8800'}\n",
      "100 {'http': '192.126.165.196:8800', 'https': '192.126.165.196:8800'}\n",
      "101 {'http': '173.208.103.210:8800', 'https': '173.208.103.210:8800'}\n",
      "102 {'http': '173.234.59.45:8800', 'https': '173.234.59.45:8800'}\n",
      "103 {'http': '173.208.103.225:8800', 'https': '173.208.103.225:8800'}\n",
      "104 {'http': '192.126.157.239:8800', 'https': '192.126.157.239:8800'}\n",
      "105 {'http': '192.161.163.248:8800', 'https': '192.161.163.248:8800'}\n",
      "106 {'http': '23.19.34.223:8800', 'https': '23.19.34.223:8800'}\n",
      "107 {'http': '23.19.34.86:8800', 'https': '23.19.34.86:8800'}\n",
      "108 {'http': '192.126.165.49:8800', 'https': '192.126.165.49:8800'}\n",
      "109 {'http': '173.208.46.40:8800', 'https': '173.208.46.40:8800'}\n",
      "110 {'http': '173.234.165.90:8800', 'https': '173.234.165.90:8800'}\n",
      "111 {'http': '173.234.165.57:8800', 'https': '173.234.165.57:8800'}\n",
      "112 {'http': '192.161.163.117:8800', 'https': '192.161.163.117:8800'}\n",
      "113 {'http': '192.126.165.241:8800', 'https': '192.126.165.241:8800'}\n",
      "114 {'http': '192.161.163.89:8800', 'https': '192.161.163.89:8800'}\n",
      "115 {'http': '173.234.59.72:8800', 'https': '173.234.59.72:8800'}\n",
      "116 {'http': '192.161.163.183:8800', 'https': '192.161.163.183:8800'}\n",
      "117 {'http': '192.161.163.101:8800', 'https': '192.161.163.101:8800'}\n",
      "118 {'http': '192.161.163.217:8800', 'https': '192.161.163.217:8800'}\n",
      "119 {'http': '173.234.194.148:8800', 'https': '173.234.194.148:8800'}\n",
      "120 {'http': '192.126.164.9:8800', 'https': '192.126.164.9:8800'}\n",
      "121 {'http': '192.161.163.114:8800', 'https': '192.161.163.114:8800'}\n",
      "122 {'http': '173.208.103.64:8800', 'https': '173.208.103.64:8800'}\n",
      "123 {'http': '192.126.164.118:8800', 'https': '192.126.164.118:8800'}\n",
      "124 {'http': '173.234.194.200:8800', 'https': '173.234.194.200:8800'}\n",
      "125 {'http': '173.208.103.83:8800', 'https': '173.208.103.83:8800'}\n",
      "126 {'http': '173.208.46.206:8800', 'https': '173.208.46.206:8800'}\n",
      "127 {'http': '192.161.163.76:8800', 'https': '192.161.163.76:8800'}\n",
      "128 {'http': '192.126.165.187:8800', 'https': '192.126.165.187:8800'}\n",
      "129 {'http': '173.234.181.90:8800', 'https': '173.234.181.90:8800'}\n",
      "130 {'http': '173.208.46.50:8800', 'https': '173.208.46.50:8800'}\n",
      "131 {'http': '173.234.194.56:8800', 'https': '173.234.194.56:8800'}\n",
      "132 {'http': '23.19.34.124:8800', 'https': '23.19.34.124:8800'}\n",
      "133 {'http': '192.126.157.46:8800', 'https': '192.126.157.46:8800'}\n",
      "134 {'http': '192.126.165.129:8800', 'https': '192.126.165.129:8800'}\n",
      "135 {'http': '192.126.164.237:8800', 'https': '192.126.164.237:8800'}\n",
      "136 {'http': '192.161.163.108:8800', 'https': '192.161.163.108:8800'}\n",
      "137 {'http': '173.234.59.167:8800', 'https': '173.234.59.167:8800'}\n",
      "138 {'http': '192.126.165.37:8800', 'https': '192.126.165.37:8800'}\n",
      "139 {'http': '173.234.194.37:8800', 'https': '173.234.194.37:8800'}\n",
      "140 {'http': '192.126.157.179:8800', 'https': '192.126.157.179:8800'}\n",
      "141 {'http': '173.234.59.242:8800', 'https': '173.234.59.242:8800'}\n",
      "142 {'http': '173.234.194.215:8800', 'https': '173.234.194.215:8800'}\n",
      "143 {'http': '192.126.161.253:8800', 'https': '192.126.161.253:8800'}\n",
      "144 {'http': '173.234.165.146:8800', 'https': '173.234.165.146:8800'}\n",
      "145 {'http': '173.234.165.72:8800', 'https': '173.234.165.72:8800'}\n",
      "146 {'http': '173.234.181.164:8800', 'https': '173.234.181.164:8800'}\n",
      "147 {'http': '192.126.161.105:8800', 'https': '192.126.161.105:8800'}\n",
      "148 {'http': '173.234.59.236:8800', 'https': '173.234.59.236:8800'}\n",
      "149 {'http': '173.234.59.92:8800', 'https': '173.234.59.92:8800'}\n",
      "150 {'http': '173.208.103.107:8800', 'https': '173.208.103.107:8800'}\n",
      "151 {'http': '23.19.34.215:8800', 'https': '23.19.34.215:8800'}\n",
      "152 {'http': '173.234.181.212:8800', 'https': '173.234.181.212:8800'}\n",
      "153 {'http': '173.208.46.89:8800', 'https': '173.208.46.89:8800'}\n",
      "154 {'http': '173.208.103.218:8800', 'https': '173.208.103.218:8800'}\n",
      "155 {'http': '173.234.194.238:8800', 'https': '173.234.194.238:8800'}\n",
      "156 {'http': '192.161.163.5:8800', 'https': '192.161.163.5:8800'}\n",
      "157 {'http': '23.19.34.58:8800', 'https': '23.19.34.58:8800'}\n",
      "158 {'http': '173.208.103.75:8800', 'https': '173.208.103.75:8800'}\n",
      "159 {'http': '173.234.165.178:8800', 'https': '173.234.165.178:8800'}\n",
      "160 {'http': '192.126.161.212:8800', 'https': '192.126.161.212:8800'}\n",
      "161 {'http': '192.126.157.131:8800', 'https': '192.126.157.131:8800'}\n",
      "162 {'http': '23.19.34.156:8800', 'https': '23.19.34.156:8800'}\n",
      "163 {'http': '23.19.34.105:8800', 'https': '23.19.34.105:8800'}\n",
      "164 {'http': '173.234.165.63:8800', 'https': '173.234.165.63:8800'}\n",
      "165 {'http': '192.126.161.234:8800', 'https': '192.126.161.234:8800'}\n",
      "166 {'http': '192.161.163.71:8800', 'https': '192.161.163.71:8800'}\n",
      "167 {'http': '173.234.194.221:8800', 'https': '173.234.194.221:8800'}\n",
      "168 {'http': '173.234.59.68:8800', 'https': '173.234.59.68:8800'}\n",
      "169 {'http': '192.126.157.97:8800', 'https': '192.126.157.97:8800'}\n",
      "170 {'http': '192.161.163.211:8800', 'https': '192.161.163.211:8800'}\n",
      "171 {'http': '173.234.165.98:8800', 'https': '173.234.165.98:8800'}\n",
      "172 {'http': '192.126.164.195:8800', 'https': '192.126.164.195:8800'}\n",
      "173 {'http': '192.126.164.81:8800', 'https': '192.126.164.81:8800'}\n",
      "174 {'http': '173.234.59.17:8800', 'https': '173.234.59.17:8800'}\n",
      "175 {'http': '192.126.164.151:8800', 'https': '192.126.164.151:8800'}\n",
      "176 {'http': '173.208.46.129:8800', 'https': '173.208.46.129:8800'}\n",
      "177 {'http': '192.126.164.80:8800', 'https': '192.126.164.80:8800'}\n",
      "178 {'http': '192.126.157.198:8800', 'https': '192.126.157.198:8800'}\n",
      "179 {'http': '192.126.157.147:8800', 'https': '192.126.157.147:8800'}\n",
      "180 {'http': '192.126.157.40:8800', 'https': '192.126.157.40:8800'}\n",
      "181 {'http': '173.234.194.180:8800', 'https': '173.234.194.180:8800'}\n",
      "182 {'http': '173.234.181.251:8800', 'https': '173.234.181.251:8800'}\n",
      "183 {'http': '173.208.46.41:8800', 'https': '173.208.46.41:8800'}\n",
      "184 {'http': '173.234.194.13:8800', 'https': '173.234.194.13:8800'}\n",
      "185 {'http': '173.234.181.33:8800', 'https': '173.234.181.33:8800'}\n",
      "186 {'http': '192.126.157.212:8800', 'https': '192.126.157.212:8800'}\n",
      "187 {'http': '173.234.194.100:8800', 'https': '173.234.194.100:8800'}\n",
      "188 {'http': '23.19.34.79:8800', 'https': '23.19.34.79:8800'}\n",
      "189 {'http': '173.208.103.175:8800', 'https': '173.208.103.175:8800'}\n",
      "190 {'http': '192.126.161.200:8800', 'https': '192.126.161.200:8800'}\n",
      "191 {'http': '173.234.165.59:8800', 'https': '173.234.165.59:8800'}\n",
      "192 {'http': '173.234.165.190:8800', 'https': '173.234.165.190:8800'}\n",
      "193 {'http': '173.234.181.88:8800', 'https': '173.234.181.88:8800'}\n",
      "194 {'http': '173.234.165.115:8800', 'https': '173.234.165.115:8800'}\n",
      "195 {'http': '173.208.46.146:8800', 'https': '173.208.46.146:8800'}\n",
      "196 {'http': '173.234.181.38:8800', 'https': '173.234.181.38:8800'}\n",
      "197 {'http': '192.126.157.245:8800', 'https': '192.126.157.245:8800'}\n",
      "Total elapsed time: 0.6214380264282227s\n"
     ]
    }
   ],
   "source": [
    "# Test asynchronous requests\n",
    "\n",
    "with FuturesSession(max_workers=200) as session:\n",
    "\n",
    "    for ii in range(0, 1): # TODO: replace with while loop\n",
    "\n",
    "        shuffle(rind)\n",
    "\n",
    "        inputs = []\n",
    "        futures = []\n",
    "\n",
    "        start = time()\n",
    "\n",
    "        for index in range(len(markets)):\n",
    "\n",
    "            request_input = b2.get_market_history(markets[index])\n",
    "            inputs.append(request_input)\n",
    "\n",
    "            proxy = configure_ip(proxies[rind[index]])\n",
    "            print(index, proxy)\n",
    "            response = session.get(request_input.get('url'), \n",
    "                                 background_callback=process_response,\n",
    "                                 headers={\"apisign\": request_input.get('apisign')},\n",
    "                                 timeout=5,\n",
    "                                 proxies=proxy)\n",
    "\n",
    "            futures.append([markets[index], response])\n",
    "\n",
    "        stop = time()\n",
    "        print('Total elapsed time: {}s'.format(str(stop-start)))\n",
    "\n",
    "\n",
    "#         for future in as_completed(futures):\n",
    "#             try:\n",
    "#                 responses1[index][1] = responses1[index][1].result()\n",
    "#             except (ProxyError, ConnectTimeout):\n",
    "#                 print('Failed API call for {}, index: {}.'.format(markets[index], str(index)))\n",
    "\n",
    "#                 proxy = configure_ip(proxies[rind[index]])\n",
    "#                 future = get(inputs[index].get('url'), \n",
    "#                                  #background_callback=process_response,\n",
    "#                                  headers={\"apisign\": inputs[index].get('apisign')},\n",
    "#                                  timeout=5,\n",
    "#                                  proxies=proxy)\n",
    "\n",
    "#                 responses1[index][1] = responses1[index][1].result()\n",
    "\n",
    "\n",
    "        #print(futures)\n",
    "\n",
    "        #sleep(30)"
   ]
  },
  {
   "cell_type": "code",
   "execution_count": null,
   "metadata": {
    "collapsed": false
   },
   "outputs": [],
   "source": [
    "for ii in as_completed([x[1] for x in futures]):\n",
    "    print(ii)"
   ]
  },
  {
   "cell_type": "code",
   "execution_count": 12,
   "metadata": {
    "collapsed": false
   },
   "outputs": [
    {
     "ename": "ProxyError",
     "evalue": "HTTPSConnectionPool(host='bittrex.com', port=443): Max retries exceeded with url: /api/v1.1/public/getmarkethistory?market=BTC-LTC&marketname=BTC-LTC (Caused by ProxyError('Cannot connect to proxy.', OSError('Tunnel connection failed: 403 Forbidden',)))",
     "output_type": "error",
     "traceback": [
      "\u001b[0;31m---------------------------------------------------------------------------\u001b[0m",
      "\u001b[0;31mOSError\u001b[0m                                   Traceback (most recent call last)",
      "\u001b[0;32m/Users/brian/anaconda/lib/python3.5/site-packages/urllib3/connectionpool.py\u001b[0m in \u001b[0;36murlopen\u001b[0;34m(self, method, url, body, headers, retries, redirect, assert_same_host, timeout, pool_timeout, release_conn, chunked, body_pos, **response_kw)\u001b[0m\n\u001b[1;32m    594\u001b[0m             \u001b[0;32mif\u001b[0m \u001b[0mis_new_proxy_conn\u001b[0m\u001b[0;34m:\u001b[0m\u001b[0;34m\u001b[0m\u001b[0m\n\u001b[0;32m--> 595\u001b[0;31m                 \u001b[0mself\u001b[0m\u001b[0;34m.\u001b[0m\u001b[0m_prepare_proxy\u001b[0m\u001b[0;34m(\u001b[0m\u001b[0mconn\u001b[0m\u001b[0;34m)\u001b[0m\u001b[0;34m\u001b[0m\u001b[0m\n\u001b[0m\u001b[1;32m    596\u001b[0m \u001b[0;34m\u001b[0m\u001b[0m\n",
      "\u001b[0;32m/Users/brian/anaconda/lib/python3.5/site-packages/urllib3/connectionpool.py\u001b[0m in \u001b[0;36m_prepare_proxy\u001b[0;34m(self, conn)\u001b[0m\n\u001b[1;32m    815\u001b[0m \u001b[0;34m\u001b[0m\u001b[0m\n\u001b[0;32m--> 816\u001b[0;31m         \u001b[0mconn\u001b[0m\u001b[0;34m.\u001b[0m\u001b[0mconnect\u001b[0m\u001b[0;34m(\u001b[0m\u001b[0;34m)\u001b[0m\u001b[0;34m\u001b[0m\u001b[0m\n\u001b[0m\u001b[1;32m    817\u001b[0m \u001b[0;34m\u001b[0m\u001b[0m\n",
      "\u001b[0;32m/Users/brian/anaconda/lib/python3.5/site-packages/urllib3/connection.py\u001b[0m in \u001b[0;36mconnect\u001b[0;34m(self)\u001b[0m\n\u001b[1;32m    293\u001b[0m             \u001b[0;31m# self._tunnel_host below.\u001b[0m\u001b[0;34m\u001b[0m\u001b[0;34m\u001b[0m\u001b[0m\n\u001b[0;32m--> 294\u001b[0;31m             \u001b[0mself\u001b[0m\u001b[0;34m.\u001b[0m\u001b[0m_tunnel\u001b[0m\u001b[0;34m(\u001b[0m\u001b[0;34m)\u001b[0m\u001b[0;34m\u001b[0m\u001b[0m\n\u001b[0m\u001b[1;32m    295\u001b[0m             \u001b[0;31m# Mark this connection as not reusable\u001b[0m\u001b[0;34m\u001b[0m\u001b[0;34m\u001b[0m\u001b[0m\n",
      "\u001b[0;32m/Users/brian/anaconda/lib/python3.5/http/client.py\u001b[0m in \u001b[0;36m_tunnel\u001b[0;34m(self)\u001b[0m\n\u001b[1;32m    831\u001b[0m             raise OSError(\"Tunnel connection failed: %d %s\" % (code,\n\u001b[0;32m--> 832\u001b[0;31m                                                                message.strip()))\n\u001b[0m\u001b[1;32m    833\u001b[0m         \u001b[0;32mwhile\u001b[0m \u001b[0;32mTrue\u001b[0m\u001b[0;34m:\u001b[0m\u001b[0;34m\u001b[0m\u001b[0m\n",
      "\u001b[0;31mOSError\u001b[0m: Tunnel connection failed: 403 Forbidden",
      "\nDuring handling of the above exception, another exception occurred:\n",
      "\u001b[0;31mMaxRetryError\u001b[0m                             Traceback (most recent call last)",
      "\u001b[0;32m/Users/brian/anaconda/lib/python3.5/site-packages/requests/adapters.py\u001b[0m in \u001b[0;36msend\u001b[0;34m(self, request, stream, timeout, verify, cert, proxies)\u001b[0m\n\u001b[1;32m    439\u001b[0m                     \u001b[0mretries\u001b[0m\u001b[0;34m=\u001b[0m\u001b[0mself\u001b[0m\u001b[0;34m.\u001b[0m\u001b[0mmax_retries\u001b[0m\u001b[0;34m,\u001b[0m\u001b[0;34m\u001b[0m\u001b[0m\n\u001b[0;32m--> 440\u001b[0;31m                     \u001b[0mtimeout\u001b[0m\u001b[0;34m=\u001b[0m\u001b[0mtimeout\u001b[0m\u001b[0;34m\u001b[0m\u001b[0m\n\u001b[0m\u001b[1;32m    441\u001b[0m                 )\n",
      "\u001b[0;32m/Users/brian/anaconda/lib/python3.5/site-packages/urllib3/connectionpool.py\u001b[0m in \u001b[0;36murlopen\u001b[0;34m(self, method, url, body, headers, retries, redirect, assert_same_host, timeout, pool_timeout, release_conn, chunked, body_pos, **response_kw)\u001b[0m\n\u001b[1;32m    638\u001b[0m             retries = retries.increment(method, url, error=e, _pool=self,\n\u001b[0;32m--> 639\u001b[0;31m                                         _stacktrace=sys.exc_info()[2])\n\u001b[0m\u001b[1;32m    640\u001b[0m             \u001b[0mretries\u001b[0m\u001b[0;34m.\u001b[0m\u001b[0msleep\u001b[0m\u001b[0;34m(\u001b[0m\u001b[0;34m)\u001b[0m\u001b[0;34m\u001b[0m\u001b[0m\n",
      "\u001b[0;32m/Users/brian/anaconda/lib/python3.5/site-packages/urllib3/util/retry.py\u001b[0m in \u001b[0;36mincrement\u001b[0;34m(self, method, url, response, error, _pool, _stacktrace)\u001b[0m\n\u001b[1;32m    387\u001b[0m         \u001b[0;32mif\u001b[0m \u001b[0mnew_retry\u001b[0m\u001b[0;34m.\u001b[0m\u001b[0mis_exhausted\u001b[0m\u001b[0;34m(\u001b[0m\u001b[0;34m)\u001b[0m\u001b[0;34m:\u001b[0m\u001b[0;34m\u001b[0m\u001b[0m\n\u001b[0;32m--> 388\u001b[0;31m             \u001b[0;32mraise\u001b[0m \u001b[0mMaxRetryError\u001b[0m\u001b[0;34m(\u001b[0m\u001b[0m_pool\u001b[0m\u001b[0;34m,\u001b[0m \u001b[0murl\u001b[0m\u001b[0;34m,\u001b[0m \u001b[0merror\u001b[0m \u001b[0;32mor\u001b[0m \u001b[0mResponseError\u001b[0m\u001b[0;34m(\u001b[0m\u001b[0mcause\u001b[0m\u001b[0;34m)\u001b[0m\u001b[0;34m)\u001b[0m\u001b[0;34m\u001b[0m\u001b[0m\n\u001b[0m\u001b[1;32m    389\u001b[0m \u001b[0;34m\u001b[0m\u001b[0m\n",
      "\u001b[0;31mMaxRetryError\u001b[0m: HTTPSConnectionPool(host='bittrex.com', port=443): Max retries exceeded with url: /api/v1.1/public/getmarkethistory?market=BTC-LTC&marketname=BTC-LTC (Caused by ProxyError('Cannot connect to proxy.', OSError('Tunnel connection failed: 403 Forbidden',)))",
      "\nDuring handling of the above exception, another exception occurred:\n",
      "\u001b[0;31mProxyError\u001b[0m                                Traceback (most recent call last)",
      "\u001b[0;32m<ipython-input-12-eb708299bc6d>\u001b[0m in \u001b[0;36m<module>\u001b[0;34m()\u001b[0m\n\u001b[0;32m----> 1\u001b[0;31m \u001b[0mfutures\u001b[0m\u001b[0;34m[\u001b[0m\u001b[0;36m0\u001b[0m\u001b[0;34m]\u001b[0m\u001b[0;34m[\u001b[0m\u001b[0;36m1\u001b[0m\u001b[0;34m]\u001b[0m\u001b[0;34m.\u001b[0m\u001b[0mresult\u001b[0m\u001b[0;34m(\u001b[0m\u001b[0;34m)\u001b[0m\u001b[0;34m\u001b[0m\u001b[0m\n\u001b[0m",
      "\u001b[0;32m/Users/brian/anaconda/lib/python3.5/concurrent/futures/_base.py\u001b[0m in \u001b[0;36mresult\u001b[0;34m(self, timeout)\u001b[0m\n\u001b[1;32m    396\u001b[0m                 \u001b[0;32mraise\u001b[0m \u001b[0mCancelledError\u001b[0m\u001b[0;34m(\u001b[0m\u001b[0;34m)\u001b[0m\u001b[0;34m\u001b[0m\u001b[0m\n\u001b[1;32m    397\u001b[0m             \u001b[0;32melif\u001b[0m \u001b[0mself\u001b[0m\u001b[0;34m.\u001b[0m\u001b[0m_state\u001b[0m \u001b[0;34m==\u001b[0m \u001b[0mFINISHED\u001b[0m\u001b[0;34m:\u001b[0m\u001b[0;34m\u001b[0m\u001b[0m\n\u001b[0;32m--> 398\u001b[0;31m                 \u001b[0;32mreturn\u001b[0m \u001b[0mself\u001b[0m\u001b[0;34m.\u001b[0m\u001b[0m__get_result\u001b[0m\u001b[0;34m(\u001b[0m\u001b[0;34m)\u001b[0m\u001b[0;34m\u001b[0m\u001b[0m\n\u001b[0m\u001b[1;32m    399\u001b[0m \u001b[0;34m\u001b[0m\u001b[0m\n\u001b[1;32m    400\u001b[0m             \u001b[0mself\u001b[0m\u001b[0;34m.\u001b[0m\u001b[0m_condition\u001b[0m\u001b[0;34m.\u001b[0m\u001b[0mwait\u001b[0m\u001b[0;34m(\u001b[0m\u001b[0mtimeout\u001b[0m\u001b[0;34m)\u001b[0m\u001b[0;34m\u001b[0m\u001b[0m\n",
      "\u001b[0;32m/Users/brian/anaconda/lib/python3.5/concurrent/futures/_base.py\u001b[0m in \u001b[0;36m__get_result\u001b[0;34m(self)\u001b[0m\n\u001b[1;32m    355\u001b[0m     \u001b[0;32mdef\u001b[0m \u001b[0m__get_result\u001b[0m\u001b[0;34m(\u001b[0m\u001b[0mself\u001b[0m\u001b[0;34m)\u001b[0m\u001b[0;34m:\u001b[0m\u001b[0;34m\u001b[0m\u001b[0m\n\u001b[1;32m    356\u001b[0m         \u001b[0;32mif\u001b[0m \u001b[0mself\u001b[0m\u001b[0;34m.\u001b[0m\u001b[0m_exception\u001b[0m\u001b[0;34m:\u001b[0m\u001b[0;34m\u001b[0m\u001b[0m\n\u001b[0;32m--> 357\u001b[0;31m             \u001b[0;32mraise\u001b[0m \u001b[0mself\u001b[0m\u001b[0;34m.\u001b[0m\u001b[0m_exception\u001b[0m\u001b[0;34m\u001b[0m\u001b[0m\n\u001b[0m\u001b[1;32m    358\u001b[0m         \u001b[0;32melse\u001b[0m\u001b[0;34m:\u001b[0m\u001b[0;34m\u001b[0m\u001b[0m\n\u001b[1;32m    359\u001b[0m             \u001b[0;32mreturn\u001b[0m \u001b[0mself\u001b[0m\u001b[0;34m.\u001b[0m\u001b[0m_result\u001b[0m\u001b[0;34m\u001b[0m\u001b[0m\n",
      "\u001b[0;32m/Users/brian/anaconda/lib/python3.5/concurrent/futures/thread.py\u001b[0m in \u001b[0;36mrun\u001b[0;34m(self)\u001b[0m\n\u001b[1;32m     53\u001b[0m \u001b[0;34m\u001b[0m\u001b[0m\n\u001b[1;32m     54\u001b[0m         \u001b[0;32mtry\u001b[0m\u001b[0;34m:\u001b[0m\u001b[0;34m\u001b[0m\u001b[0m\n\u001b[0;32m---> 55\u001b[0;31m             \u001b[0mresult\u001b[0m \u001b[0;34m=\u001b[0m \u001b[0mself\u001b[0m\u001b[0;34m.\u001b[0m\u001b[0mfn\u001b[0m\u001b[0;34m(\u001b[0m\u001b[0;34m*\u001b[0m\u001b[0mself\u001b[0m\u001b[0;34m.\u001b[0m\u001b[0margs\u001b[0m\u001b[0;34m,\u001b[0m \u001b[0;34m**\u001b[0m\u001b[0mself\u001b[0m\u001b[0;34m.\u001b[0m\u001b[0mkwargs\u001b[0m\u001b[0;34m)\u001b[0m\u001b[0;34m\u001b[0m\u001b[0m\n\u001b[0m\u001b[1;32m     56\u001b[0m         \u001b[0;32mexcept\u001b[0m \u001b[0mBaseException\u001b[0m \u001b[0;32mas\u001b[0m \u001b[0me\u001b[0m\u001b[0;34m:\u001b[0m\u001b[0;34m\u001b[0m\u001b[0m\n\u001b[1;32m     57\u001b[0m             \u001b[0mself\u001b[0m\u001b[0;34m.\u001b[0m\u001b[0mfuture\u001b[0m\u001b[0;34m.\u001b[0m\u001b[0mset_exception\u001b[0m\u001b[0;34m(\u001b[0m\u001b[0me\u001b[0m\u001b[0;34m)\u001b[0m\u001b[0;34m\u001b[0m\u001b[0m\n",
      "\u001b[0;32m/Users/brian/anaconda/lib/python3.5/site-packages/requests_futures/sessions.py\u001b[0m in \u001b[0;36mwrap\u001b[0;34m(*args_, **kwargs_)\u001b[0m\n\u001b[1;32m     71\u001b[0m         \u001b[0;32mif\u001b[0m \u001b[0mbackground_callback\u001b[0m\u001b[0;34m:\u001b[0m\u001b[0;34m\u001b[0m\u001b[0m\n\u001b[1;32m     72\u001b[0m             \u001b[0;32mdef\u001b[0m \u001b[0mwrap\u001b[0m\u001b[0;34m(\u001b[0m\u001b[0;34m*\u001b[0m\u001b[0margs_\u001b[0m\u001b[0;34m,\u001b[0m \u001b[0;34m**\u001b[0m\u001b[0mkwargs_\u001b[0m\u001b[0;34m)\u001b[0m\u001b[0;34m:\u001b[0m\u001b[0;34m\u001b[0m\u001b[0m\n\u001b[0;32m---> 73\u001b[0;31m                 \u001b[0mresp\u001b[0m \u001b[0;34m=\u001b[0m \u001b[0msup\u001b[0m\u001b[0;34m(\u001b[0m\u001b[0;34m*\u001b[0m\u001b[0margs_\u001b[0m\u001b[0;34m,\u001b[0m \u001b[0;34m**\u001b[0m\u001b[0mkwargs_\u001b[0m\u001b[0;34m)\u001b[0m\u001b[0;34m\u001b[0m\u001b[0m\n\u001b[0m\u001b[1;32m     74\u001b[0m                 \u001b[0mbackground_callback\u001b[0m\u001b[0;34m(\u001b[0m\u001b[0mself\u001b[0m\u001b[0;34m,\u001b[0m \u001b[0mresp\u001b[0m\u001b[0;34m)\u001b[0m\u001b[0;34m\u001b[0m\u001b[0m\n\u001b[1;32m     75\u001b[0m                 \u001b[0;32mreturn\u001b[0m \u001b[0mresp\u001b[0m\u001b[0;34m\u001b[0m\u001b[0m\n",
      "\u001b[0;32m/Users/brian/anaconda/lib/python3.5/site-packages/requests/sessions.py\u001b[0m in \u001b[0;36mrequest\u001b[0;34m(self, method, url, params, data, headers, cookies, files, auth, timeout, allow_redirects, proxies, hooks, stream, verify, cert, json)\u001b[0m\n\u001b[1;32m    506\u001b[0m         }\n\u001b[1;32m    507\u001b[0m         \u001b[0msend_kwargs\u001b[0m\u001b[0;34m.\u001b[0m\u001b[0mupdate\u001b[0m\u001b[0;34m(\u001b[0m\u001b[0msettings\u001b[0m\u001b[0;34m)\u001b[0m\u001b[0;34m\u001b[0m\u001b[0m\n\u001b[0;32m--> 508\u001b[0;31m         \u001b[0mresp\u001b[0m \u001b[0;34m=\u001b[0m \u001b[0mself\u001b[0m\u001b[0;34m.\u001b[0m\u001b[0msend\u001b[0m\u001b[0;34m(\u001b[0m\u001b[0mprep\u001b[0m\u001b[0;34m,\u001b[0m \u001b[0;34m**\u001b[0m\u001b[0msend_kwargs\u001b[0m\u001b[0;34m)\u001b[0m\u001b[0;34m\u001b[0m\u001b[0m\n\u001b[0m\u001b[1;32m    509\u001b[0m \u001b[0;34m\u001b[0m\u001b[0m\n\u001b[1;32m    510\u001b[0m         \u001b[0;32mreturn\u001b[0m \u001b[0mresp\u001b[0m\u001b[0;34m\u001b[0m\u001b[0m\n",
      "\u001b[0;32m/Users/brian/anaconda/lib/python3.5/site-packages/requests/sessions.py\u001b[0m in \u001b[0;36msend\u001b[0;34m(self, request, **kwargs)\u001b[0m\n\u001b[1;32m    616\u001b[0m \u001b[0;34m\u001b[0m\u001b[0m\n\u001b[1;32m    617\u001b[0m         \u001b[0;31m# Send the request\u001b[0m\u001b[0;34m\u001b[0m\u001b[0;34m\u001b[0m\u001b[0m\n\u001b[0;32m--> 618\u001b[0;31m         \u001b[0mr\u001b[0m \u001b[0;34m=\u001b[0m \u001b[0madapter\u001b[0m\u001b[0;34m.\u001b[0m\u001b[0msend\u001b[0m\u001b[0;34m(\u001b[0m\u001b[0mrequest\u001b[0m\u001b[0;34m,\u001b[0m \u001b[0;34m**\u001b[0m\u001b[0mkwargs\u001b[0m\u001b[0;34m)\u001b[0m\u001b[0;34m\u001b[0m\u001b[0m\n\u001b[0m\u001b[1;32m    619\u001b[0m \u001b[0;34m\u001b[0m\u001b[0m\n\u001b[1;32m    620\u001b[0m         \u001b[0;31m# Total elapsed time of the request (approximately)\u001b[0m\u001b[0;34m\u001b[0m\u001b[0;34m\u001b[0m\u001b[0m\n",
      "\u001b[0;32m/Users/brian/anaconda/lib/python3.5/site-packages/requests/adapters.py\u001b[0m in \u001b[0;36msend\u001b[0;34m(self, request, stream, timeout, verify, cert, proxies)\u001b[0m\n\u001b[1;32m    500\u001b[0m \u001b[0;34m\u001b[0m\u001b[0m\n\u001b[1;32m    501\u001b[0m             \u001b[0;32mif\u001b[0m \u001b[0misinstance\u001b[0m\u001b[0;34m(\u001b[0m\u001b[0me\u001b[0m\u001b[0;34m.\u001b[0m\u001b[0mreason\u001b[0m\u001b[0;34m,\u001b[0m \u001b[0m_ProxyError\u001b[0m\u001b[0;34m)\u001b[0m\u001b[0;34m:\u001b[0m\u001b[0;34m\u001b[0m\u001b[0m\n\u001b[0;32m--> 502\u001b[0;31m                 \u001b[0;32mraise\u001b[0m \u001b[0mProxyError\u001b[0m\u001b[0;34m(\u001b[0m\u001b[0me\u001b[0m\u001b[0;34m,\u001b[0m \u001b[0mrequest\u001b[0m\u001b[0;34m=\u001b[0m\u001b[0mrequest\u001b[0m\u001b[0;34m)\u001b[0m\u001b[0;34m\u001b[0m\u001b[0m\n\u001b[0m\u001b[1;32m    503\u001b[0m \u001b[0;34m\u001b[0m\u001b[0m\n\u001b[1;32m    504\u001b[0m             \u001b[0;32mif\u001b[0m \u001b[0misinstance\u001b[0m\u001b[0;34m(\u001b[0m\u001b[0me\u001b[0m\u001b[0;34m.\u001b[0m\u001b[0mreason\u001b[0m\u001b[0;34m,\u001b[0m \u001b[0m_SSLError\u001b[0m\u001b[0;34m)\u001b[0m\u001b[0;34m:\u001b[0m\u001b[0;34m\u001b[0m\u001b[0m\n",
      "\u001b[0;31mProxyError\u001b[0m: HTTPSConnectionPool(host='bittrex.com', port=443): Max retries exceeded with url: /api/v1.1/public/getmarkethistory?market=BTC-LTC&marketname=BTC-LTC (Caused by ProxyError('Cannot connect to proxy.', OSError('Tunnel connection failed: 403 Forbidden',)))"
     ]
    }
   ],
   "source": [
    "futures[0][1].result()"
   ]
  },
  {
   "cell_type": "code",
   "execution_count": null,
   "metadata": {
    "collapsed": false
   },
   "outputs": [],
   "source": [
    "class FutureRequest(Future):\n",
    "    \n",
    "    def __init__(self, future, url, market, apisign=None):\n",
    "        self.future = future\n",
    "        self.url = url\n",
    "        self.market = market\n",
    "        self.apisign = apisign"
   ]
  },
  {
   "cell_type": "code",
   "execution_count": null,
   "metadata": {
    "collapsed": false
   },
   "outputs": [],
   "source": [
    "FutureRequest(futures[0][1], 'a', 'b', 'a')"
   ]
  },
  {
   "cell_type": "code",
   "execution_count": null,
   "metadata": {
    "collapsed": false
   },
   "outputs": [],
   "source": [
    "responses1[125][1].url"
   ]
  },
  {
   "cell_type": "code",
   "execution_count": null,
   "metadata": {
    "collapsed": false
   },
   "outputs": [],
   "source": [
    "index = 34\n",
    "\n",
    "proxy = configure_ip(proxies[rind[index]])\n",
    "\n",
    "future = get(request_input.get('url'), \n",
    "                     #background_callback=process_response,\n",
    "                     headers={\"apisign\": request_input.get('apisign')},\n",
    "                     timeout=5,\n",
    "                     proxies=proxy)"
   ]
  },
  {
   "cell_type": "code",
   "execution_count": null,
   "metadata": {
    "collapsed": false
   },
   "outputs": [],
   "source": [
    "future"
   ]
  },
  {
   "cell_type": "code",
   "execution_count": null,
   "metadata": {
    "collapsed": false
   },
   "outputs": [],
   "source": [
    "with FuturesSession(max_workers=200) as session:\n",
    "    future = session.get(inputs[5].get('url'), \n",
    "                                     background_callback=process_response,\n",
    "                                     headers={\"apisign\": inputs[5].get('apisign')},\n",
    "                                     timeout=10,\n",
    "                                     proxies=configure_ip(proxies[rind[5]]))"
   ]
  },
  {
   "cell_type": "code",
   "execution_count": null,
   "metadata": {
    "collapsed": false
   },
   "outputs": [],
   "source": [
    "future"
   ]
  },
  {
   "cell_type": "code",
   "execution_count": null,
   "metadata": {
    "collapsed": false
   },
   "outputs": [],
   "source": [
    "responses1"
   ]
  },
  {
   "cell_type": "code",
   "execution_count": null,
   "metadata": {
    "collapsed": false
   },
   "outputs": [],
   "source": [
    "import urllib3"
   ]
  },
  {
   "cell_type": "code",
   "execution_count": null,
   "metadata": {
    "collapsed": false
   },
   "outputs": [],
   "source": [
    "def is_OK(ip):\n",
    "    try:\n",
    "        proxy_handler = urllib3.ProxyManager({'http': ip})\n",
    "        opener = urllib3.build_opener(proxy_handler)\n",
    "        opener.addheaders = [('User-agent', 'Mozilla/5.0')]\n",
    "        urllib3.install_opener(opener)\n",
    "        req=urllib3.Request('http://www.icanhazip.com')\n",
    "        sock=urllib3.urlopen(req)\n",
    "    except urllib3.exceptions.HTTPError as e:\n",
    "        #print 'Error code: ', e.code\n",
    "        return e.code\n",
    "    except Exception as detail:\n",
    "\n",
    "        print(detail)\n",
    "        return 1\n",
    "    return 0"
   ]
  },
  {
   "cell_type": "code",
   "execution_count": null,
   "metadata": {
    "collapsed": false
   },
   "outputs": [],
   "source": [
    "proxies[rind[index]]"
   ]
  },
  {
   "cell_type": "code",
   "execution_count": null,
   "metadata": {
    "collapsed": false
   },
   "outputs": [],
   "source": [
    "is_OK(proxies[rind[index-2]])"
   ]
  },
  {
   "cell_type": "code",
   "execution_count": null,
   "metadata": {
    "collapsed": false
   },
   "outputs": [],
   "source": [
    "with open('markets.txt', 'w') as f:\n",
    "    f.writelines(['{}\\n'.format(x) for x in sorted(markets)])"
   ]
  },
  {
   "cell_type": "code",
   "execution_count": null,
   "metadata": {
    "collapsed": true
   },
   "outputs": [],
   "source": []
  }
 ],
 "metadata": {
  "kernelspec": {
   "display_name": "Python 3",
   "language": "python",
   "name": "python3"
  },
  "language_info": {
   "codemirror_mode": {
    "name": "ipython",
    "version": 3
   },
   "file_extension": ".py",
   "mimetype": "text/x-python",
   "name": "python",
   "nbconvert_exporter": "python",
   "pygments_lexer": "ipython3",
   "version": "3.5.3"
  }
 },
 "nbformat": 4,
 "nbformat_minor": 0
}
