{
 "cells": [
  {
   "cell_type": "code",
   "execution_count": 1,
   "metadata": {
    "collapsed": true
   },
   "outputs": [],
   "source": [
    "import sys\n",
    "sys.path.insert(1, '/home/b3arjuden/crocket')"
   ]
  },
  {
   "cell_type": "code",
   "execution_count": 2,
   "metadata": {},
   "outputs": [],
   "source": [
    "from datetime import datetime, timedelta\n",
    "from decimal import Decimal\n",
    "from copy import deepcopy\n",
    "from json import load as json_load\n",
    "from numpy import mean\n",
    "from pprint import pprint\n",
    "from random import randint, shuffle\n",
    "from requests import get\n",
    "from time import sleep, time\n",
    "from requests import get\n",
    "from requests_futures.sessions import FuturesSession\n",
    "from requests.exceptions import ConnectTimeout, ConnectionError, ProxyError, ReadTimeout\n",
    "from concurrent.futures import as_completed, Future\n",
    "\n",
    "from crocket.bittrex.bittrex2 import Bittrex, format_bittrex_entry, return_request_input\n",
    "from crocket.utilities.time import format_time, convert_bittrex_timestamp_to_datetime, utc_to_local"
   ]
  },
  {
   "cell_type": "code",
   "execution_count": 3,
   "metadata": {
    "collapsed": true
   },
   "outputs": [],
   "source": [
    "def process_data(input_data, working_data, market_datetime, interval=60):\n",
    "    \n",
    "    entries = []\n",
    "    \n",
    "    if not working_data:\n",
    "        working_data = deepcopy(input_data)\n",
    "        \n",
    "    for market in working_data:\n",
    "        \n",
    "        working_list = working_data.get(market)\n",
    "        input_list = input_data.get(market)\n",
    "        current_datetime = market_datetime.get(market)\n",
    "            \n",
    "        last_id = working_list[0].get('Id')\n",
    "        id_list = [x.get('Id') for x in input_list]\n",
    "        \n",
    "        if last_id in id_list:\n",
    "            overlap_index = id_list.index(last_id)\n",
    "            working_list = input_list[:overlap_index] + working_list\n",
    "        else:\n",
    "            working_list = input_list + working_list\n",
    "            print('Latest ID in {} working list not found in input data. '\n",
    "                         'Adding all input data to working list.')\n",
    "        \n",
    "        working_data[market] = working_list\n",
    "        \n",
    "        latest_datetime = utc_to_local(convert_bittrex_timestamp_to_datetime(working_list[0].get('TimeStamp')))\n",
    "        \n",
    "        if (latest_datetime - current_datetime).total_seconds() > interval:\n",
    "            \n",
    "            timestamp_list = [utc_to_local(convert_bittrex_timestamp_to_datetime(x.get('TimeStamp')))\n",
    "                              for x in working_list]\n",
    "            \n",
    "            start, stop = get_interval_index(timestamp_list, current_datetime, interval)\n",
    "\n",
    "            if start == stop:\n",
    "                while (current_datetime + timedelta(seconds=interval)) < timestamp_list[start - 1]:\n",
    "                    metrics = calculate_metrics(working_list[start:stop], current_datetime)\n",
    "\n",
    "                    metrics['price'] = last_price.get(market)\n",
    "\n",
    "                    fields, values = format_bittrex_entry(metrics)\n",
    "                    entries.append((market, fields, values))\n",
    "\n",
    "                    current_datetime = current_datetime + timedelta(seconds=interval)\n",
    "\n",
    "                market_datetime[market] = current_datetime\n",
    "            else:\n",
    "                metrics = calculate_metrics(working_list[start:stop], current_datetime)\n",
    "\n",
    "                fields, values = format_bittrex_entry(metrics)\n",
    "                entries.append((market, fields, values))\n",
    "                \n",
    "                market_datetime[market] = current_datetime + timedelta(seconds=interval)\n",
    "                \n",
    "            working_data[market] = working_list[:start]\n",
    "            last_price[market] = metrics.get('price')\n",
    "    \n",
    "    # db.insert_transaction_query(entries)\n",
    "    \n",
    "    return working_data, market_datetime"
   ]
  },
  {
   "cell_type": "code",
   "execution_count": 4,
   "metadata": {
    "collapsed": true
   },
   "outputs": [],
   "source": [
    "def configure_ip(ip):\n",
    "    \n",
    "    return {\n",
    "        'http': ip,\n",
    "        'https': ip\n",
    "    }\n",
    "\n",
    "def process_response(session, response):\n",
    "    \n",
    "    try:\n",
    "        response.data = response.json()\n",
    "    except:\n",
    "        response.data = {\n",
    "               'success': False,\n",
    "               'message': 'NO_API_RESPONSE',\n",
    "               'result': None\n",
    "            }"
   ]
  },
  {
   "cell_type": "code",
   "execution_count": 5,
   "metadata": {
    "collapsed": true
   },
   "outputs": [],
   "source": [
    "def get_data(markets, bittrex, session, proxies, proxy_indexes, max_api_retry=3, logger=None):\n",
    "\n",
    "    futures = []\n",
    "    response_dict = {}\n",
    "    num_proxies = len(proxies)\n",
    "    \n",
    "    start1 = time()\n",
    "    \n",
    "    for index in range(len(markets)):\n",
    "        market = markets[index]\n",
    "        request_input = bittrex.get_market_history(market)\n",
    "\n",
    "        proxy = configure_ip(proxies[proxy_indexes[index]])\n",
    "        url = request_input.get('url')\n",
    "        headers = {\"apisign\": request_input.get('apisign')}\n",
    "\n",
    "        response = session.get(url,\n",
    "                               background_callback=process_response,\n",
    "                               headers=headers,\n",
    "                               timeout=3,\n",
    "                               proxies=proxy)\n",
    "\n",
    "        # Add attributes to response\n",
    "        response.market = market\n",
    "        response.url = request_input.get('url')\n",
    "        response.headers = headers\n",
    "\n",
    "        futures.append(response)\n",
    "    \n",
    "    stop1 = time()\n",
    "    send_time = stop1 - start1\n",
    "    \n",
    "    start2 = time()\n",
    "    for future in as_completed(futures):\n",
    "\n",
    "        try:\n",
    "            response_data = future.result().data\n",
    "\n",
    "            if not response_data.get('success'):\n",
    "                if response_data.get('message') == \"INVALID_MARKET\":\n",
    "                    markets.remove(future.market)\n",
    "                    print('Removed {}: invalid market ...'.format(future.market))\n",
    "                continue\n",
    "\n",
    "            response_dict[future.market] = response_data.get('result')\n",
    "            if not response_dict[future.market]:\n",
    "                if response_data.get('message') == \"NO_API_RESPONSE\":\n",
    "                    raise ProxyError('NO API RESPONSE')\n",
    "\n",
    "        except (ProxyError, ConnectTimeout, ConnectionError, ReadTimeout):\n",
    "\n",
    "            api_retry = 0\n",
    "\n",
    "            while True:\n",
    "\n",
    "                if api_retry >= max_api_retry:\n",
    "                    print('MAX API RETRY LIMIT ({}) REACHED. SKIPPING {}.'.format(str(max_api_retry),\n",
    "                                                                                         future.market))\n",
    "                    break\n",
    "\n",
    "                r = randint(0, num_proxies - 1)\n",
    "                proxy = configure_ip(proxies[r])\n",
    "\n",
    "                try:\n",
    "                    response = session.get(future.url,\n",
    "                                           background_callback=process_response,\n",
    "                                           headers=future.headers,\n",
    "                                           timeout=2,\n",
    "                                           proxies=proxy)\n",
    "                    response_dict[future.market] = response.result().data.get('result')\n",
    "                    if not response_dict[future.market]:\n",
    "                        print('NO API RESPONSE, RETRYING: {} ...'.format(future.market))\n",
    "                        api_retry += 1\n",
    "                        continue\n",
    "\n",
    "                    break\n",
    "\n",
    "                except (ProxyError, ConnectTimeout, ConnectionError, ReadTimeout):\n",
    "                    api_retry += 1\n",
    "                    print('Retried API call failed for {}.'.format(future.market))\n",
    "    \n",
    "    stop2 = time()\n",
    "    receive_time = stop2 - start2\n",
    "    \n",
    "    return send_time, receive_time"
   ]
  },
  {
   "cell_type": "code",
   "execution_count": 6,
   "metadata": {
    "collapsed": true
   },
   "outputs": [],
   "source": [
    "PROXY_LIST_PATH = '/home/b3arjuden/crocket/proxy_list.txt'\n",
    "BITTREX_CREDENTIALS_PATH = '/home/b3arjuden/bittrex_credentials.json'"
   ]
  },
  {
   "cell_type": "code",
   "execution_count": 7,
   "metadata": {
    "collapsed": true
   },
   "outputs": [],
   "source": [
    "# Read files\n",
    "\n",
    "with open(PROXY_LIST_PATH, 'r') as f:\n",
    "    PROXIES = f.read().splitlines()\n",
    "    \n",
    "with open(BITTREX_CREDENTIALS_PATH, 'r') as f:\n",
    "    credentials = json_load(f)"
   ]
  },
  {
   "cell_type": "code",
   "execution_count": 8,
   "metadata": {
    "collapsed": true
   },
   "outputs": [],
   "source": [
    "# Create bittrex objects\n",
    "\n",
    "b1 = Bittrex(api_key=credentials.get('key'), \n",
    "             api_secret=credentials.get('secret'), \n",
    "             api_version='v1.1')\n",
    "\n",
    "bittrex = Bittrex(api_key=credentials.get('key'), \n",
    "             api_secret=credentials.get('secret'), \n",
    "             dispatch=return_request_input,\n",
    "             api_version='v1.1')"
   ]
  },
  {
   "cell_type": "code",
   "execution_count": 9,
   "metadata": {
    "collapsed": true
   },
   "outputs": [],
   "source": [
    "# Get list of currencies\n",
    "\n",
    "response = b1.get_markets()\n",
    "\n",
    "MARKETS = [x.get('MarketName') for x in response.get('result') \n",
    "              if x.get('BaseCurrency') == 'BTC'][0:200]"
   ]
  },
  {
   "cell_type": "code",
   "execution_count": 10,
   "metadata": {
    "collapsed": true
   },
   "outputs": [],
   "source": [
    "num_proxies = 200\n",
    "proxy_indexes = list(range(num_proxies))"
   ]
  },
  {
   "cell_type": "code",
   "execution_count": 11,
   "metadata": {
    "scrolled": true
   },
   "outputs": [
    {
     "name": "stdout",
     "output_type": "stream",
     "text": [
      "Retried API call failed for BTC-ETC.\n",
      "Send time: 1.0106163024902344\n",
      "Receive time: 7.1667094230651855\n",
      "Total elapsed time: 8.177334308624268\n",
      "Send time: 0.3523719310760498\n",
      "Receive time: 4.840603828430176\n",
      "Total elapsed time: 5.192997932434082\n",
      "Send time: 0.3870668411254883\n",
      "Receive time: 1.0456042289733887\n",
      "Total elapsed time: 1.4523365497589111\n",
      "Send time: 0.2295691967010498\n",
      "Receive time: 1.3485288619995117\n",
      "Total elapsed time: 1.6095795631408691\n",
      "Send time: 0.39142394065856934\n",
      "Receive time: 3.5233640670776367\n",
      "Total elapsed time: 3.9148037433624268\n",
      "Send time: 0.34492993354797363\n",
      "Receive time: 3.6308507919311523\n",
      "Total elapsed time: 3.9758050441741943\n",
      "Send time: 0.2853691577911377\n",
      "Receive time: 1.777982234954834\n",
      "Total elapsed time: 2.0856215953826904\n",
      "Send time: 0.46600818634033203\n",
      "Receive time: 2.6141068935394287\n",
      "Total elapsed time: 3.1003453731536865\n",
      "Send time: 0.26544666290283203\n",
      "Receive time: 3.2019705772399902\n",
      "Total elapsed time: 3.4674313068389893\n",
      "Send time: 0.36989927291870117\n",
      "Receive time: 3.5001614093780518\n",
      "Total elapsed time: 3.8700833320617676\n",
      "Average send time: 0.410270142555\n",
      "Average receive time: 3.26498823166\n",
      "Average total time: 3.68463387489\n"
     ]
    }
   ],
   "source": [
    "# Test asynchronous requests\n",
    "sleep_time = 10\n",
    "\n",
    "data = {'stime': [],\n",
    "        'rtime': [],\n",
    "        'ttime': []}\n",
    "\n",
    "current_datetime = datetime.now().astimezone(tz=None)\n",
    "current_datetime = {k: current_datetime for k in MARKETS}\n",
    "last_price = {k: Decimal(0) for k in MARKETS}\n",
    "weighted_price = {k: Decimal(0) for k in MARKETS}\n",
    "\n",
    "try:\n",
    "\n",
    "    # TODO: optimize max_workers\n",
    "    with FuturesSession(max_workers=50) as session:\n",
    "\n",
    "        for ii in range(10):\n",
    "            shuffle(proxy_indexes)\n",
    "            start = time()\n",
    "\n",
    "            stime, rtime = get_data(MARKETS, bittrex, session, PROXIES, proxy_indexes,\n",
    "                                     max_api_retry=3)\n",
    "\n",
    "            stop = time()\n",
    "            run_time = stop - start\n",
    "            \n",
    "            data['stime'].append(stime)\n",
    "            data['rtime'].append(rtime)\n",
    "            data['ttime'].append(run_time)\n",
    "            \n",
    "            print('Send time: {}'.format(str(stime)))\n",
    "            print('Receive time: {}'.format(str(rtime)))\n",
    "            print('Total elapsed time: {}'.format(str(run_time)))\n",
    "            \n",
    "            if run_time < sleep_time:\n",
    "                sleep(sleep_time - run_time)\n",
    "    \n",
    "    print('Average send time: {}'.format(str(mean(data.get('stime')))))\n",
    "    print('Average receive time: {}'.format(str(mean(data.get('rtime')))))\n",
    "    print('Average total time: {}'.format(str(mean(data.get('ttime')))))\n",
    "    \n",
    "except ConnectionError as e:\n",
    "    logger.debug('ConnectionError: {}. Exiting ...'.format(e))"
   ]
  },
  {
   "cell_type": "code",
   "execution_count": null,
   "metadata": {
    "collapsed": true
   },
   "outputs": [],
   "source": []
  }
 ],
 "metadata": {
  "kernelspec": {
   "display_name": "Python 3",
   "language": "python",
   "name": "python3"
  },
  "language_info": {
   "codemirror_mode": {
    "name": "ipython",
    "version": 3
   },
   "file_extension": ".py",
   "mimetype": "text/x-python",
   "name": "python",
   "nbconvert_exporter": "python",
   "pygments_lexer": "ipython3",
   "version": "3.6.1"
  }
 },
 "nbformat": 4,
 "nbformat_minor": 1
}
