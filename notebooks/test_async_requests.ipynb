{
 "cells": [
  {
   "cell_type": "code",
   "execution_count": 1,
   "metadata": {
    "collapsed": true
   },
   "outputs": [],
   "source": [
    "import sys\n",
    "sys.path.insert(1, '/home/b3arjuden/crocket')"
   ]
  },
  {
   "cell_type": "code",
   "execution_count": 2,
   "metadata": {},
   "outputs": [],
   "source": [
    "from json import load as json_load\n",
    "from random import randint, shuffle\n",
    "from requests import get\n",
    "from time import sleep, time\n",
    "from requests import get\n",
    "from requests_futures.sessions import FuturesSession\n",
    "from requests.exceptions import ConnectTimeout, ProxyError, ReadTimeout\n",
    "from concurrent.futures import as_completed, Future\n",
    "\n",
    "from crocket.bittrex.bittrex2 import Bittrex, return_request_input"
   ]
  },
  {
   "cell_type": "code",
   "execution_count": 3,
   "metadata": {
    "collapsed": true
   },
   "outputs": [],
   "source": [
    "PROXY_LIST_PATH = '/home/b3arjuden/crocket/proxy_list.txt'\n",
    "BITTREX_CREDENTIALS_PATH = '/home/b3arjuden/bittrex_credentials.json'"
   ]
  },
  {
   "cell_type": "code",
   "execution_count": 4,
   "metadata": {
    "collapsed": true
   },
   "outputs": [],
   "source": [
    "def configure_ip(ip):\n",
    "    \n",
    "    return {\n",
    "        'http': ip,\n",
    "        'https': ip\n",
    "    }\n",
    "\n",
    "def process_response(session, response):\n",
    "    \n",
    "    try:\n",
    "        response.data = response.json()\n",
    "    except:\n",
    "        response.data = {\n",
    "               'success': False,\n",
    "               'message': 'NO_API_RESPONSE',\n",
    "               'result': None\n",
    "            }"
   ]
  },
  {
   "cell_type": "code",
   "execution_count": 5,
   "metadata": {},
   "outputs": [],
   "source": [
    "# Read files\n",
    "\n",
    "with open(PROXY_LIST_PATH, 'r') as f:\n",
    "    proxies = f.read().splitlines()\n",
    "    \n",
    "with open(BITTREX_CREDENTIALS_PATH, 'r') as f:\n",
    "    credentials = json_load(f)"
   ]
  },
  {
   "cell_type": "code",
   "execution_count": 6,
   "metadata": {},
   "outputs": [],
   "source": [
    "# Create bittrex objects\n",
    "\n",
    "b1 = Bittrex(api_key=credentials.get('key'), \n",
    "             api_secret=credentials.get('secret'), \n",
    "             api_version='v1.1')\n",
    "\n",
    "b2 = Bittrex(api_key=credentials.get('key'), \n",
    "             api_secret=credentials.get('secret'), \n",
    "             dispatch=return_request_input,\n",
    "             api_version='v1.1')"
   ]
  },
  {
   "cell_type": "code",
   "execution_count": 7,
   "metadata": {},
   "outputs": [],
   "source": [
    "# Get list of currencies\n",
    "\n",
    "response = b1.get_markets()\n",
    "\n",
    "currencies = [x.get('MarketName') for x in response.get('result') \n",
    "              if x.get('BaseCurrency') == 'BTC' and x.get('IsActive')]\n",
    "\n",
    "markets = currencies"
   ]
  },
  {
   "cell_type": "code",
   "execution_count": 8,
   "metadata": {
    "collapsed": true
   },
   "outputs": [],
   "source": [
    "rind = list(range(200))"
   ]
  },
  {
   "cell_type": "code",
   "execution_count": null,
   "metadata": {
    "scrolled": false
   },
   "outputs": [
    {
     "name": "stdout",
     "output_type": "stream",
     "text": [
      "Total elapsed time: 0.05339837074279785s\n",
      "Failed API call for BTC-VIB. Proxy: 173.208.103.175:8800.\n",
      "Retried API call failed.\n",
      "Retried API call failed.\n"
     ]
    }
   ],
   "source": [
    "# Test asynchronous requests\n",
    "\n",
    "with FuturesSession(max_workers=20) as session:\n",
    "\n",
    "    for ii in range(0, 10): # TODO: replace with while loop\n",
    "\n",
    "        shuffle(rind)\n",
    "\n",
    "        futures = []\n",
    "\n",
    "        start = time()\n",
    "\n",
    "        for index in range(len(markets)):\n",
    "\n",
    "            market = markets[index]\n",
    "            request_input = b2.get_market_history(market)\n",
    "\n",
    "            proxy = configure_ip(proxies[rind[index]])\n",
    "            url = request_input.get('url')\n",
    "            headers = {\"apisign\": request_input.get('apisign')}\n",
    "            \n",
    "            response = session.get(url, \n",
    "                                   background_callback=process_response,\n",
    "                                   headers=headers,\n",
    "                                   timeout=5,\n",
    "                                   proxies=proxy)\n",
    "            \n",
    "            # Add attributes to response\n",
    "            response.market = market\n",
    "            response.url = request_input.get('url')\n",
    "            response.headers = headers\n",
    "            response.proxy = proxy\n",
    "            \n",
    "            futures.append(response)\n",
    "\n",
    "        stop = time()\n",
    "        print('Total elapsed time: {}s'.format(str(stop-start)))\n",
    "\n",
    "        start = time()\n",
    "        for future in as_completed(futures):\n",
    "            \n",
    "            try:\n",
    "                data = future.result().data\n",
    "                \n",
    "            except (ProxyError, ConnectTimeout, ReadTimeout):\n",
    "                print('Failed API call for {}. Proxy: {}.'.format(future.market, future.proxy.get('https')))\n",
    "                \n",
    "                futures.remove(future)\n",
    "                \n",
    "                while True:\n",
    "                    try:\n",
    "                        response = session.get(future.url, \n",
    "                                               background_callback=process_response,\n",
    "                                               headers=future.headers,\n",
    "                                               timeout=5,\n",
    "                                               proxies=future.proxy)\n",
    "                        sleep(3)\n",
    "                        data = response.result().data\n",
    "                        futures.append(response)\n",
    "                    except (ProxyError, ConnectTimeout, ReadTimeout):\n",
    "                        print('Retried API call failed.')\n",
    "                        pass\n",
    "                \n",
    "                print('Retried API call for {} successful.'.format(future.market))\n",
    "        \n",
    "        stop = time()\n",
    "        print('Execution time for all futures: {}s'.format(str(stop-start)))\n",
    "\n",
    "        sleep(30)"
   ]
  },
  {
   "cell_type": "code",
   "execution_count": null,
   "metadata": {},
   "outputs": [],
   "source": [
    "tmp = [1, 2, 3, 4, 5]\n",
    "\n",
    "for x in tmp:\n",
    "    print(x)\n",
    "    \n",
    "    x = 3\n",
    "    \n",
    "print(tmp)"
   ]
  },
  {
   "cell_type": "code",
   "execution_count": null,
   "metadata": {},
   "outputs": [],
   "source": [
    "futures.remove(futures[1])"
   ]
  },
  {
   "cell_type": "code",
   "execution_count": null,
   "metadata": {},
   "outputs": [],
   "source": [
    "futures"
   ]
  },
  {
   "cell_type": "code",
   "execution_count": null,
   "metadata": {
    "collapsed": true
   },
   "outputs": [],
   "source": []
  }
 ],
 "metadata": {
  "kernelspec": {
   "display_name": "Python 3",
   "language": "python",
   "name": "python3"
  },
  "language_info": {
   "codemirror_mode": {
    "name": "ipython",
    "version": 3
   },
   "file_extension": ".py",
   "mimetype": "text/x-python",
   "name": "python",
   "nbconvert_exporter": "python",
   "pygments_lexer": "ipython3",
   "version": "3.6.1"
  }
 },
 "nbformat": 4,
 "nbformat_minor": 1
}
