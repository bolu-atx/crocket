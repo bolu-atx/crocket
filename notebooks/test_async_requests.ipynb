{
 "cells": [
  {
   "cell_type": "code",
   "execution_count": null,
   "metadata": {
    "collapsed": true
   },
   "outputs": [],
   "source": [
    "import sys\n",
    "sys.path.insert(1, '/home/b3arjuden/crocket')"
   ]
  },
  {
   "cell_type": "code",
   "execution_count": null,
   "metadata": {
    "collapsed": true
   },
   "outputs": [],
   "source": [
    "from json import load as json_load\n",
    "from random import randint, shuffle\n",
    "from requests import get\n",
    "from time import sleep, time\n",
    "from requests import get\n",
    "from requests_futures.sessions import FuturesSession\n",
    "from requests.exceptions import ConnectTimeout, ConnectionError, ProxyError, ReadTimeout\n",
    "from concurrent.futures import as_completed, Future\n",
    "\n",
    "from crocket.bittrex.bittrex2 import Bittrex, return_request_input"
   ]
  },
  {
   "cell_type": "code",
   "execution_count": null,
   "metadata": {
    "collapsed": true
   },
   "outputs": [],
   "source": [
    "PROXY_LIST_PATH = '/home/b3arjuden/crocket/proxy_list.txt'\n",
    "BITTREX_CREDENTIALS_PATH = '/home/b3arjuden/bittrex_credentials.json'"
   ]
  },
  {
   "cell_type": "code",
   "execution_count": null,
   "metadata": {
    "collapsed": true
   },
   "outputs": [],
   "source": [
    "def configure_ip(ip):\n",
    "    \n",
    "    return {\n",
    "        'http': ip,\n",
    "        'https': ip\n",
    "    }\n",
    "\n",
    "def process_response(session, response):\n",
    "    \n",
    "    try:\n",
    "        response.data = response.json()\n",
    "    except:\n",
    "        response.data = {\n",
    "               'success': False,\n",
    "               'message': 'NO_API_RESPONSE',\n",
    "               'result': None\n",
    "            }"
   ]
  },
  {
   "cell_type": "code",
   "execution_count": null,
   "metadata": {
    "collapsed": true
   },
   "outputs": [],
   "source": [
    "# Read files\n",
    "\n",
    "with open(PROXY_LIST_PATH, 'r') as f:\n",
    "    proxies = f.read().splitlines()\n",
    "    \n",
    "with open(BITTREX_CREDENTIALS_PATH, 'r') as f:\n",
    "    credentials = json_load(f)"
   ]
  },
  {
   "cell_type": "code",
   "execution_count": null,
   "metadata": {
    "collapsed": true
   },
   "outputs": [],
   "source": [
    "# Create bittrex objects\n",
    "\n",
    "b1 = Bittrex(api_key=credentials.get('key'), \n",
    "             api_secret=credentials.get('secret'), \n",
    "             api_version='v1.1')\n",
    "\n",
    "b2 = Bittrex(api_key=credentials.get('key'), \n",
    "             api_secret=credentials.get('secret'), \n",
    "             dispatch=return_request_input,\n",
    "             api_version='v1.1')"
   ]
  },
  {
   "cell_type": "code",
   "execution_count": null,
   "metadata": {
    "collapsed": true
   },
   "outputs": [],
   "source": [
    "# Get list of currencies\n",
    "\n",
    "response = b1.get_markets()\n",
    "\n",
    "markets = [x.get('MarketName') for x in response.get('result') \n",
    "              if x.get('BaseCurrency') == 'BTC' and x.get('IsActive')]"
   ]
  },
  {
   "cell_type": "code",
   "execution_count": null,
   "metadata": {
    "collapsed": true
   },
   "outputs": [],
   "source": [
    "num_proxies = 200\n",
    "rind = list(range(num_proxies))"
   ]
  },
  {
   "cell_type": "code",
   "execution_count": null,
   "metadata": {
    "collapsed": true,
    "scrolled": false
   },
   "outputs": [],
   "source": [
    "# Test asynchronous requests\n",
    "\n",
    "response_dict = {}\n",
    "working_data = {}\n",
    "\n",
    "futures = []\n",
    "\n",
    "with FuturesSession(max_workers=20) as session:\n",
    "\n",
    "    for ii in range(0, 10): # TODO: replace with while loop\n",
    "\n",
    "        shuffle(rind)\n",
    "        start = time()\n",
    "\n",
    "        for index in range(len(markets)):\n",
    "\n",
    "            market = markets[index]\n",
    "            request_input = b2.get_market_history(market)\n",
    "\n",
    "            proxy = configure_ip(proxies[rind[index]])\n",
    "            url = request_input.get('url')\n",
    "            headers = {\"apisign\": request_input.get('apisign')}\n",
    "            \n",
    "            response = session.get(url, \n",
    "                                   background_callback=process_response,\n",
    "                                   headers=headers,\n",
    "                                   timeout=5,\n",
    "                                   proxies=proxy)\n",
    "            \n",
    "            # Add attributes to response\n",
    "            response.market = market\n",
    "            response.url = request_input.get('url')\n",
    "            response.headers = headers\n",
    "            \n",
    "            futures.append(response)\n",
    "\n",
    "        stop = time()\n",
    "        time1 = stop - start\n",
    "        print('Async request time: {}s'.format(str(time1)))\n",
    "\n",
    "        start = time()\n",
    "        for future in as_completed(futures):\n",
    "            \n",
    "            try:\n",
    "                response_dict[future.market] = future.result().data\n",
    "            except (ProxyError, ConnectTimeout, ConnectionError, ReadTimeout):\n",
    "                print('Failed API call for {}.'.format(future.market))\n",
    "                \n",
    "                while True:\n",
    "                    \n",
    "                    print('Retrying...')\n",
    "                    r = randint(0, num_proxies-1)\n",
    "                    proxy = configure_ip(proxies[r])\n",
    "                        \n",
    "                    try:\n",
    "                        response = session.get(future.url, \n",
    "                                               background_callback=process_response,\n",
    "                                               headers=future.headers,\n",
    "                                               timeout=3,\n",
    "                                               proxies=proxy)\n",
    "                        response_dict[future.market] = response.result().data\n",
    "                        break\n",
    "                        \n",
    "                    except (ProxyError, ConnectTimeout, ConnectionError, ReadTimeout):\n",
    "                        print(\"Future status: {}\".format(response))\n",
    "                        print('Retried API call failed.')\n",
    "                        pass\n",
    "\n",
    "                print('Retried API call for {} successful.'.format(future.market))\n",
    "        \n",
    "        stop = time()\n",
    "        time2 = stop - start\n",
    "        print('Futures execution time: {}s'.format(str(time2)))\n",
    "        \n",
    "        start = time()\n",
    "        working_data, current_datetime = process_data(response_dict, working_data, current_datetime)\n",
    "        stop = time()\n",
    "        time3 = stop - start\n",
    "        print('Processing and uploading data time: {}s'.format(str(time3)))\n",
    "        \n",
    "        del futures[:]\n",
    "        \n",
    "        if time1 + time2 < 30:\n",
    "            sleep(30 - (int(time1) + int(time2) + int(time3)))"
   ]
  },
  {
   "cell_type": "code",
   "execution_count": 4,
   "metadata": {
    "collapsed": true
   },
   "outputs": [],
   "source": [
    "def process_data(input_data, working_data, current_datetime, interval=60):\n",
    "    \n",
    "    if not working_data:\n",
    "        working_data = input_data\n",
    "        \n",
    "    for market in working_data:\n",
    "        \n",
    "        working_list = working_data.get(market)\n",
    "        input_list = input_data.get(market)\n",
    "        \n",
    "        last_id = working_list[0].get('Id')\n",
    "        id_list = [x.get('Id') for x in input_list]\n",
    "        \n",
    "        if last_id in id_list:\n",
    "            overlap_index = id_list.index(last_id)\n",
    "            working_list = input_list[:overlap_index] + working_list\n",
    "\n",
    "        else:\n",
    "            working_list = input_list + working_list\n",
    "            logger.debug('Latest ID in {} working list not found in input data. '\n",
    "                         'Adding all input data to working list.')\n",
    "        \n",
    "        latest_datetime = convert_bittrex_timestamp_to_datetime(working_list[0].get('TimeStamp'))\n",
    "        \n",
    "        if (latest_datetime - current_datetime).total_seconds() > interval:\n",
    "\n",
    "            start, stop = get_interval_index(working_list, current_datetime, interval)\n",
    "            logger.debug('START: {}, STOP: {}'.format(str(start), str(stop)))\n",
    "\n",
    "            if start == stop and (convert_bittrex_timestamp_to_datetime(\n",
    "                                             working_list[start - 1].get('TimeStamp'))\n",
    "                                              - current_datetime).total_seconds() <= interval:\n",
    "                if metrics and len(metrics) > 0:\n",
    "                    logger.debug('Generating metrics up until latest time.')\n",
    "                    latest_time = convert_bittrex_timestamp_to_datetime(metrics[0].get('TimeStamp'))\n",
    "                    while current_datetime < latest_time:\n",
    "                        new_metrics = calculate_metrics(working_list[start:stop], current_datetime)\n",
    "\n",
    "                        metrics['volume'] = new_metrics.get('volume')\n",
    "                        metrics['buyorder'] = new_metrics.get('buyorder')\n",
    "                        metrics['sellorder'] = new_metrics.get('sellorder')\n",
    "                        metrics['time'] = new_metrics.get('time')\n",
    "\n",
    "                        formatted_entry = format_bittrex_entry(metrics)\n",
    "                        db.insert_query(market, formatted_entry) # TODO: Combine MySQL query\n",
    "                        current_datetime = current_datetime + timedelta(seconds=interval)\n",
    "                        logger.debug('Entry added: {}'.format(';'.join(['{}: {}'.format(k, str(v))\n",
    "                                                                        for k, v in formatted_entry])))\n",
    "                else:\n",
    "                    metrics = calculate_metrics(working_list[start:stop], current_datetime)\n",
    "\n",
    "            else:\n",
    "\n",
    "                if start == stop:\n",
    "                    metrics = calculate_metrics([working_list[start - 1]], current_datetime)\n",
    "                else:\n",
    "                    metrics = calculate_metrics(working_list[start:stop], current_datetime)\n",
    "\n",
    "                formatted_entry = format_bittrex_entry(metrics)\n",
    "                db.insert_query(market, formatted_entry) # TODO: Combine MySQL query\n",
    "                current_datetime = current_datetime + timedelta(seconds=interval)\n",
    "                logger.debug('Entry added: {}'.format(';'.join(['{}: {}'.format(k, str(v))\n",
    "                                                                for k, v in formatted_entry])))\n",
    "\n",
    "            working_data[market] = working_list[:start]\n",
    "    \n",
    "    #TODO: Add MySql query\n",
    "\n",
    "    return working_data, current_datetime"
   ]
  },
  {
   "cell_type": "code",
   "execution_count": null,
   "metadata": {
    "collapsed": true
   },
   "outputs": [],
   "source": []
  }
 ],
 "metadata": {
  "kernelspec": {
   "display_name": "Python 3",
   "language": "python",
   "name": "python3"
  },
  "language_info": {
   "codemirror_mode": {
    "name": "ipython",
    "version": 3
   },
   "file_extension": ".py",
   "mimetype": "text/x-python",
   "name": "python",
   "nbconvert_exporter": "python",
   "pygments_lexer": "ipython3",
   "version": "3.6.1"
  }
 },
 "nbformat": 4,
 "nbformat_minor": 1
}
