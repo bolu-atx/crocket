{
 "cells": [
  {
   "cell_type": "code",
   "execution_count": 6,
   "metadata": {
    "collapsed": true
   },
   "outputs": [],
   "source": [
    "import sys\n",
    "sys.path.insert(1, '/home/b3arjuden/crocket')\n",
    "\n",
    "from decimal import Decimal\n",
    "from json import load as json_load\n",
    "from operator import itemgetter\n",
    "from os import environ\n",
    "from os.path import join\n",
    "from datetime import datetime, timedelta\n",
    "from pprint import pprint\n",
    "from time import sleep\n",
    "\n",
    "from crocket.sql.sql import Database\n",
    "from crocket.utilities.passcode import AESCipher\n",
    "from crocket.utilities.credentials import get_credentials\n",
    "from crocket.bittrex.bittrex2 import Bittrex"
   ]
  },
  {
   "cell_type": "code",
   "execution_count": 7,
   "metadata": {
    "collapsed": true
   },
   "outputs": [],
   "source": [
    "# Environment variables\n",
    "\n",
    "HOME_DIRECTORY_PATH = environ['HOME']\n",
    "CREDENTIALS_FILE_PATH = join(HOME_DIRECTORY_PATH, '.credentials_unlocked.json')\n",
    "\n",
    "HOSTNAME = 'localhost'\n",
    "DATABASE_NAME = 'PRODUCTION40'"
   ]
  },
  {
   "cell_type": "code",
   "execution_count": 8,
   "metadata": {
    "collapsed": true
   },
   "outputs": [],
   "source": [
    "BITTREX_CREDENTIALS_PATH = '/home/b3arjuden/bittrex_credentials.json'\n",
    "\n",
    "with open(BITTREX_CREDENTIALS_PATH, 'r') as f:\n",
    "    credentials = json_load(f)"
   ]
  },
  {
   "cell_type": "code",
   "execution_count": 9,
   "metadata": {
    "collapsed": true
   },
   "outputs": [],
   "source": [
    "b = Bittrex(api_key=credentials.get('key'), api_secret=credentials.get('secret'), api_version='v1.1')"
   ]
  },
  {
   "cell_type": "code",
   "execution_count": 10,
   "metadata": {
    "collapsed": true
   },
   "outputs": [],
   "source": [
    "# Load SQL username and password\n",
    "USERNAME, PASSCODE = get_credentials(CREDENTIALS_FILE_PATH)"
   ]
  },
  {
   "cell_type": "code",
   "execution_count": 11,
   "metadata": {
    "collapsed": true
   },
   "outputs": [],
   "source": [
    "mins = 2\n",
    "time_str = datetime.strftime(datetime.now() - timedelta(minutes=mins), \"%Y-%m-%d %H:%M:%S\")"
   ]
  },
  {
   "cell_type": "code",
   "execution_count": 13,
   "metadata": {},
   "outputs": [
    {
     "name": "stdout",
     "output_type": "stream",
     "text": [
      "2017-12-21 13:11:43.222284\n",
      "[('BTC-XRP', (Decimal('321.12455027'), 3526)),\n",
      " ('BTC-WAVES', (Decimal('73.51618828'), 1078)),\n",
      " ('BTC-STRAT', (Decimal('47.50629196'), 815)),\n",
      " ('BTC-ADA', (Decimal('40.95357169'), 748)),\n",
      " ('BTC-GBG', (Decimal('40.20399092'), 1274)),\n",
      " ('BTC-XZC', (Decimal('37.81629239'), 1159)),\n",
      " ('BTC-XEM', (Decimal('36.80775029'), 442)),\n",
      " ('BTC-NXT', (Decimal('34.60780841'), 685)),\n",
      " ('BTC-DOGE', (Decimal('31.39759475'), 441)),\n",
      " ('BTC-XMR', (Decimal('26.50849901'), 721)),\n",
      " ('BTC-QTUM', (Decimal('23.59889891'), 425)),\n",
      " ('BTC-VTC', (Decimal('22.10826533'), 457)),\n",
      " ('BTC-DASH', (Decimal('21.43153433'), 551)),\n",
      " ('BTC-SC', (Decimal('20.32273341'), 494)),\n",
      " ('BTC-BTG', (Decimal('17.33261075'), 337)),\n",
      " ('BTC-MCO', (Decimal('17.12354857'), 474)),\n",
      " ('BTC-PAY', (Decimal('15.48440725'), 251)),\n",
      " ('BTC-NEO', (Decimal('14.48989857'), 347)),\n",
      " ('BTC-ZEC', (Decimal('14.45056252'), 512)),\n",
      " ('BTC-DGB', (Decimal('14.15988361'), 353)),\n",
      " ('BTC-LSK', (Decimal('13.23507563'), 245)),\n",
      " ('BTC-KMD', (Decimal('13.16948847'), 285)),\n",
      " ('BTC-STEEM', (Decimal('13.04963896'), 366)),\n",
      " ('BTC-OMG', (Decimal('12.78979044'), 464)),\n",
      " ('BTC-MTL', (Decimal('11.31223157'), 323)),\n",
      " ('BTC-ARDR', (Decimal('11.22817904'), 222)),\n",
      " ('BTC-ETC', (Decimal('8.82759845'), 508)),\n",
      " ('BTC-POWR', (Decimal('8.71596199'), 403)),\n",
      " ('BTC-CLOAK', (Decimal('7.99702872'), 167)),\n",
      " ('BTC-ARK', (Decimal('7.84272342'), 213)),\n",
      " ('BTC-EMC2', (Decimal('6.77354701'), 235)),\n",
      " ('BTC-GRS', (Decimal('6.69127124'), 160)),\n",
      " ('BTC-SYS', (Decimal('6.63608466'), 208)),\n",
      " ('BTC-BAT', (Decimal('6.59654319'), 143)),\n",
      " ('BTC-FCT', (Decimal('6.22335564'), 175)),\n",
      " ('BTC-XMY', (Decimal('6.15936503'), 294)),\n",
      " ('BTC-PIVX', (Decimal('5.83556033'), 154)),\n",
      " ('BTC-UBQ', (Decimal('5.37064190'), 197)),\n",
      " ('BTC-RCN', (Decimal('5.09060708'), 135)),\n",
      " ('BTC-BAY', (Decimal('4.81467922'), 130)),\n",
      " ('BTC-GNT', (Decimal('4.55166508'), 210)),\n",
      " ('BTC-NAV', (Decimal('4.00443496'), 123)),\n",
      " ('BTC-REP', (Decimal('3.91135402'), 114)),\n",
      " ('BTC-NMR', (Decimal('3.90124551'), 119)),\n",
      " ('BTC-LBC', (Decimal('3.74965568'), 131)),\n",
      " ('BTC-XDN', (Decimal('3.44650304'), 155)),\n",
      " ('BTC-GAME', (Decimal('3.35526826'), 122)),\n",
      " ('BTC-THC', (Decimal('3.29454181'), 163)),\n",
      " ('BTC-FLDC', (Decimal('3.02777696'), 131)),\n",
      " ('BTC-MANA', (Decimal('2.97064873'), 153)),\n",
      " ('BTC-TRIG', (Decimal('2.88610782'), 107)),\n",
      " ('BTC-MONA', (Decimal('2.88549115'), 114)),\n",
      " ('BTC-IOP', (Decimal('2.65320669'), 96)),\n",
      " ('BTC-EMC', (Decimal('2.57793962'), 186)),\n",
      " ('BTC-SALT', (Decimal('2.49090518'), 102)),\n",
      " ('BTC-RISE', (Decimal('2.38900385'), 80)),\n",
      " ('BTC-SNT', (Decimal('2.36565940'), 78)),\n",
      " ('BTC-ADX', (Decimal('2.34868004'), 115)),\n",
      " ('BTC-ZEN', (Decimal('2.30927316'), 125)),\n",
      " ('BTC-FUN', (Decimal('2.30536607'), 119)),\n",
      " ('BTC-BITB', (Decimal('2.29795940'), 93)),\n",
      " ('BTC-LUN', (Decimal('2.23033672'), 55)),\n",
      " ('BTC-SHIFT', (Decimal('2.17493347'), 76)),\n",
      " ('BTC-STORJ', (Decimal('2.09267901'), 62)),\n",
      " ('BTC-TIX', (Decimal('1.98069768'), 84)),\n",
      " ('BTC-NBT', (Decimal('1.81061272'), 89)),\n",
      " ('BTC-EDG', (Decimal('1.80258391'), 62)),\n",
      " ('BTC-OK', (Decimal('1.73046786'), 86)),\n",
      " ('BTC-TRST', (Decimal('1.70314380'), 59)),\n",
      " ('BTC-POT', (Decimal('1.63816053'), 110)),\n",
      " ('BTC-ABY', (Decimal('1.60297701'), 121)),\n",
      " ('BTC-GUP', (Decimal('1.59959129'), 126)),\n",
      " ('BTC-XEL', (Decimal('1.58237316'), 64)),\n",
      " ('BTC-MUSIC', (Decimal('1.52345813'), 134)),\n",
      " ('BTC-VIB', (Decimal('1.51634670'), 55)),\n",
      " ('BTC-DCR', (Decimal('1.37834454'), 83)),\n",
      " ('BTC-BLOCK', (Decimal('1.37052700'), 60)),\n",
      " ('BTC-EXP', (Decimal('1.36997038'), 73)),\n",
      " ('BTC-CVC', (Decimal('1.24400397'), 75)),\n",
      " ('BTC-HMQ', (Decimal('1.09584757'), 82)),\n",
      " ('BTC-NXS', (Decimal('1.05706617'), 59))]\n"
     ]
    }
   ],
   "source": [
    "buy_volume = {}\n",
    "\n",
    "skip_list = ['BTC-ETH', 'BTC-LTC', 'BTC-BCC', 'BTC-XVG', 'BTC-XLM', 'BTC-RDD']\n",
    "\n",
    "while not buy_volume:\n",
    "\n",
    "    db = Database(hostname=HOSTNAME,\n",
    "                  username=USERNAME,\n",
    "                  password=PASSCODE,\n",
    "                  database_name=DATABASE_NAME)\n",
    "    \n",
    "    tables = db.get_all_tables()\n",
    "    \n",
    "    for table in tables:\n",
    "\n",
    "        data = db.select_query(table, '*', 'where time > \"{}\"'.format('2017/12/21 12:30:00'))\n",
    "        buy_vol = sum(x[4] for x in data)\n",
    "        buy_order = sum(x[6] for x in data)\n",
    "        \n",
    "        # if can't figure it out in 1st minute, change buy_vol to 10 and buy_order to 100\n",
    "        if table not in skip_list and buy_vol > 1 and buy_order > 50:\n",
    "            buy_volume[table] = (buy_vol, buy_order)\n",
    "\n",
    "    sleep(1)\n",
    "\n",
    "print(datetime.now())\n",
    "pprint(sorted(buy_volume.items(), key=itemgetter(1), reverse=True))"
   ]
  },
  {
   "cell_type": "code",
   "execution_count": 268,
   "metadata": {
    "collapsed": true
   },
   "outputs": [],
   "source": [
    "market = ''"
   ]
  },
  {
   "cell_type": "code",
   "execution_count": 175,
   "metadata": {
    "collapsed": true
   },
   "outputs": [],
   "source": [
    "wallet = 0\n",
    "\n",
    "price = b.get_ticker(market).get('result').get('Ask')\n",
    "buy_price = float(Decimal(price * 1.1).quantize(Decimal(10) ** -8))\n",
    "buy_volume = int(wallet / buy_price)"
   ]
  },
  {
   "cell_type": "code",
   "execution_count": 158,
   "metadata": {},
   "outputs": [
    {
     "data": {
      "text/plain": [
       "{'message': 'INSUFFICIENT_FUNDS', 'result': None, 'success': False}"
      ]
     },
     "execution_count": 158,
     "metadata": {},
     "output_type": "execute_result"
    }
   ],
   "source": [
    "b.buy_limit(market, buy_volume, buy_price)"
   ]
  }
 ],
 "metadata": {
  "kernelspec": {
   "display_name": "Python 3",
   "language": "python",
   "name": "python3"
  },
  "language_info": {
   "codemirror_mode": {
    "name": "ipython",
    "version": 3
   },
   "file_extension": ".py",
   "mimetype": "text/x-python",
   "name": "python",
   "nbconvert_exporter": "python",
   "pygments_lexer": "ipython3",
   "version": "3.6.1"
  }
 },
 "nbformat": 4,
 "nbformat_minor": 2
}
