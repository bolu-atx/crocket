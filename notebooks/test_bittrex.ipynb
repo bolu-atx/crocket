{
 "cells": [
  {
   "cell_type": "code",
   "execution_count": 1,
   "metadata": {
    "collapsed": true
   },
   "outputs": [],
   "source": [
    "import sys\n",
    "sys.path.insert(1, '/home/b3arjuden/crocket')"
   ]
  },
  {
   "cell_type": "code",
   "execution_count": 2,
   "metadata": {
    "collapsed": true,
    "scrolled": true
   },
   "outputs": [],
   "source": [
    "from datetime import datetime\n",
    "from decimal import Decimal\n",
    "from json import load as json_load\n",
    "from logging import FileHandler, Formatter, StreamHandler, getLogger\n",
    "from pprint import pprint\n",
    "from time import time\n",
    "\n",
    "from crocket.bittrex.bittrex2 import Bittrex"
   ]
  },
  {
   "cell_type": "code",
   "execution_count": 3,
   "metadata": {
    "collapsed": true
   },
   "outputs": [],
   "source": [
    "BITTREX_CREDENTIALS_PATH = '/home/b3arjuden/bittrex_credentials.json'\n",
    "\n",
    "with open(BITTREX_CREDENTIALS_PATH, 'r') as f:\n",
    "    credentials = json_load(f)"
   ]
  },
  {
   "cell_type": "code",
   "execution_count": 4,
   "metadata": {
    "collapsed": true
   },
   "outputs": [],
   "source": [
    "b = Bittrex(api_key=credentials.get('key'), api_secret=credentials.get('secret'), api_version='v1.1')"
   ]
  },
  {
   "cell_type": "code",
   "execution_count": 5,
   "metadata": {
    "collapsed": true
   },
   "outputs": [],
   "source": [
    "main_logger = getLogger('scraper')\n",
    "\n",
    "main_logger.setLevel(10)\n",
    "\n",
    "sh = StreamHandler()\n",
    "sh.setFormatter(Formatter('%(levelname)s: %(message)s'))\n",
    "main_logger.addHandler(sh)"
   ]
  },
  {
   "cell_type": "code",
   "execution_count": null,
   "metadata": {
    "collapsed": true
   },
   "outputs": [],
   "source": [
    "reponse = b.buy_or_else('BTC-VTR', 250, 0.00002470, logger=main_logger)"
   ]
  },
  {
   "cell_type": "code",
   "execution_count": 14,
   "metadata": {},
   "outputs": [
    {
     "name": "stdout",
     "output_type": "stream",
     "text": [
      "88.30601092 0.00000679\n"
     ]
    }
   ],
   "source": [
    "quantity = Decimal(88.30601092).quantize(Decimal(10) ** -8)\n",
    "sell_rate = (Decimal(0.0006).quantize(Decimal(10) ** -8) / quantity).quantize(Decimal(10) ** -8)\n",
    "print(quantity, sell_rate)"
   ]
  },
  {
   "cell_type": "code",
   "execution_count": 15,
   "metadata": {},
   "outputs": [
    {
     "name": "stderr",
     "output_type": "stream",
     "text": [
      "INFO: Tradebot: BTC-XMG: sell order submitted successfully.\n",
      "INFO: Tradebot: BTC-XMG: received sell order metadata successfully.\n"
     ]
    }
   ],
   "source": [
    "reponse = b.sell_or_else('BTC-XMG', quantity, sell_rate, logger=main_logger)"
   ]
  },
  {
   "cell_type": "code",
   "execution_count": 16,
   "metadata": {},
   "outputs": [
    {
     "data": {
      "text/plain": [
       "{'result': {},\n",
       " 'sell_result': {'AccountId': None,\n",
       "  'CancelInitiated': False,\n",
       "  'Closed': '2017-12-06T09:39:57.82',\n",
       "  'CommissionPaid': 6.73e-06,\n",
       "  'CommissionReserveRemaining': 0.0,\n",
       "  'CommissionReserved': 0.0,\n",
       "  'Condition': 'NONE',\n",
       "  'ConditionTarget': None,\n",
       "  'Exchange': 'BTC-XMG',\n",
       "  'ImmediateOrCancel': False,\n",
       "  'IsConditional': False,\n",
       "  'IsOpen': False,\n",
       "  'Limit': 6.79e-06,\n",
       "  'Opened': '2017-12-06T09:39:57.6',\n",
       "  'OrderUuid': 'c07e1345-acfb-4ffe-ae65-7d5ec2716de7',\n",
       "  'Price': 0.00269598,\n",
       "  'PricePerUnit': 3.052e-05,\n",
       "  'Quantity': 88.30601092,\n",
       "  'QuantityRemaining': 0.0,\n",
       "  'ReserveRemaining': 88.30601092,\n",
       "  'Reserved': 88.30601092,\n",
       "  'Sentinel': '4580c4c9-8d32-4cef-a846-83773625c115',\n",
       "  'Type': 'LIMIT_SELL'},\n",
       " 'success': True}"
      ]
     },
     "execution_count": 16,
     "metadata": {},
     "output_type": "execute_result"
    }
   ],
   "source": [
    "reponse"
   ]
  },
  {
   "cell_type": "code",
   "execution_count": 11,
   "metadata": {},
   "outputs": [
    {
     "data": {
      "text/plain": [
       "{'result': {},\n",
       " 'sell_result': {'AccountId': None,\n",
       "  'CancelInitiated': False,\n",
       "  'Closed': None,\n",
       "  'CommissionPaid': 0.0,\n",
       "  'CommissionReserveRemaining': 0.0,\n",
       "  'CommissionReserved': 0.0,\n",
       "  'Condition': 'NONE',\n",
       "  'ConditionTarget': None,\n",
       "  'Exchange': 'BTC-SNRG',\n",
       "  'ImmediateOrCancel': False,\n",
       "  'IsConditional': False,\n",
       "  'IsOpen': True,\n",
       "  'Limit': 3.743e-05,\n",
       "  'Opened': '2017-12-06T09:35:49.53',\n",
       "  'OrderUuid': 'a48bda8b-f90c-43e4-bdbe-4c4054197b2c',\n",
       "  'Price': 0.0,\n",
       "  'PricePerUnit': None,\n",
       "  'Quantity': 16.03141759,\n",
       "  'QuantityRemaining': 16.03141759,\n",
       "  'ReserveRemaining': 16.03141759,\n",
       "  'Reserved': 16.03141759,\n",
       "  'Sentinel': '9865741f-95da-403d-afd9-2bb59843e29d',\n",
       "  'Type': 'LIMIT_SELL'},\n",
       " 'success': True}"
      ]
     },
     "execution_count": 11,
     "metadata": {},
     "output_type": "execute_result"
    }
   ],
   "source": [
    "reponse"
   ]
  },
  {
   "cell_type": "code",
   "execution_count": null,
   "metadata": {
    "collapsed": true
   },
   "outputs": [],
   "source": []
  },
  {
   "cell_type": "code",
   "execution_count": null,
   "metadata": {
    "scrolled": true
   },
   "outputs": [],
   "source": [
    "br = reponse.get('sell_result')\n",
    "br.get('Quantity') - br.get('QuantityRemaining')"
   ]
  },
  {
   "cell_type": "code",
   "execution_count": null,
   "metadata": {},
   "outputs": [],
   "source": [
    "Decimal(br.get('Price') - br.get('CommissionPaid')).quantize(Decimal(10) ** -8)"
   ]
  },
  {
   "cell_type": "code",
   "execution_count": null,
   "metadata": {
    "collapsed": true
   },
   "outputs": [],
   "source": [
    "tmp = b.get_order('bb3dd45e-abbb-4cc8-9b07-f2ec0ac329f8')"
   ]
  },
  {
   "cell_type": "code",
   "execution_count": null,
   "metadata": {
    "collapsed": true
   },
   "outputs": [],
   "source": [
    "tmp"
   ]
  },
  {
   "cell_type": "code",
   "execution_count": null,
   "metadata": {
    "collapsed": true
   },
   "outputs": [],
   "source": [
    "reponse"
   ]
  },
  {
   "cell_type": "code",
   "execution_count": null,
   "metadata": {
    "collapsed": true
   },
   "outputs": [],
   "source": [
    "rate = Decimal(0.00002928)\n",
    "volume = Decimal(0.0006)\n",
    "\n",
    "quantity = float((volume/rate).quantize(Decimal(10) ** -8))\n",
    "buy_rate = (rate*Decimal(2)).quantize(Decimal(10) ** -8)\n",
    "print(quantity)\n",
    "print(buy_rate)"
   ]
  },
  {
   "cell_type": "code",
   "execution_count": null,
   "metadata": {
    "collapsed": true
   },
   "outputs": [],
   "source": [
    "buy = b.buy_limit('BTC-XMG', 20, 0.00002929)"
   ]
  },
  {
   "cell_type": "code",
   "execution_count": null,
   "metadata": {
    "collapsed": true
   },
   "outputs": [],
   "source": [
    "buy"
   ]
  },
  {
   "cell_type": "code",
   "execution_count": null,
   "metadata": {
    "collapsed": true,
    "scrolled": true
   },
   "outputs": [],
   "source": [
    "buy_uuid = buy.get('result').get('uuid')\n",
    "data = b.get_order(buy_uuid)\n",
    "sell_quantity = data.get('result').get('Quantity')\n",
    "print(data)"
   ]
  },
  {
   "cell_type": "code",
   "execution_count": null,
   "metadata": {
    "collapsed": true
   },
   "outputs": [],
   "source": [
    "cancel = b.cancel(buy_uuid)"
   ]
  },
  {
   "cell_type": "code",
   "execution_count": null,
   "metadata": {
    "collapsed": true
   },
   "outputs": [],
   "source": [
    "cancel"
   ]
  },
  {
   "cell_type": "code",
   "execution_count": null,
   "metadata": {
    "collapsed": true
   },
   "outputs": [],
   "source": [
    "sell_rate = 0.0006 / sell_quantity\n",
    "print(sell_rate)"
   ]
  },
  {
   "cell_type": "code",
   "execution_count": null,
   "metadata": {
    "collapsed": true
   },
   "outputs": [],
   "source": [
    "sell = b.sell_limit('BTC-SNRG', sell_quantity, sell_rate)"
   ]
  },
  {
   "cell_type": "code",
   "execution_count": null,
   "metadata": {
    "collapsed": true
   },
   "outputs": [],
   "source": [
    "sell_uuid = sell.get('result').get('uuid')\n",
    "data = b.get_order(sell_uuid)\n",
    "sell_price = data.get('result').get('Price')\n",
    "print(data)"
   ]
  },
  {
   "cell_type": "code",
   "execution_count": null,
   "metadata": {
    "collapsed": true
   },
   "outputs": [],
   "source": [
    "type(data.get('result').get('QuantityRemaining'))"
   ]
  },
  {
   "cell_type": "code",
   "execution_count": null,
   "metadata": {
    "collapsed": true
   },
   "outputs": [],
   "source": [
    "rate"
   ]
  },
  {
   "cell_type": "code",
   "execution_count": null,
   "metadata": {
    "collapsed": true
   },
   "outputs": [],
   "source": [
    "sell = b.sell_limit('BTC-SNRG', 5.55932204, rate)"
   ]
  },
  {
   "cell_type": "code",
   "execution_count": null,
   "metadata": {
    "collapsed": true
   },
   "outputs": [],
   "source": [
    "try:\n",
    "    try:\n",
    "        raise RuntimeError\n",
    "    except RuntimeError:\n",
    "        print('Reached inside except.')\n",
    "        raise OSError\n",
    "except (OSError, RuntimeError) as e:\n",
    "    print('Reached outside except.')"
   ]
  },
  {
   "cell_type": "code",
   "execution_count": null,
   "metadata": {
    "collapsed": true
   },
   "outputs": [],
   "source": []
  }
 ],
 "metadata": {
  "kernelspec": {
   "display_name": "Python 3",
   "language": "python",
   "name": "python3"
  },
  "language_info": {
   "codemirror_mode": {
    "name": "ipython",
    "version": 3
   },
   "file_extension": ".py",
   "mimetype": "text/x-python",
   "name": "python",
   "nbconvert_exporter": "python",
   "pygments_lexer": "ipython3",
   "version": "3.6.1"
  }
 },
 "nbformat": 4,
 "nbformat_minor": 1
}
