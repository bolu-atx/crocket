{
 "cells": [
  {
   "cell_type": "code",
   "execution_count": 5,
   "metadata": {
    "collapsed": true
   },
   "outputs": [],
   "source": [
    "import sys\n",
    "sys.path.insert(1, '/home/b3arjuden/crocket')"
   ]
  },
  {
   "cell_type": "code",
   "execution_count": 6,
   "metadata": {
    "collapsed": true,
    "scrolled": true
   },
   "outputs": [],
   "source": [
    "from datetime import datetime\n",
    "from decimal import Decimal\n",
    "from json import load as json_load\n",
    "from pprint import pprint\n",
    "from time import time\n",
    "\n",
    "from crocket.bittrex.bittrex2 import Bittrex"
   ]
  },
  {
   "cell_type": "code",
   "execution_count": 7,
   "metadata": {
    "collapsed": true
   },
   "outputs": [],
   "source": [
    "BITTREX_CREDENTIALS_PATH = '/home/b3arjuden/bittrex_credentials.json'\n",
    "\n",
    "with open(BITTREX_CREDENTIALS_PATH, 'r') as f:\n",
    "    credentials = json_load(f)"
   ]
  },
  {
   "cell_type": "code",
   "execution_count": 8,
   "metadata": {
    "collapsed": true
   },
   "outputs": [],
   "source": [
    "b = Bittrex(api_key=credentials.get('key'), api_secret=credentials.get('secret'), api_version='v1.1')"
   ]
  },
  {
   "cell_type": "code",
   "execution_count": 4,
   "metadata": {},
   "outputs": [
    {
     "name": "stdout",
     "output_type": "stream",
     "text": [
      "20.49180328\n",
      "0.00005856\n"
     ]
    }
   ],
   "source": [
    "rate = Decimal(0.00002928)\n",
    "volume = Decimal(0.0006)\n",
    "\n",
    "quantity = float((volume/rate).quantize(Decimal(10) ** -8))\n",
    "buy_rate = (rate*Decimal(2)).quantize(Decimal(10) ** -8)\n",
    "print(quantity)\n",
    "print(buy_rate)"
   ]
  },
  {
   "cell_type": "code",
   "execution_count": 9,
   "metadata": {
    "collapsed": true
   },
   "outputs": [],
   "source": [
    "buy = b.buy_limit('BTC-XMG', 20, 0.00002929)"
   ]
  },
  {
   "cell_type": "code",
   "execution_count": 10,
   "metadata": {},
   "outputs": [
    {
     "data": {
      "text/plain": [
       "{'message': '',\n",
       " 'result': {'uuid': 'bdea73e4-da56-4e9e-affc-aab380569703'},\n",
       " 'success': True}"
      ]
     },
     "execution_count": 10,
     "metadata": {},
     "output_type": "execute_result"
    }
   ],
   "source": [
    "buy"
   ]
  },
  {
   "cell_type": "code",
   "execution_count": 11,
   "metadata": {
    "scrolled": true
   },
   "outputs": [
    {
     "name": "stdout",
     "output_type": "stream",
     "text": [
      "{'success': True, 'message': '', 'result': {'AccountId': None, 'OrderUuid': 'bdea73e4-da56-4e9e-affc-aab380569703', 'Exchange': 'BTC-XMG', 'Type': 'LIMIT_BUY', 'Quantity': 20.0, 'QuantityRemaining': 20.0, 'Limit': 2.929e-05, 'Reserved': 0.0005858, 'ReserveRemaining': 0.0005858, 'CommissionReserved': 1.46e-06, 'CommissionReserveRemaining': 1.46e-06, 'CommissionPaid': 0.0, 'Price': 0.0, 'PricePerUnit': None, 'Opened': '2017-12-02T18:08:20.13', 'Closed': None, 'IsOpen': True, 'Sentinel': '3179e4fe-456d-4250-ab8f-45a800bf4c68', 'CancelInitiated': False, 'ImmediateOrCancel': False, 'IsConditional': False, 'Condition': 'NONE', 'ConditionTarget': None}}\n"
     ]
    }
   ],
   "source": [
    "buy_uuid = buy.get('result').get('uuid')\n",
    "data = b.get_order(buy_uuid)\n",
    "sell_quantity = data.get('result').get('Quantity')\n",
    "print(data)"
   ]
  },
  {
   "cell_type": "code",
   "execution_count": 23,
   "metadata": {
    "collapsed": true
   },
   "outputs": [],
   "source": [
    "cancel = b.cancel(buy_uuid)"
   ]
  },
  {
   "cell_type": "code",
   "execution_count": 24,
   "metadata": {},
   "outputs": [
    {
     "data": {
      "text/plain": [
       "{'message': '', 'result': None, 'success': True}"
      ]
     },
     "execution_count": 24,
     "metadata": {},
     "output_type": "execute_result"
    }
   ],
   "source": [
    "cancel"
   ]
  },
  {
   "cell_type": "code",
   "execution_count": 15,
   "metadata": {},
   "outputs": [
    {
     "name": "stdout",
     "output_type": "stream",
     "text": [
      "0.00012737142858926058\n"
     ]
    }
   ],
   "source": [
    "sell_rate = 0.0006 / sell_quantity\n",
    "print(sell_rate)"
   ]
  },
  {
   "cell_type": "code",
   "execution_count": 16,
   "metadata": {
    "collapsed": true
   },
   "outputs": [],
   "source": [
    "sell = b.sell_limit('BTC-SNRG', sell_quantity, sell_rate)"
   ]
  },
  {
   "cell_type": "code",
   "execution_count": 20,
   "metadata": {},
   "outputs": [
    {
     "name": "stdout",
     "output_type": "stream",
     "text": [
      "{'success': True, 'message': '', 'result': {'AccountId': None, 'OrderUuid': 'c59066f0-6f69-4095-841b-37f8e3458fde', 'Exchange': 'BTC-SNRG', 'Type': 'LIMIT_SELL', 'Quantity': 4.71063257, 'QuantityRemaining': 0.0, 'Limit': 0.00012737, 'Reserved': 4.71063257, 'ReserveRemaining': 4.71063257, 'CommissionReserved': 0.0, 'CommissionReserveRemaining': 0.0, 'CommissionPaid': 1.74e-06, 'Price': 0.00069962, 'PricePerUnit': 0.00014851, 'Opened': '2017-12-02T07:46:24.843', 'Closed': '2017-12-02T07:46:24.983', 'IsOpen': False, 'Sentinel': 'd8377b7c-a43a-4514-b56f-d412abd07778', 'CancelInitiated': False, 'ImmediateOrCancel': False, 'IsConditional': False, 'Condition': 'NONE', 'ConditionTarget': None}}\n"
     ]
    }
   ],
   "source": [
    "sell_uuid = sell.get('result').get('uuid')\n",
    "data = b.get_order(sell_uuid)\n",
    "sell_price = data.get('result').get('Price')\n",
    "print(data)"
   ]
  },
  {
   "cell_type": "code",
   "execution_count": 26,
   "metadata": {},
   "outputs": [
    {
     "data": {
      "text/plain": [
       "float"
      ]
     },
     "execution_count": 26,
     "metadata": {},
     "output_type": "execute_result"
    }
   ],
   "source": [
    "type(data.get('result').get('QuantityRemaining'))"
   ]
  },
  {
   "cell_type": "code",
   "execution_count": null,
   "metadata": {
    "collapsed": true
   },
   "outputs": [],
   "source": [
    "rate"
   ]
  },
  {
   "cell_type": "code",
   "execution_count": null,
   "metadata": {
    "collapsed": true
   },
   "outputs": [],
   "source": [
    "sell = b.sell_limit('BTC-SNRG', 5.55932204, rate)"
   ]
  },
  {
   "cell_type": "code",
   "execution_count": null,
   "metadata": {
    "collapsed": true
   },
   "outputs": [],
   "source": [
    "sell"
   ]
  },
  {
   "cell_type": "code",
   "execution_count": null,
   "metadata": {
    "collapsed": true
   },
   "outputs": [],
   "source": [
    "buy"
   ]
  },
  {
   "cell_type": "code",
   "execution_count": null,
   "metadata": {
    "collapsed": true
   },
   "outputs": [],
   "source": [
    "from logging import FileHandler, Formatter, StreamHandler, getLogger"
   ]
  },
  {
   "cell_type": "code",
   "execution_count": null,
   "metadata": {
    "collapsed": true
   },
   "outputs": [],
   "source": [
    "main_logger = getLogger('scraper')\n",
    "\n",
    "main_logger.setLevel(10)\n",
    "\n",
    "sh = StreamHandler()\n",
    "sh.setFormatter(Formatter('%(levelname)s: %(message)s'))\n",
    "main_logger.addHandler(sh)"
   ]
  }
 ],
 "metadata": {
  "kernelspec": {
   "display_name": "Python 3",
   "language": "python",
   "name": "python3"
  },
  "language_info": {
   "codemirror_mode": {
    "name": "ipython",
    "version": 3
   },
   "file_extension": ".py",
   "mimetype": "text/x-python",
   "name": "python",
   "nbconvert_exporter": "python",
   "pygments_lexer": "ipython3",
   "version": "3.6.1"
  }
 },
 "nbformat": 4,
 "nbformat_minor": 1
}
