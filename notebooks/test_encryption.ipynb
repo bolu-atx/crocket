{
 "cells": [
  {
   "cell_type": "code",
   "execution_count": 35,
   "metadata": {
    "collapsed": true
   },
   "outputs": [],
   "source": [
    "from base64 import b64decode, b64encode\n",
    "from hashlib import sha256\n",
    "\n",
    "from Crypto import Random\n",
    "from Crypto.Cipher import AES"
   ]
  },
  {
   "cell_type": "code",
   "execution_count": 36,
   "metadata": {
    "collapsed": true
   },
   "outputs": [],
   "source": [
    "class AESCipher(object):\n",
    "    def __init__(self, key):\n",
    "        self.block_size = 32\n",
    "        self.key = sha256(key.encode()).digest()\n",
    "\n",
    "    def encrypt(self, passcode):\n",
    "        \"\"\"\n",
    "        Encrypt passcode with key.\n",
    "        Arguments:\n",
    "            passcode (str):\n",
    "        \"\"\"\n",
    "\n",
    "        padded_passcode = self._pad(passcode)\n",
    "\n",
    "        iv = Random.new().read(AES.block_size)\n",
    "        cipher = AES.new(self.key, AES.MODE_CBC, iv)\n",
    "\n",
    "        return b64encode(iv + cipher.encrypt(padded_passcode))\n",
    "\n",
    "    def decrypt(self, encrypted_passcode):\n",
    "        \"\"\"\n",
    "        Decrypt encrypted passcode with key.\n",
    "        Arguments:\n",
    "            encrypted_passcode (str):\n",
    "        \"\"\"\n",
    "\n",
    "        decoded_encrypted_passcode = b64decode(encrypted_passcode)\n",
    "\n",
    "        iv = decoded_encrypted_passcode[:AES.block_size]\n",
    "        cipher = AES.new(self.key, AES.MODE_CBC, iv)\n",
    "\n",
    "        return self._unpad(cipher.decrypt(decoded_encrypted_passcode[AES.block_size:])).decode('utf-8')\n",
    "\n",
    "    def _pad(self, decrypted):\n",
    "        \"\"\"\n",
    "        Pad passcode.\n",
    "        \"\"\"\n",
    "\n",
    "        return decrypted + (self.block_size - len(decrypted) % self.block_size) * chr(\n",
    "            self.block_size - len(decrypted) % self.block_size)\n",
    "\n",
    "    @staticmethod\n",
    "    def _unpad(decrypted):\n",
    "        \"\"\"\n",
    "        Unpad passcode.\n",
    "        \"\"\"\n",
    "\n",
    "        return decrypted[:-ord(decrypted[len(decrypted) - 1:])]"
   ]
  },
  {
   "cell_type": "code",
   "execution_count": 49,
   "metadata": {
    "collapsed": false
   },
   "outputs": [],
   "source": [
    "import time"
   ]
  },
  {
   "cell_type": "code",
   "execution_count": 66,
   "metadata": {
    "collapsed": false
   },
   "outputs": [],
   "source": [
    "t = time.localtime()"
   ]
  },
  {
   "cell_type": "code",
   "execution_count": 67,
   "metadata": {
    "collapsed": false
   },
   "outputs": [
    {
     "data": {
      "text/plain": [
       "9"
      ]
     },
     "execution_count": 67,
     "metadata": {},
     "output_type": "execute_result"
    }
   ],
   "source": [
    "t.tm_mon"
   ]
  },
  {
   "cell_type": "code",
   "execution_count": 63,
   "metadata": {
    "collapsed": false
   },
   "outputs": [
    {
     "ename": "TypeError",
     "evalue": "_strptime_time() missing 1 required positional argument: 'data_string'",
     "traceback": [
      "\u001b[0;31m---------------------------------------------------------------------------\u001b[0m",
      "\u001b[0;31mTypeError\u001b[0m                                 Traceback (most recent call last)",
      "\u001b[0;32m<ipython-input-63-95e3161d5897>\u001b[0m in \u001b[0;36m<module>\u001b[0;34m()\u001b[0m\n\u001b[0;32m----> 1\u001b[0;31m \u001b[0mtime\u001b[0m\u001b[0;34m.\u001b[0m\u001b[0mstrptime\u001b[0m\u001b[0;34m(\u001b[0m\u001b[0;34m)\u001b[0m\u001b[0;34m\u001b[0m\u001b[0m\n\u001b[0m",
      "\u001b[0;31mTypeError\u001b[0m: _strptime_time() missing 1 required positional argument: 'data_string'"
     ],
     "output_type": "error"
    }
   ],
   "source": [
    "time.strptime()"
   ]
  },
  {
   "cell_type": "code",
   "execution_count": null,
   "metadata": {
    "collapsed": true
   },
   "outputs": [],
   "source": [
    ""
   ]
  }
 ],
 "metadata": {
  "kernelspec": {
   "display_name": "Python 3",
   "language": "python",
   "name": "python3"
  },
  "language_info": {
   "codemirror_mode": {
    "name": "ipython",
    "version": 3.0
   },
   "file_extension": ".py",
   "mimetype": "text/x-python",
   "name": "python",
   "nbconvert_exporter": "python",
   "pygments_lexer": "ipython3",
   "version": "3.5.3"
  }
 },
 "nbformat": 4,
 "nbformat_minor": 0
}