{
 "cells": [
  {
   "cell_type": "code",
   "execution_count": 17,
   "metadata": {
    "collapsed": true
   },
   "outputs": [],
   "source": [
    "import sys\n",
    "sys.path.insert(1, '/home/b3arjuden/crocket')\n",
    "\n",
    "import csv\n",
    "from os import environ\n",
    "from os.path import join\n",
    "\n",
    "from crocket.sql.sql import Database\n",
    "from crocket.utilities.passcode import AESCipher\n",
    "from crocket.utilities.credentials import get_credentials\n",
    "from crocket.utilities.time import format_time"
   ]
  },
  {
   "cell_type": "code",
   "execution_count": 2,
   "metadata": {
    "collapsed": true
   },
   "outputs": [],
   "source": [
    "# Environment variables\n",
    "\n",
    "HOME_DIRECTORY_PATH = environ['HOME']\n",
    "CREDENTIALS_FILE_PATH = join(HOME_DIRECTORY_PATH, '.credentials_unlocked.json')\n",
    "\n",
    "HOSTNAME = 'localhost'\n",
    "DATABASE_NAME = 'PRODUCTION40'"
   ]
  },
  {
   "cell_type": "code",
   "execution_count": 3,
   "metadata": {
    "collapsed": true
   },
   "outputs": [],
   "source": [
    "# Load SQL username and password\n",
    "USERNAME, PASSCODE = get_credentials(CREDENTIALS_FILE_PATH)"
   ]
  },
  {
   "cell_type": "code",
   "execution_count": 4,
   "metadata": {
    "collapsed": true
   },
   "outputs": [],
   "source": [
    "db = Database(hostname=HOSTNAME,\n",
    "              username=USERNAME,\n",
    "              password=PASSCODE,\n",
    "              database_name=DATABASE_NAME)"
   ]
  },
  {
   "cell_type": "code",
   "execution_count": 29,
   "metadata": {
    "collapsed": true
   },
   "outputs": [],
   "source": [
    "FIELDS = ['time', 'price', 'wprice', 'base_volume', 'buy_volume', 'sell_volume', 'buy_order', 'sell_order']"
   ]
  },
  {
   "cell_type": "code",
   "execution_count": 37,
   "metadata": {
    "collapsed": true
   },
   "outputs": [],
   "source": [
    "tables = db.get_all_tables()"
   ]
  },
  {
   "cell_type": "code",
   "execution_count": 38,
   "metadata": {},
   "outputs": [],
   "source": [
    "for table in tables:\n",
    "    \n",
    "    file_path = '/home/b3arjuden/crocket/sql_data/PRODUCTION40/{}.csv'.format(table)\n",
    "\n",
    "    data = db.select_query(table, '*')\n",
    "    data = [[format_time(x[0])] + list(x[1:]) for x in data]\n",
    "\n",
    "    with open(file_path, 'w', newline='') as csvfile:\n",
    "        csvwriter = csv.writer(csvfile)\n",
    "\n",
    "        csvwriter.writerow(FIELDS)\n",
    "        csvwriter.writerows(data)"
   ]
  }
 ],
 "metadata": {
  "kernelspec": {
   "display_name": "Python 3",
   "language": "python",
   "name": "python3"
  },
  "language_info": {
   "codemirror_mode": {
    "name": "ipython",
    "version": 3
   },
   "file_extension": ".py",
   "mimetype": "text/x-python",
   "name": "python",
   "nbconvert_exporter": "python",
   "pygments_lexer": "ipython3",
   "version": "3.6.1"
  }
 },
 "nbformat": 4,
 "nbformat_minor": 2
}
