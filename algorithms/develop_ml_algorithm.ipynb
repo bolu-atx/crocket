{
 "cells": [
  {
   "cell_type": "code",
   "execution_count": 1,
   "metadata": {},
   "outputs": [
    {
     "name": "stderr",
     "output_type": "stream",
     "text": [
      "Using TensorFlow backend.\n",
      "/Users/bhsu/anaconda3/lib/python3.6/importlib/_bootstrap.py:219: RuntimeWarning: compiletime version 3.5 of module 'tensorflow.python.framework.fast_tensor_util' does not match runtime version 3.6\n",
      "  return f(*args, **kwds)\n"
     ]
    }
   ],
   "source": [
    "%load_ext autoreload\n",
    "%autoreload 2\n",
    "%matplotlib inline\n",
    "\n",
    "from collections import deque\n",
    "from datetime import datetime\n",
    "from decimal import Decimal\n",
    "from enum import Enum\n",
    "from itertools import cycle\n",
    "from math import floor\n",
    "import numpy as np\n",
    "import pandas as pd\n",
    "from random import randrange, seed\n",
    "from os.path import join\n",
    "\n",
    "from pprint import pprint\n",
    "\n",
    "import matplotlib.pyplot as plt\n",
    "from sklearn import preprocessing\n",
    "\n",
    "from keras.models import load_model, Sequential\n",
    "from keras.layers import Dense, LSTM\n",
    "from keras.optimizers import Adam"
   ]
  },
  {
   "cell_type": "code",
   "execution_count": null,
   "metadata": {
    "collapsed": true
   },
   "outputs": [],
   "source": [
    "#path = '/home/b3arjuden/crocket/sql_data/PRODUCTION40'\n",
    "\n",
    "path = '/Users/bhsu/crypto/sql_data/PRODUCTION40'\n",
    "\n",
    "file = 'BTC-ETH.csv'"
   ]
  },
  {
   "cell_type": "code",
   "execution_count": 2,
   "metadata": {},
   "outputs": [
    {
     "ename": "NameError",
     "evalue": "name 'path' is not defined",
     "output_type": "error",
     "traceback": [
      "\u001b[0;31m---------------------------------------------------------------------------\u001b[0m",
      "\u001b[0;31mNameError\u001b[0m                                 Traceback (most recent call last)",
      "\u001b[0;32m<ipython-input-2-8ffdc9ae479b>\u001b[0m in \u001b[0;36m<module>\u001b[0;34m()\u001b[0m\n\u001b[0;32m----> 1\u001b[0;31m \u001b[0mfile_path\u001b[0m \u001b[0;34m=\u001b[0m \u001b[0mjoin\u001b[0m\u001b[0;34m(\u001b[0m\u001b[0mpath\u001b[0m\u001b[0;34m,\u001b[0m \u001b[0mfile\u001b[0m\u001b[0;34m)\u001b[0m\u001b[0;34m\u001b[0m\u001b[0m\n\u001b[0m\u001b[1;32m      2\u001b[0m \u001b[0;34m\u001b[0m\u001b[0m\n\u001b[1;32m      3\u001b[0m data = pd.read_csv(file_path, \n\u001b[1;32m      4\u001b[0m                    \u001b[0mdtype\u001b[0m\u001b[0;34m=\u001b[0m\u001b[0;34m{\u001b[0m\u001b[0;34m'time'\u001b[0m\u001b[0;34m:\u001b[0m \u001b[0mstr\u001b[0m\u001b[0;34m,\u001b[0m \u001b[0;34m'buy_order'\u001b[0m\u001b[0;34m:\u001b[0m \u001b[0mint\u001b[0m\u001b[0;34m,\u001b[0m \u001b[0;34m'sell_order'\u001b[0m\u001b[0;34m:\u001b[0m \u001b[0mint\u001b[0m\u001b[0;34m}\u001b[0m\u001b[0;34m,\u001b[0m\u001b[0;34m\u001b[0m\u001b[0m\n\u001b[1;32m      5\u001b[0m                    converters={'price': Decimal,\n",
      "\u001b[0;31mNameError\u001b[0m: name 'path' is not defined"
     ]
    }
   ],
   "source": [
    "file_path = join(path, file)\n",
    "\n",
    "data = pd.read_csv(file_path, \n",
    "                   dtype={'time': str, 'buy_order': int, 'sell_order': int},\n",
    "                   converters={'price': Decimal,\n",
    "                               'wprice': Decimal,\n",
    "                               'base_volume': Decimal,\n",
    "                               'buy_volume': Decimal,\n",
    "                               'sell_volume': Decimal})"
   ]
  },
  {
   "cell_type": "code",
   "execution_count": 15,
   "metadata": {
    "collapsed": true,
    "scrolled": true
   },
   "outputs": [],
   "source": [
    "def time_transform(df, n):\n",
    "    \n",
    "    df1 = pd.DataFrame()\n",
    "    \n",
    "    nrows = n * floor(df.shape[0] / n)\n",
    "    df = df.iloc[:nrows, :]\n",
    "    \n",
    "    df1['time'] = df.loc[df.index[::n], 'time'].reset_index(drop=True)\n",
    "    df1['open'] = (df.loc[::n, 'wprice'].values)\n",
    "    df1['high'] = (df.loc[:, 'wprice'].groupby(df.index // n).max()) # TODO: estimate using 2 standard deviation from mean\n",
    "    df1['low'] = (df.loc[:, 'wprice'].groupby(df.index // n).min()) # TODO: estimate using 2 standard deciation from mean \n",
    "    df1['close'] = (df.loc[(n-1)::n, 'wprice'].values)\n",
    "    \n",
    "    df1['buy_volume'] = df.loc[:, 'buy_volume'].groupby(df.index // n).sum()\n",
    "    df1['sell_volume'] = df.loc[:, 'sell_volume'].groupby(df.index // n).sum()\n",
    "    df1['buy_order'] = df.loc[:, 'buy_order'].groupby(df.index // n).sum()\n",
    "    df1['sell_order'] = df.loc[:, 'sell_order'].groupby(df.index // n).sum()\n",
    "    \n",
    "    #df1['wprice'] = ((df.loc[:, 'wprice'] * df.loc[:, 'base_volume']).groupby(df.index // n).sum() / \n",
    "    #                 df.loc[:, 'base_volume'].groupby(df.index // n).sum()).apply(lambda x: float(x.quantize(Decimal(10) ** -8)))\n",
    "    \n",
    "    return df1\n",
    "\n",
    "def vectorize(array):\n",
    "    \n",
    "    return np.expand_dims(np.expand_dims(array, axis=0), axis=0)"
   ]
  },
  {
   "cell_type": "code",
   "execution_count": 2,
   "metadata": {
    "collapsed": true
   },
   "outputs": [],
   "source": [
    "class NeuralNetwork:\n",
    "    \n",
    "    def __init__(self, \n",
    "                 num_actions,\n",
    "                 checkpoint_path=None):\n",
    "        \n",
    "        self.checkpoint_path = checkpoint_path\n",
    "        \n",
    "        self.count_states = 0\n",
    "        self.count_episodes = 0\n",
    "    \n",
    "    def build(self):\n",
    "        \n",
    "        model = Sequential()\n",
    "        model.add(LSTM(18, batch_input_shape=(1, 1, 2), activation='tanh', stateful=True))\n",
    "        \n",
    "        model.add(Dense(3, activation='softmax'))\n",
    "        \n",
    "        # Optimizer: adam, RMSProp\n",
    "        model.compile(optimizer='adam', loss='mse')\n",
    "        \n",
    "        self.model = model\n",
    "    \n",
    "    def save(self):\n",
    "        \n",
    "        save_file = 'network_S{}_E{}.h5'.format(self.count_states, self.count_episodes)\n",
    "        model.save(join(self.checkpoint_path, save_file))\n",
    "    \n",
    "    def load(self, model_path):\n",
    "        \n",
    "        self.model = load_model(model_path)\n",
    "        \n",
    "        # TODO: load count_states and count_episodes from file\n",
    "    \n",
    "    def get_weights(self):\n",
    "        \n",
    "        return [layer.get_weights() for layer in self.model.layers]\n",
    "    \n",
    "    def set_weights(self, weights):\n",
    "        \n",
    "        for layer, new_weights in zip(self.model.layers, weights):\n",
    "            layer.set_weights(new_weights)\n",
    "    \n",
    "    def interpolate_weights(self, weights, interpolation_factor=0.001):\n",
    "        \n",
    "        for layer, new_weights in zip(self.model.layers, weights):\n",
    "            layer.set_weights([w1 * interpolation_factor + (1 - interpolation_factor) * w0 for w0, w1 in zip(layer.get_weights(), new_weights)])\n",
    "    \n",
    "    # TODO: add initialization function?"
   ]
  },
  {
   "cell_type": "code",
   "execution_count": 3,
   "metadata": {
    "collapsed": true
   },
   "outputs": [],
   "source": [
    "class Agent:\n",
    "    \"\"\"\n",
    "    Rules:\n",
    "    - Position = 0 -> HOLD, BUY\n",
    "    - Position => 1 -> HOLD, SELL\n",
    "    \"\"\"\n",
    "    \n",
    "    def __init__(self, parameters):\n",
    "        \n",
    "        self.num_actions = parameters.num_actions\n",
    "        self.discount_factor = parameters.discount_factor\n",
    "        self.epsilon = parameters.epsilon\n",
    "        self.epsilon_min = parameters.epsilon_min\n",
    "        self.epsilon_decay = parameters.epsilon_decay\n",
    "        self.priority_alpha = parameters.priority_alpha\n",
    "        self.batch_size = parameters.batch_size\n",
    "        \n",
    "        self.prioritized_memory = parameters.prioritized_memory\n",
    "        self.replay_capacity = parameters.replay_capacity\n",
    "        self.state_length = parameters.state_length\n",
    "        self.priority_epsilon = parameters.priority_epsilon\n",
    "        \n",
    "        self._initialize()\n",
    "        \n",
    "    def _initialize(self, model_path=None):\n",
    "        \n",
    "        self.train_network = NeuralNetwork(num_actions=self.num_actions)\n",
    "        self.target_network = NeuralNetwork(num_actions=self.num_actions)\n",
    "        \n",
    "        if model_path:\n",
    "            pass\n",
    "            # TODO: implement load model from folder (network_weights, replay_memory, additional_params)\n",
    "        else:\n",
    "            \n",
    "            if self.prioritized_memory:\n",
    "                self.replay_memory = PrioritizedReplayMemory(capacity=self.replay_capacity)\n",
    "            else:\n",
    "                self.replay_memory = ReplayMemory(capacity=self.replay_capacity,\n",
    "                                                  state_shape=self.state_length,\n",
    "                                                  num_actions=self.num_actions)\n",
    "\n",
    "            self.train_network.build()\n",
    "            self.target_network.build()\n",
    "            \n",
    "            self.target_network.set_weights(self.train_network.get_weights())\n",
    "        \n",
    "    def act(self, state):\n",
    "        \n",
    "        # no position -> actions allowed: HOLD, BUY\n",
    "        # active position -> HOLD, BUY, SELL\n",
    "        \n",
    "        buy_price = state[-1]\n",
    "        \n",
    "        if buy_price == 0:\n",
    "            actions = [0, 1]\n",
    "        else:\n",
    "            actions = [0, 2]\n",
    "            \n",
    "        if np.random.rand() < self.epsilon:\n",
    "            return actions[np.random.randint(2)]\n",
    "        \n",
    "        values = self.train_network.model.predict(vectorize(state))\n",
    "        \n",
    "        return actions[np.argmax(values[0][actions])]\n",
    "    \n",
    "    def replay(self):\n",
    "        \"\"\"\n",
    "        Replay options: 1) replay memory, 2) prioritized replay memory\n",
    "        \"\"\"\n",
    "        if self.prioritized_memory:\n",
    "            idx, priorities, experience = self.replay_memory.sample(self.batch_size)\n",
    "            \n",
    "            # Update transition priorities\n",
    "        else:\n",
    "            episodes = self.replay_memory.random_batch(self.batch_size)\n",
    "            \n",
    "            for e in episodes:\n",
    "                \n",
    "                states_batch = np.array(e.states)\n",
    "                action_batch = np.array(e.actions)\n",
    "                rewards_batch = np.array(e.rewards)\n",
    "                next_states_batch = np.array(e.next_states)\n",
    "                \n",
    "                for state, action, reward, next_state in (states_batch, action_batch, rewards_batch, next_states_batch):\n",
    "                    \n",
    "                    q_values_next = self.train_network.model.predict(next_states_batch)\n",
    "                    best_actions = np.argmax(q_values_next, axis=1)\n",
    "                    q_values_next_target = self.target_network.model.predict(next_states_batch)\n",
    "\n",
    "                    # SELL equivalent to end of episode\n",
    "                    targets_batch = reward_batch + \\\n",
    "                        (action_batch != 2).astype(int) * (self.discount_factor * np.repeat(q_values_next_target[np.arange(self.batch_size), best_actions].reshape(self.batch_size, 1), self.num_actions, axis=1))\n",
    "\n",
    "                    targets_batch = targets_batch * np.stack([[1, 1, 0] if x[-1, -1] == 0 else [1, 0, 1] for x in states_batch])\n",
    "\n",
    "                    # TODO: consider clip reward\n",
    "                    # Update train model\n",
    "                    self.train_network.model.fit(states_batch, targets_batch)\n",
    "                \n",
    "                self.train_network.reset_states()\n",
    "\n",
    "            if self.epsilon > self.epsilon_min:\n",
    "                self.epsilon *= self.epsilon_decay\n",
    "    \n",
    "    def initialize_replay_memory(self, env, parameters, price_index):\n",
    "        \n",
    "        print('Initializing replay memory...')\n",
    "        \n",
    "        for e in range(parameters.replay_capacity):\n",
    "            \n",
    "            episode = Episode()\n",
    "            state = env.reset()\n",
    "            \n",
    "            for idx in range(env.steps):\n",
    "                \n",
    "                action = self.act(state)\n",
    "                next_state, reward, _ = env.step(action, price_index)\n",
    "\n",
    "                if self.prioritized_memory:\n",
    "                    # TODO: refactor\n",
    "                    self.replay_memory.add((state, action, reward, next_state), max(self.priority_max, self.priority_epsilon))\n",
    "                else:\n",
    "                    episode.add(state, action, reward, next_state)\n",
    "\n",
    "                state = next_state\n",
    "\n",
    "            state = env.reset()\n",
    "            self.replay_memory.add(episode)\n",
    "            \n",
    "        print('Replay memory initialized.')\n",
    "        \n",
    "    def update_transition_priorities(self, states_batch, actions_batch, rewards_batch, targets_batch, indexes):\n",
    "        \n",
    "        for s0, a, r, t, i in zip(states_batch, actions_batch, rewards_batch, targets_batch, indexes):\n",
    "            \n",
    "            priority = (abs(self.train_network.model.predict(s0)[a] - t[a]) + self.priority_epsilon) ** self.priority_alpha"
   ]
  },
  {
   "cell_type": "code",
   "execution_count": 38,
   "metadata": {
    "collapsed": true
   },
   "outputs": [],
   "source": [
    "class Episode:\n",
    "    \n",
    "    def __init__(self):\n",
    "        \n",
    "        # TODO: improve performance\n",
    "        self.states = []\n",
    "        self.actions = []\n",
    "        self.rewards = []\n",
    "        self.states_next = []\n",
    "        \n",
    "    def add(self, state, action, reward, next_state):\n",
    "        \n",
    "        self.states.append(state)\n",
    "        self.actions.append(action)\n",
    "        self.rewards.append(reward)\n",
    "        self.states_next.append(next_state)"
   ]
  },
  {
   "cell_type": "code",
   "execution_count": 4,
   "metadata": {
    "collapsed": true
   },
   "outputs": [],
   "source": [
    "class ReplayMemory:\n",
    "    \n",
    "    # TODO: use collections.deque\n",
    "    # Store list of episodes\n",
    "        \n",
    "    def __init__(self, capacity, state_shape, num_actions):\n",
    "        \n",
    "        self.capacity = capacity\n",
    "        self.episodes = []\n",
    "        \n",
    "        self.indexes = cycle(range(capacity))\n",
    "        self.pointer = next(self.indexes)\n",
    "        \n",
    "    def add(self, episode):\n",
    "        \n",
    "        k = self.pointer\n",
    "\n",
    "        self.episodes[k] = episode\n",
    "        \n",
    "        self.pointer = next(self.indexes)\n",
    "        \n",
    "    def random_batch(self, batch_size):\n",
    "        \n",
    "        idx = np.random.randint(self.capacity, size=batch_size)\n",
    "        \n",
    "        return self.episodes[idx]\n",
    "    \n",
    "    def random_batch_priority(self, batch_size, non_hold_ratio):\n",
    "        \"\"\"\n",
    "        Sample from hold entries and buy/sell entires separately\n",
    "        \"\"\"\n",
    "        \n",
    "        num_non_hold = int(batch_size * non_hold_ratio)\n",
    "        num_hold = batch_size - num_non_hold\n",
    "        \n",
    "        non_hold_idx = set(i for i, x in enumerate(self.actions) if x[0] != 0)\n",
    "        hold_idx = set(range(self.capacity)) - non_hold_idx\n",
    "        \n",
    "        idx = np.concatenate((np.random.choice(list(hold_idx), size=num_hold), np.random.choice(list(non_hold_idx), size=num_non_hold)))\n",
    "        \n",
    "        return self.states[idx], self.actions[idx], self.rewards[idx], self.states_next[idx], idx "
   ]
  },
  {
   "cell_type": "code",
   "execution_count": 5,
   "metadata": {
    "collapsed": true
   },
   "outputs": [],
   "source": [
    "class PrioritizedReplayMemory:\n",
    "    \"\"\"\n",
    "    SumTree.\n",
    "    Data: (state, action, reward, next_state)\n",
    "    \"\"\"\n",
    "    \n",
    "    def __init__(self, capacity):\n",
    "        \n",
    "        self.capacity = capacity\n",
    "        self.tree = np.zeros(2*capacity - 1)\n",
    "        self.data = np.zeros(capacity, dtype=object)\n",
    "        \n",
    "        self.pointer = 0\n",
    "    \n",
    "    def _propagate(self, idx, change):\n",
    "        parent = (idx - 1) // 2\n",
    "\n",
    "        self.tree[parent] += change\n",
    "\n",
    "        if parent != 0:\n",
    "            self._propagate(parent, change)\n",
    "\n",
    "    def _retrieve(self, idx, s):\n",
    "        left = 2 * idx + 1\n",
    "\n",
    "        if left >= self.tree_len:\n",
    "            return idx\n",
    "\n",
    "        if s <= self.tree[left]:\n",
    "            return self._retrieve(left, s)\n",
    "        else:\n",
    "            right = left + 1\n",
    "            return self._retrieve(right, s-self.tree[left])\n",
    "\n",
    "    def total(self):\n",
    "        return self.tree[0]\n",
    "\n",
    "    def add(self, data, p):\n",
    "        idx = self.pointer + self.capacity - 1\n",
    "\n",
    "        self.data[self.pointer] = data\n",
    "        self.update(idx, p)\n",
    "\n",
    "        self.pointer += 1\n",
    "        \n",
    "        if self.pointer >= self.capacity:\n",
    "            self.pointer = 0\n",
    "\n",
    "    def update(self, idx, p):\n",
    "        change = p - self.tree[idx]\n",
    "\n",
    "        self.tree[idx] = p\n",
    "        self._propagate(idx, change)\n",
    "\n",
    "    def get(self, s):\n",
    "        idx = self._retrieve(0, s)\n",
    "        data_idx = idx - self.capacity + 1\n",
    "\n",
    "        return idx, self.tree[idx], self.data[data_idx]\n",
    "\n",
    "    def sample(self, batch_size):\n",
    "        batch_idx = [None] * batch_size\n",
    "        batch_priorities = [None] * batch_size\n",
    "        batch = [None] * batch_size\n",
    "        segment = self.total() / batch_size\n",
    "\n",
    "        a = [segment*i for i in range(batch_size)]\n",
    "        b = [segment * (i+1) for i in range(batch_size)]\n",
    "        s = np.random.uniform(a, b)\n",
    "\n",
    "        for i in range(batch_size):\n",
    "            (batch_idx[i], batch_priorities[i], batch[i]) = self.get(s[i])\n",
    "\n",
    "        return batch_idx, batch_priorities, batch"
   ]
  },
  {
   "cell_type": "code",
   "execution_count": 6,
   "metadata": {
    "collapsed": true
   },
   "outputs": [],
   "source": [
    "class Environment:\n",
    "    \n",
    "    def __init__(self,\n",
    "                 input_data,\n",
    "                 steps=None):\n",
    "        \n",
    "        self.steps = steps\n",
    "        self._load(input_data)\n",
    "        \n",
    "        self.episode = {}\n",
    "        \n",
    "    def _load(self, input_data):\n",
    "        \n",
    "        self.data = input_data\n",
    "        \n",
    "        self.shape = input_data.shape\n",
    "        \n",
    "        if self.steps is None or self.steps > self.shape[0]:\n",
    "            self.steps = self.shape[0] - 1\n",
    "    \n",
    "    def _seed(self):\n",
    "        \n",
    "        seed()\n",
    "        \n",
    "    def reset(self):\n",
    "        \n",
    "        self._seed()\n",
    "        self.episode['start'] = np.random.randint(0, self.shape[0] - self.steps)\n",
    "        self.episode['current_index'] = self.episode.get('start')\n",
    "        self.data[:, -1] = 0  # Reset buy state\n",
    "        \n",
    "        return self.data[self.episode.get('current_index')]\n",
    "        \n",
    "    def step(self, action, price_index):\n",
    "        \n",
    "        current_index = self.episode.get('current_index')\n",
    "        state = self.data[current_index]\n",
    "        next_state = self.data[current_index + 1]\n",
    "\n",
    "        price = state[0]\n",
    "        buy_price = state[-1]\n",
    "        \n",
    "        if action == 1:\n",
    "            next_state[-1] = price\n",
    "            reward = [0, price * -1, 0]\n",
    "        elif action == 2:\n",
    "            next_state[-1] = 0\n",
    "            reward = [0, 0, price - buy_price]\n",
    "        else:\n",
    "            # TODO: set reward to difference between buy_price and current_price if position held, but smaller magnitude than buying or selling\n",
    "            next_state[-1] = buy_price\n",
    "            reward = [0, 0, 0]\n",
    "        \n",
    "        self.episode['current_index'] += 1\n",
    "        \n",
    "        return next_state, reward, current_index "
   ]
  },
  {
   "cell_type": "code",
   "execution_count": 7,
   "metadata": {
    "collapsed": true
   },
   "outputs": [],
   "source": [
    "class Action(Enum):\n",
    "\n",
    "    HOLD = 0\n",
    "    BUY = 1\n",
    "    SELL = 2"
   ]
  },
  {
   "cell_type": "code",
   "execution_count": 8,
   "metadata": {
    "collapsed": true
   },
   "outputs": [],
   "source": [
    "class Summary:\n",
    "    \n",
    "    def __init__(self, parameters=None):\n",
    "        \n",
    "        self.episodes = []\n",
    "        self.params = parameters\n",
    "        \n",
    "    def create(self, actions, train_reward, actual_reward, start, end, epsilon_end):\n",
    "        \n",
    "        # TODO: add epsilon values\n",
    "        \n",
    "        self.episodes.append({\n",
    "            'actions': actions,\n",
    "            'train_reward': train_reward,\n",
    "            'actual_reward': actual_reward,\n",
    "            'start': start,\n",
    "            'end': end,\n",
    "            'epsilon_end': epsilon_end\n",
    "        })\n",
    "        \n",
    "    def summarize_all(self):\n",
    "        \n",
    "        num_episodes = len(self.episodes)\n",
    "        train_reward = np.zeros(num_episodes)\n",
    "        actual_reward = np.zeros(num_episodes)\n",
    "        epsilon_end = np.zeros(num_episodes)\n",
    "        \n",
    "        for ii in range(num_episodes):\n",
    "            train_reward[ii], actual_reward[ii], epsilon_end[ii] = (self.episodes[ii][x] for x in ['train_reward', 'actual_reward', 'epsilon_end'])\n",
    "        \n",
    "        # TODO: add plot here\n",
    "        \n",
    "        return train_reward, actual_reward, epsilon_end\n",
    "    \n",
    "    def summarize_episode(self, episode_num):\n",
    "        \n",
    "        episode_summary = self.episodes[episode_num]\n",
    "        \n",
    "        return episode_summary\n",
    "    \n",
    "    def get_price(self, price, episode_num):\n",
    "        \n",
    "        start = self.episodes[episode_num].get('start')\n",
    "        end = self.episodes[episode_num].get('end')\n",
    "        \n",
    "        return price[start:end]"
   ]
  },
  {
   "cell_type": "code",
   "execution_count": 17,
   "metadata": {
    "collapsed": true
   },
   "outputs": [],
   "source": [
    "# Data processing parameters\n",
    "n = 15\n",
    "m = 8"
   ]
  },
  {
   "cell_type": "code",
   "execution_count": 18,
   "metadata": {
    "collapsed": true,
    "scrolled": true
   },
   "outputs": [],
   "source": [
    "# Test data\n",
    "x = np.linspace(-np.pi, np.pi, 100)\n",
    "array = np.sin(x)\n",
    "\n",
    "price_state_index = -1\n",
    "\n",
    "min_max_scaler = preprocessing.MinMaxScaler()\n",
    "normalized_array = min_max_scaler.fit_transform(array.reshape(-1, 1))\n",
    "\n",
    "# Build states\n",
    "#states = np.array([normalized_array[x:x+m, :] for x in range(normalized_array.shape[0] - m + 1)])\n",
    "states = normalized_array\n",
    "\n",
    "# Add state for position held\n",
    "states = np.insert(states, states.shape[1], 0, axis=1)\n",
    "\n",
    "# Build prices\n",
    "prices = list(map(float, array[(m-1):]))"
   ]
  },
  {
   "cell_type": "code",
   "execution_count": null,
   "metadata": {
    "collapsed": true
   },
   "outputs": [],
   "source": [
    "# Combine data\n",
    "df = time_transform(data.iloc[:200*15,:], n)\n",
    "array = df.iloc[:,1:].as_matrix()\n",
    "\n",
    "# Get close price column index\n",
    "price_df_index = df.columns.get_loc('close')\n",
    "price_array_index = price_df_index-1\n",
    "price_state_index = m*(price_array_index+1)-1"
   ]
  },
  {
   "cell_type": "code",
   "execution_count": null,
   "metadata": {
    "collapsed": true,
    "scrolled": true
   },
   "outputs": [],
   "source": [
    "# Normalize data \n",
    "# TODO: change normalization if necessary\n",
    "min_max_scaler = preprocessing.MinMaxScaler()\n",
    "normalized_array = min_max_scaler.fit_transform(array)"
   ]
  },
  {
   "cell_type": "code",
   "execution_count": null,
   "metadata": {
    "collapsed": true,
    "scrolled": true
   },
   "outputs": [],
   "source": [
    "# Build states\n",
    "states = np.array([normalized_array[x:x+m, :] for x in range(normalized_array.shape[0] - m + 1)])\n",
    "\n",
    "# Add state for position\n",
    "states = np.insert(states, states.shape[2], 0, axis=2)\n",
    "\n",
    "# Build prices\n",
    "prices = list(map(float, array[(m-1):, price_array_index]))"
   ]
  },
  {
   "cell_type": "code",
   "execution_count": 90,
   "metadata": {
    "collapsed": true
   },
   "outputs": [],
   "source": [
    "class Parameters:\n",
    "    \n",
    "    def __init__(self):\n",
    "        \n",
    "        # Time series parameters\n",
    "        self.num_actions = 3\n",
    "        \n",
    "        # Neural network parameters\n",
    "        self.discount_factor = 0.97\n",
    "        self.epsilon = 0.99\n",
    "        self.epsilon_min = 0.1\n",
    "        self.epsilon_decay = 0.98\n",
    "        \n",
    "        # Replay memory parameters\n",
    "        self.replay_capacity = 10000\n",
    "        self.batch_size = 100\n",
    "        self.priority_epsilon = 1e-6\n",
    "        self.priority_alpha = 2\n",
    "        self.prioritized_memory = False\n",
    "        \n",
    "        # Training parameters\n",
    "        self.episodes = 1\n",
    "        self.episode_length = 92\n",
    "        self.update_target_weights_step_size = 200\n",
    "        self.train_network_step_size = 100\n",
    "        self.interpolation_factor = 0.03"
   ]
  },
  {
   "cell_type": "code",
   "execution_count": 91,
   "metadata": {
    "scrolled": true
   },
   "outputs": [
    {
     "name": "stdout",
     "output_type": "stream",
     "text": [
      "Initializing replay memory...\n",
      "Replay memory initialized.\n",
      "Step 0: Updating target Q network weights with latest Q network weights.\n",
      "Step 0: Sampling replay memory and training Q network.\n"
     ]
    },
    {
     "ename": "ValueError",
     "evalue": "Error when checking : expected lstm_22_input to have 3 dimensions, but got array with shape (100, 2)",
     "output_type": "error",
     "traceback": [
      "\u001b[0;31m---------------------------------------------------------------------------\u001b[0m",
      "\u001b[0;31mValueError\u001b[0m                                Traceback (most recent call last)",
      "\u001b[0;32m<ipython-input-91-463f0cf5632e>\u001b[0m in \u001b[0;36m<module>\u001b[0;34m()\u001b[0m\n\u001b[1;32m     41\u001b[0m             \u001b[0mprint\u001b[0m\u001b[0;34m(\u001b[0m\u001b[0;34m'Step {}: Sampling replay memory and training Q network.'\u001b[0m\u001b[0;34m.\u001b[0m\u001b[0mformat\u001b[0m\u001b[0;34m(\u001b[0m\u001b[0mstep\u001b[0m\u001b[0;34m)\u001b[0m\u001b[0;34m)\u001b[0m\u001b[0;34m\u001b[0m\u001b[0m\n\u001b[1;32m     42\u001b[0m \u001b[0;34m\u001b[0m\u001b[0m\n\u001b[0;32m---> 43\u001b[0;31m             \u001b[0magent\u001b[0m\u001b[0;34m.\u001b[0m\u001b[0mreplay\u001b[0m\u001b[0;34m(\u001b[0m\u001b[0;34m)\u001b[0m\u001b[0;34m\u001b[0m\u001b[0m\n\u001b[0m\u001b[1;32m     44\u001b[0m \u001b[0;34m\u001b[0m\u001b[0m\n\u001b[1;32m     45\u001b[0m         \u001b[0mstep\u001b[0m \u001b[0;34m+=\u001b[0m \u001b[0;36m1\u001b[0m\u001b[0;34m\u001b[0m\u001b[0m\n",
      "\u001b[0;32m<ipython-input-89-cdd290f21778>\u001b[0m in \u001b[0;36mreplay\u001b[0;34m(self)\u001b[0m\n\u001b[1;32m     76\u001b[0m             \u001b[0mstates_batch\u001b[0m\u001b[0;34m,\u001b[0m \u001b[0maction_batch\u001b[0m\u001b[0;34m,\u001b[0m \u001b[0mreward_batch\u001b[0m\u001b[0;34m,\u001b[0m \u001b[0mnext_states_batch\u001b[0m\u001b[0;34m,\u001b[0m \u001b[0mindexes\u001b[0m \u001b[0;34m=\u001b[0m \u001b[0mmap\u001b[0m\u001b[0;34m(\u001b[0m\u001b[0mnp\u001b[0m\u001b[0;34m.\u001b[0m\u001b[0marray\u001b[0m\u001b[0;34m,\u001b[0m \u001b[0msamples\u001b[0m\u001b[0;34m)\u001b[0m\u001b[0;34m\u001b[0m\u001b[0m\n\u001b[1;32m     77\u001b[0m \u001b[0;34m\u001b[0m\u001b[0m\n\u001b[0;32m---> 78\u001b[0;31m             \u001b[0mq_values_next\u001b[0m \u001b[0;34m=\u001b[0m \u001b[0mself\u001b[0m\u001b[0;34m.\u001b[0m\u001b[0mtrain_network\u001b[0m\u001b[0;34m.\u001b[0m\u001b[0mmodel\u001b[0m\u001b[0;34m.\u001b[0m\u001b[0mpredict\u001b[0m\u001b[0;34m(\u001b[0m\u001b[0mnext_states_batch\u001b[0m\u001b[0;34m)\u001b[0m\u001b[0;34m\u001b[0m\u001b[0m\n\u001b[0m\u001b[1;32m     79\u001b[0m             \u001b[0mbest_actions\u001b[0m \u001b[0;34m=\u001b[0m \u001b[0mnp\u001b[0m\u001b[0;34m.\u001b[0m\u001b[0margmax\u001b[0m\u001b[0;34m(\u001b[0m\u001b[0mq_values_next\u001b[0m\u001b[0;34m,\u001b[0m \u001b[0maxis\u001b[0m\u001b[0;34m=\u001b[0m\u001b[0;36m1\u001b[0m\u001b[0;34m)\u001b[0m\u001b[0;34m\u001b[0m\u001b[0m\n\u001b[1;32m     80\u001b[0m             \u001b[0mq_values_next_target\u001b[0m \u001b[0;34m=\u001b[0m \u001b[0mself\u001b[0m\u001b[0;34m.\u001b[0m\u001b[0mtarget_network\u001b[0m\u001b[0;34m.\u001b[0m\u001b[0mmodel\u001b[0m\u001b[0;34m.\u001b[0m\u001b[0mpredict\u001b[0m\u001b[0;34m(\u001b[0m\u001b[0mnext_states_batch\u001b[0m\u001b[0;34m)\u001b[0m\u001b[0;34m\u001b[0m\u001b[0m\n",
      "\u001b[0;32m~/anaconda3/lib/python3.6/site-packages/keras/models.py\u001b[0m in \u001b[0;36mpredict\u001b[0;34m(self, x, batch_size, verbose)\u001b[0m\n\u001b[1;32m   1004\u001b[0m         \u001b[0;32mif\u001b[0m \u001b[0;32mnot\u001b[0m \u001b[0mself\u001b[0m\u001b[0;34m.\u001b[0m\u001b[0mbuilt\u001b[0m\u001b[0;34m:\u001b[0m\u001b[0;34m\u001b[0m\u001b[0m\n\u001b[1;32m   1005\u001b[0m             \u001b[0mself\u001b[0m\u001b[0;34m.\u001b[0m\u001b[0mbuild\u001b[0m\u001b[0;34m(\u001b[0m\u001b[0;34m)\u001b[0m\u001b[0;34m\u001b[0m\u001b[0m\n\u001b[0;32m-> 1006\u001b[0;31m         \u001b[0;32mreturn\u001b[0m \u001b[0mself\u001b[0m\u001b[0;34m.\u001b[0m\u001b[0mmodel\u001b[0m\u001b[0;34m.\u001b[0m\u001b[0mpredict\u001b[0m\u001b[0;34m(\u001b[0m\u001b[0mx\u001b[0m\u001b[0;34m,\u001b[0m \u001b[0mbatch_size\u001b[0m\u001b[0;34m=\u001b[0m\u001b[0mbatch_size\u001b[0m\u001b[0;34m,\u001b[0m \u001b[0mverbose\u001b[0m\u001b[0;34m=\u001b[0m\u001b[0mverbose\u001b[0m\u001b[0;34m)\u001b[0m\u001b[0;34m\u001b[0m\u001b[0m\n\u001b[0m\u001b[1;32m   1007\u001b[0m \u001b[0;34m\u001b[0m\u001b[0m\n\u001b[1;32m   1008\u001b[0m     \u001b[0;32mdef\u001b[0m \u001b[0mpredict_on_batch\u001b[0m\u001b[0;34m(\u001b[0m\u001b[0mself\u001b[0m\u001b[0;34m,\u001b[0m \u001b[0mx\u001b[0m\u001b[0;34m)\u001b[0m\u001b[0;34m:\u001b[0m\u001b[0;34m\u001b[0m\u001b[0m\n",
      "\u001b[0;32m~/anaconda3/lib/python3.6/site-packages/keras/engine/training.py\u001b[0m in \u001b[0;36mpredict\u001b[0;34m(self, x, batch_size, verbose, steps)\u001b[0m\n\u001b[1;32m   1770\u001b[0m         x = _standardize_input_data(x, self._feed_input_names,\n\u001b[1;32m   1771\u001b[0m                                     \u001b[0mself\u001b[0m\u001b[0;34m.\u001b[0m\u001b[0m_feed_input_shapes\u001b[0m\u001b[0;34m,\u001b[0m\u001b[0;34m\u001b[0m\u001b[0m\n\u001b[0;32m-> 1772\u001b[0;31m                                     check_batch_axis=False)\n\u001b[0m\u001b[1;32m   1773\u001b[0m         \u001b[0;32mif\u001b[0m \u001b[0mself\u001b[0m\u001b[0;34m.\u001b[0m\u001b[0mstateful\u001b[0m\u001b[0;34m:\u001b[0m\u001b[0;34m\u001b[0m\u001b[0m\n\u001b[1;32m   1774\u001b[0m             \u001b[0;32mif\u001b[0m \u001b[0mx\u001b[0m\u001b[0;34m[\u001b[0m\u001b[0;36m0\u001b[0m\u001b[0;34m]\u001b[0m\u001b[0;34m.\u001b[0m\u001b[0mshape\u001b[0m\u001b[0;34m[\u001b[0m\u001b[0;36m0\u001b[0m\u001b[0;34m]\u001b[0m \u001b[0;34m>\u001b[0m \u001b[0mbatch_size\u001b[0m \u001b[0;32mand\u001b[0m \u001b[0mx\u001b[0m\u001b[0;34m[\u001b[0m\u001b[0;36m0\u001b[0m\u001b[0;34m]\u001b[0m\u001b[0;34m.\u001b[0m\u001b[0mshape\u001b[0m\u001b[0;34m[\u001b[0m\u001b[0;36m0\u001b[0m\u001b[0;34m]\u001b[0m \u001b[0;34m%\u001b[0m \u001b[0mbatch_size\u001b[0m \u001b[0;34m!=\u001b[0m \u001b[0;36m0\u001b[0m\u001b[0;34m:\u001b[0m\u001b[0;34m\u001b[0m\u001b[0m\n",
      "\u001b[0;32m~/anaconda3/lib/python3.6/site-packages/keras/engine/training.py\u001b[0m in \u001b[0;36m_standardize_input_data\u001b[0;34m(data, names, shapes, check_batch_axis, exception_prefix)\u001b[0m\n\u001b[1;32m    139\u001b[0m                                  \u001b[0;34m' to have '\u001b[0m \u001b[0;34m+\u001b[0m \u001b[0mstr\u001b[0m\u001b[0;34m(\u001b[0m\u001b[0mlen\u001b[0m\u001b[0;34m(\u001b[0m\u001b[0mshapes\u001b[0m\u001b[0;34m[\u001b[0m\u001b[0mi\u001b[0m\u001b[0;34m]\u001b[0m\u001b[0;34m)\u001b[0m\u001b[0;34m)\u001b[0m \u001b[0;34m+\u001b[0m\u001b[0;34m\u001b[0m\u001b[0m\n\u001b[1;32m    140\u001b[0m                                  \u001b[0;34m' dimensions, but got array with shape '\u001b[0m \u001b[0;34m+\u001b[0m\u001b[0;34m\u001b[0m\u001b[0m\n\u001b[0;32m--> 141\u001b[0;31m                                  str(array.shape))\n\u001b[0m\u001b[1;32m    142\u001b[0m             \u001b[0;32mfor\u001b[0m \u001b[0mj\u001b[0m\u001b[0;34m,\u001b[0m \u001b[0;34m(\u001b[0m\u001b[0mdim\u001b[0m\u001b[0;34m,\u001b[0m \u001b[0mref_dim\u001b[0m\u001b[0;34m)\u001b[0m \u001b[0;32min\u001b[0m \u001b[0menumerate\u001b[0m\u001b[0;34m(\u001b[0m\u001b[0mzip\u001b[0m\u001b[0;34m(\u001b[0m\u001b[0marray\u001b[0m\u001b[0;34m.\u001b[0m\u001b[0mshape\u001b[0m\u001b[0;34m,\u001b[0m \u001b[0mshapes\u001b[0m\u001b[0;34m[\u001b[0m\u001b[0mi\u001b[0m\u001b[0;34m]\u001b[0m\u001b[0;34m)\u001b[0m\u001b[0;34m)\u001b[0m\u001b[0;34m:\u001b[0m\u001b[0;34m\u001b[0m\u001b[0m\n\u001b[1;32m    143\u001b[0m                 \u001b[0;32mif\u001b[0m \u001b[0;32mnot\u001b[0m \u001b[0mj\u001b[0m \u001b[0;32mand\u001b[0m \u001b[0;32mnot\u001b[0m \u001b[0mcheck_batch_axis\u001b[0m\u001b[0;34m:\u001b[0m\u001b[0;34m\u001b[0m\u001b[0m\n",
      "\u001b[0;31mValueError\u001b[0m: Error when checking : expected lstm_22_input to have 3 dimensions, but got array with shape (100, 2)"
     ]
    }
   ],
   "source": [
    "## Model training\n",
    "\n",
    "parameters = Parameters()\n",
    "parameters.state_length = list(states[0].shape)\n",
    "agent = Agent(parameters)\n",
    "env = Environment(states, steps=parameters.episode_length)\n",
    "summary = Summary()\n",
    "step = 0\n",
    "\n",
    "# Populate the replay memory with initial experiences\n",
    "agent.initialize_replay_memory(env, parameters, price_index=price_state_index)\n",
    "\n",
    "for e in range(parameters.episodes):\n",
    "    \n",
    "    state = env.reset()\n",
    "    \n",
    "    episode_learn_reward = 0\n",
    "    episode_actions = np.zeros(parameters.episode_length)\n",
    "    episode_actual_reward = 0\n",
    "    \n",
    "    for ii in range(parameters.episode_length):\n",
    "        \n",
    "        # Update the target network weights every X iterations\n",
    "        if step % parameters.update_target_weights_step_size == 0:\n",
    "            print('Step {}: Updating target Q network weights with latest Q network weights.'.format(step))\n",
    "            agent.target_network.interpolate_weights(agent.train_network.get_weights(), parameters.interpolation_factor)\n",
    "                \n",
    "        action = agent.act(state)\n",
    "        next_state, reward, index = env.step(action, price_index=price_state_index)\n",
    "        agent.replay_memory.add(state, action, reward, next_state)\n",
    "        state = next_state\n",
    "        \n",
    "        episode_actions[ii] = action\n",
    "        episode_learn_reward += reward[action]\n",
    "        \n",
    "        if action > 0:\n",
    "            price = prices[index]\n",
    "            episode_actual_reward += price * -1.0025 if action == 1 else price * 0.9975\n",
    "        \n",
    "        if step % parameters.train_network_step_size == 0:\n",
    "            print('Step {}: Sampling replay memory and training Q network.'.format(step))\n",
    "            \n",
    "            agent.replay()\n",
    "            \n",
    "        step += 1\n",
    "\n",
    "    agent\n",
    "    \n",
    "    summary.create(episode_actions, episode_learn_reward, episode_actual_reward, env.episode.get('start'), env.episode.get('current_index')+1, agent.epsilon)"
   ]
  },
  {
   "cell_type": "code",
   "execution_count": 92,
   "metadata": {},
   "outputs": [
    {
     "data": {
      "text/plain": [
       "<keras.models.Sequential at 0x1a25d86f98>"
      ]
     },
     "execution_count": 92,
     "metadata": {},
     "output_type": "execute_result"
    }
   ],
   "source": [
    "agent.train_network.model"
   ]
  },
  {
   "cell_type": "code",
   "execution_count": 42,
   "metadata": {},
   "outputs": [
    {
     "data": {
      "text/plain": [
       "array([[[ 0.5,  0. ]]])"
      ]
     },
     "execution_count": 42,
     "metadata": {},
     "output_type": "execute_result"
    }
   ],
   "source": [
    "np.expand_dims(np.expand_dims(states[0, :], axis=0), axis=0)"
   ]
  },
  {
   "cell_type": "code",
   "execution_count": 38,
   "metadata": {},
   "outputs": [
    {
     "name": "stdout",
     "output_type": "stream",
     "text": [
      "Training reward: -2.9763699772305374\n",
      "Actual reward: -0.6417023712198706\n"
     ]
    },
    {
     "data": {
      "text/plain": [
       "<matplotlib.collections.PathCollection at 0x1a2a5143c8>"
      ]
     },
     "execution_count": 38,
     "metadata": {},
     "output_type": "execute_result"
    },
    {
     "data": {
      "image/png": "[encoded data removed]",
      "text/plain": [
       "<matplotlib.figure.Figure at 0x1a2a882ac8>"
      ]
     },
     "metadata": {},
     "output_type": "display_data"
    }
   ],
   "source": [
    "# Examine episode\n",
    "\n",
    "episode_num = 997\n",
    "\n",
    "episode_summary = summary.summarize_episode(episode_num)\n",
    "episode_price = summary.get_price(prices, episode_num)\n",
    "actions = episode_summary.get('actions')\n",
    "\n",
    "print('Training reward: {}'.format(episode_summary.get('train_reward')))\n",
    "print('Actual reward: {}'.format(episode_summary.get('actual_reward')))\n",
    "\n",
    "# Plot graph of buy/sell actions\n",
    "buy_indices = [x for x in range(len(actions)) if actions[x] == 1]\n",
    "buy_prices = [episode_price[x] for x in buy_indices]\n",
    "\n",
    "sell_indices = [x for x in range(len(actions)) if actions[x] == 2]\n",
    "sell_prices = [episode_price[x] for x in sell_indices]\n",
    "\n",
    "plt.plot(episode_price)\n",
    "plt.scatter(buy_indices, buy_prices, color='r')\n",
    "plt.scatter(sell_indices, sell_prices, color='g')"
   ]
  },
  {
   "cell_type": "code",
   "execution_count": 23,
   "metadata": {},
   "outputs": [
    {
     "data": {
      "text/plain": [
       "array([[ 0.,  0.,  0.],\n",
       "       [ 0.,  0.,  0.],\n",
       "       [ 0.,  0.,  0.],\n",
       "       ..., \n",
       "       [ 0.,  0.,  0.],\n",
       "       [ 0.,  0.,  0.],\n",
       "       [ 0.,  0.,  0.]])"
      ]
     },
     "execution_count": 23,
     "metadata": {},
     "output_type": "execute_result"
    }
   ],
   "source": [
    "agent.replay_memory.rewards"
   ]
  },
  {
   "cell_type": "code",
   "execution_count": 24,
   "metadata": {
    "collapsed": true
   },
   "outputs": [],
   "source": [
    "train, actual, epsilon = summary.summarize_all()"
   ]
  },
  {
   "cell_type": "code",
   "execution_count": 25,
   "metadata": {},
   "outputs": [
    {
     "data": {
      "text/plain": [
       "[<matplotlib.lines.Line2D at 0x1a27458e48>]"
      ]
     },
     "execution_count": 25,
     "metadata": {},
     "output_type": "execute_result"
    },
    {
     "data": {
      "image/png": "[encoded data removed]",
      "text/plain": [
       "<matplotlib.figure.Figure at 0x1a2592eb38>"
      ]
     },
     "metadata": {},
     "output_type": "display_data"
    }
   ],
   "source": [
    "plt.plot(epsilon)"
   ]
  },
  {
   "cell_type": "code",
   "execution_count": 3,
   "metadata": {},
   "outputs": [
    {
     "ename": "NameError",
     "evalue": "name 'X_train' is not defined",
     "output_type": "error",
     "traceback": [
      "\u001b[0;31m---------------------------------------------------------------------------\u001b[0m",
      "\u001b[0;31mNameError\u001b[0m                                 Traceback (most recent call last)",
      "\u001b[0;32m<ipython-input-3-62c28af66297>\u001b[0m in \u001b[0;36m<module>\u001b[0;34m()\u001b[0m\n\u001b[1;32m      2\u001b[0m \u001b[0;32mfrom\u001b[0m \u001b[0mnumpy\u001b[0m\u001b[0;34m.\u001b[0m\u001b[0mrandom\u001b[0m \u001b[0;32mimport\u001b[0m \u001b[0mchoice\u001b[0m\u001b[0;34m\u001b[0m\u001b[0m\n\u001b[1;32m      3\u001b[0m \u001b[0mone_indexes\u001b[0m \u001b[0;34m=\u001b[0m \u001b[0mchoice\u001b[0m\u001b[0;34m(\u001b[0m\u001b[0ma\u001b[0m\u001b[0;34m=\u001b[0m\u001b[0mN_train\u001b[0m\u001b[0;34m,\u001b[0m \u001b[0msize\u001b[0m\u001b[0;34m=\u001b[0m\u001b[0mint\u001b[0m\u001b[0;34m(\u001b[0m\u001b[0mN_train\u001b[0m \u001b[0;34m/\u001b[0m \u001b[0;36m2\u001b[0m\u001b[0;34m)\u001b[0m\u001b[0;34m,\u001b[0m \u001b[0mreplace\u001b[0m\u001b[0;34m=\u001b[0m\u001b[0;32mFalse\u001b[0m\u001b[0;34m)\u001b[0m\u001b[0;34m\u001b[0m\u001b[0m\n\u001b[0;32m----> 4\u001b[0;31m \u001b[0mX_train\u001b[0m\u001b[0;34m[\u001b[0m\u001b[0mone_indexes\u001b[0m\u001b[0;34m,\u001b[0m \u001b[0;36m0\u001b[0m\u001b[0;34m]\u001b[0m \u001b[0;34m=\u001b[0m \u001b[0;36m1\u001b[0m  \u001b[0;31m# very long term memory.\u001b[0m\u001b[0;34m\u001b[0m\u001b[0m\n\u001b[0m",
      "\u001b[0;31mNameError\u001b[0m: name 'X_train' is not defined"
     ]
    }
   ],
   "source": [
    "N_train = 1000\n",
    "from numpy.random import choice\n",
    "one_indexes = choice(a=N_train, size=int(N_train / 2), replace=False)\n",
    "X_train[one_indexes, 0] = 1  # very long term memory."
   ]
  },
  {
   "cell_type": "code",
   "execution_count": 80,
   "metadata": {
    "collapsed": true
   },
   "outputs": [],
   "source": [
    "# Neural network playground\n",
    "\n",
    "# RNN - calls to predict store state history\n",
    "\n",
    "model = Sequential()\n",
    "model.add(LSTM(2, batch_input_shape=(1, 1, 2), activation='tanh', stateful=True))\n",
    "\n",
    "model.add(Dense(3, activation='softmax'))\n",
    "\n",
    "# Optimizer: adam, RMSProp\n",
    "model.compile(optimizer='adam', loss='mse')"
   ]
  },
  {
   "cell_type": "code",
   "execution_count": 81,
   "metadata": {
    "collapsed": true
   },
   "outputs": [],
   "source": [
    "model.save('test_model.h5')"
   ]
  },
  {
   "cell_type": "code",
   "execution_count": 82,
   "metadata": {
    "collapsed": true
   },
   "outputs": [],
   "source": [
    "test_model = load_model('test_model.h5')"
   ]
  },
  {
   "cell_type": "code",
   "execution_count": 83,
   "metadata": {
    "scrolled": true
   },
   "outputs": [
    {
     "data": {
      "text/plain": [
       "[array([[-0.73093283, -0.3637661 , -0.50931585,  0.47428238,  0.46101344,\n",
       "         -0.53180337,  0.64970565, -0.63791853],\n",
       "        [ 0.01188666, -0.04821819, -0.1984486 , -0.55533558, -0.45577481,\n",
       "         -0.30892774, -0.40100241, -0.5112372 ]], dtype=float32),\n",
       " array([[ 0.31900868,  0.09988321,  0.13011806, -0.00228098,  0.76533043,\n",
       "          0.00229885, -0.16670036, -0.50773609],\n",
       "        [-0.14532249,  0.53168344,  0.13678308,  0.27481109, -0.29851779,\n",
       "         -0.3401365 , -0.59445935, -0.20922652]], dtype=float32),\n",
       " array([ 0.,  0.,  1.,  1.,  0.,  0.,  0.,  0.], dtype=float32),\n",
       " array([[ 0.55039096, -0.9745031 , -0.80169487],\n",
       "        [ 0.36104786, -0.00757515,  0.5540576 ]], dtype=float32),\n",
       " array([ 0.,  0.,  0.], dtype=float32)]"
      ]
     },
     "execution_count": 83,
     "metadata": {},
     "output_type": "execute_result"
    }
   ],
   "source": [
    "model.get_weights()"
   ]
  },
  {
   "cell_type": "code",
   "execution_count": 84,
   "metadata": {},
   "outputs": [
    {
     "data": {
      "text/plain": [
       "[array([[-0.73093283, -0.3637661 , -0.50931585,  0.47428238,  0.46101344,\n",
       "         -0.53180337,  0.64970565, -0.63791853],\n",
       "        [ 0.01188666, -0.04821819, -0.1984486 , -0.55533558, -0.45577481,\n",
       "         -0.30892774, -0.40100241, -0.5112372 ]], dtype=float32),\n",
       " array([[ 0.31900868,  0.09988321,  0.13011806, -0.00228098,  0.76533043,\n",
       "          0.00229885, -0.16670036, -0.50773609],\n",
       "        [-0.14532249,  0.53168344,  0.13678308,  0.27481109, -0.29851779,\n",
       "         -0.3401365 , -0.59445935, -0.20922652]], dtype=float32),\n",
       " array([ 0.,  0.,  1.,  1.,  0.,  0.,  0.,  0.], dtype=float32),\n",
       " array([[ 0.55039096, -0.9745031 , -0.80169487],\n",
       "        [ 0.36104786, -0.00757515,  0.5540576 ]], dtype=float32),\n",
       " array([ 0.,  0.,  0.], dtype=float32)]"
      ]
     },
     "execution_count": 84,
     "metadata": {},
     "output_type": "execute_result"
    }
   ],
   "source": [
    "test_model.get_weights()"
   ]
  },
  {
   "cell_type": "code",
   "execution_count": 75,
   "metadata": {},
   "outputs": [
    {
     "data": {
      "text/plain": [
       "array([[ 0.33997616,  0.33627522,  0.32374865]], dtype=float32)"
      ]
     },
     "execution_count": 75,
     "metadata": {},
     "output_type": "execute_result"
    }
   ],
   "source": [
    "model.predict(vectorize(states[0]))"
   ]
  },
  {
   "cell_type": "code",
   "execution_count": 85,
   "metadata": {},
   "outputs": [
    {
     "name": "stdout",
     "output_type": "stream",
     "text": [
      "Epoch 1/1\n",
      "1/1 [==============================] - 1s 1s/step - loss: 0.4446\n"
     ]
    },
    {
     "data": {
      "text/plain": [
       "<keras.callbacks.History at 0x1a234a3940>"
      ]
     },
     "execution_count": 85,
     "metadata": {},
     "output_type": "execute_result"
    }
   ],
   "source": [
    "model.fit(vectorize(states[0]), np.expand_dims(np.array([1, 1, 1]), axis=0), batch_size=1, shuffle=False)"
   ]
  },
  {
   "cell_type": "code",
   "execution_count": 86,
   "metadata": {},
   "outputs": [
    {
     "name": "stdout",
     "output_type": "stream",
     "text": [
      "Epoch 1/1\n",
      "1/1 [==============================] - 1s 896ms/step - loss: 0.4446\n"
     ]
    },
    {
     "data": {
      "text/plain": [
       "<keras.callbacks.History at 0x1a241c5eb8>"
      ]
     },
     "execution_count": 86,
     "metadata": {},
     "output_type": "execute_result"
    }
   ],
   "source": [
    "test_model.fit(vectorize(states[0]), np.expand_dims(np.array([1, 1, 1]), axis=0), batch_size=1, shuffle=False)"
   ]
  },
  {
   "cell_type": "code",
   "execution_count": 87,
   "metadata": {},
   "outputs": [
    {
     "data": {
      "text/plain": [
       "[array([[-0.73192817, -0.36442012, -0.51030493,  0.47381532,  0.46001396,\n",
       "         -0.53086317,  0.6487118 , -0.63858837],\n",
       "        [ 0.01188666, -0.04821819, -0.1984486 , -0.55533558, -0.45577481,\n",
       "         -0.30892774, -0.40100241, -0.5112372 ]], dtype=float32),\n",
       " array([[ 0.31805012,  0.09971247,  0.12921   , -0.00236812,  0.76433527,\n",
       "          0.00293026, -0.16764657, -0.50791705],\n",
       "        [-0.14436556,  0.53184849,  0.13768768,  0.27489504, -0.29752281,\n",
       "         -0.34075838, -0.59351528, -0.2090515 ]], dtype=float32),\n",
       " array([ -9.97651601e-04,  -7.90818245e-04,   9.99005497e-01,\n",
       "          9.99363303e-01,  -9.99736832e-04,   9.69187764e-04,\n",
       "         -9.96913644e-04,  -8.02258786e-04], dtype=float32),\n",
       " array([[ 0.54939252, -0.97350794, -0.80069715],\n",
       "        [ 0.36204627, -0.00857013,  0.55305994]], dtype=float32),\n",
       " array([-0.00099992,  0.00099974,  0.00099988], dtype=float32)]"
      ]
     },
     "execution_count": 87,
     "metadata": {},
     "output_type": "execute_result"
    }
   ],
   "source": [
    "model.get_weights()"
   ]
  },
  {
   "cell_type": "code",
   "execution_count": 88,
   "metadata": {},
   "outputs": [
    {
     "data": {
      "text/plain": [
       "[array([[-0.73192817, -0.36442012, -0.51030493,  0.47381532,  0.46001396,\n",
       "         -0.53086317,  0.6487118 , -0.63858837],\n",
       "        [ 0.01188666, -0.04821819, -0.1984486 , -0.55533558, -0.45577481,\n",
       "         -0.30892774, -0.40100241, -0.5112372 ]], dtype=float32),\n",
       " array([[ 0.31805012,  0.09971247,  0.12921   , -0.00236812,  0.76433527,\n",
       "          0.00293026, -0.16764657, -0.50791705],\n",
       "        [-0.14436556,  0.53184849,  0.13768768,  0.27489504, -0.29752281,\n",
       "         -0.34075838, -0.59351528, -0.2090515 ]], dtype=float32),\n",
       " array([ -9.97651601e-04,  -7.90818245e-04,   9.99005497e-01,\n",
       "          9.99363303e-01,  -9.99736832e-04,   9.69187764e-04,\n",
       "         -9.96913644e-04,  -8.02258786e-04], dtype=float32),\n",
       " array([[ 0.54939252, -0.97350794, -0.80069715],\n",
       "        [ 0.36204627, -0.00857013,  0.55305994]], dtype=float32),\n",
       " array([-0.00099992,  0.00099974,  0.00099988], dtype=float32)]"
      ]
     },
     "execution_count": 88,
     "metadata": {},
     "output_type": "execute_result"
    }
   ],
   "source": [
    "test_model.get_weights()"
   ]
  },
  {
   "cell_type": "code",
   "execution_count": 150,
   "metadata": {},
   "outputs": [
    {
     "data": {
      "text/plain": [
       "[array([[ 0.13670987, -0.25626671,  0.35413641,  0.05407447, -0.23540521,\n",
       "         -0.00872707, -0.23882103, -0.21924084],\n",
       "        [ 0.14995754, -0.37987173,  0.73043746,  0.51833218, -0.41518304,\n",
       "         -0.30856588,  0.32293063,  0.43715757],\n",
       "        [-0.14346653, -0.58722466,  0.09635061, -0.42959249, -0.12475342,\n",
       "          0.48008007,  0.20320719,  0.52007014]], dtype=float32),\n",
       " array([[ -1.19848497e-01,  -1.05012525e-02,  -2.84707963e-01,\n",
       "           4.05847937e-01,  -5.25312759e-02,   3.98373187e-01,\n",
       "          -4.87123698e-01,  -5.83956063e-01],\n",
       "        [  3.55554948e-04,   6.20316327e-01,  -3.83881956e-01,\n",
       "          -1.94700994e-02,  -1.86089277e-01,   1.41730011e-01,\n",
       "          -3.30079406e-01,   5.51175177e-01]], dtype=float32),\n",
       " array([ 0.,  0.,  1.,  1.,  0.,  0.,  0.,  0.], dtype=float32),\n",
       " array([[ 0.35717392],\n",
       "        [-1.1435802 ]], dtype=float32),\n",
       " array([ 0.], dtype=float32)]"
      ]
     },
     "execution_count": 150,
     "metadata": {},
     "output_type": "execute_result"
    }
   ],
   "source": [
    "model.get_weights()"
   ]
  },
  {
   "cell_type": "code",
   "execution_count": 151,
   "metadata": {},
   "outputs": [
    {
     "data": {
      "text/plain": [
       "[array([[-0.14307576,  0.53988099, -0.08345276,  0.15672588,  0.24964613,\n",
       "          0.12790012, -0.07451165, -0.20258969, -0.34309155,  0.31779039,\n",
       "          0.60426831, -0.50093889],\n",
       "        [ 0.5596348 ,  0.26232028,  0.15591896,  0.11767244, -0.25093207,\n",
       "         -0.03600758, -0.03117216,  0.58335876,  0.25778687,  0.56229258,\n",
       "          0.3730216 , -0.4971121 ]], dtype=float32),\n",
       " array([[ 0.17935   ,  0.10540307,  0.39597896,  0.24963087, -0.27444357,\n",
       "         -0.5804953 , -0.36762106,  0.07931638, -0.12631567, -0.3159796 ,\n",
       "          0.26089209, -0.00387509],\n",
       "        [ 0.19038658, -0.21856263,  0.11403145,  0.13949299,  0.04758941,\n",
       "         -0.23152837,  0.49736854, -0.26391017, -0.24368083, -0.2290431 ,\n",
       "         -0.42155778,  0.4701868 ],\n",
       "        [ 0.18658625,  0.34733692, -0.11857619,  0.00143213, -0.5228526 ,\n",
       "         -0.09826455,  0.40348285,  0.39495933,  0.40627801, -0.01568197,\n",
       "         -0.23384646, -0.09309311]], dtype=float32),\n",
       " array([ 0.,  0.,  0.,  1.,  1.,  1.,  0.,  0.,  0.,  0.,  0.,  0.], dtype=float32),\n",
       " array([[-0.40650415, -0.94694066, -0.32358479],\n",
       "        [ 0.66262436,  0.75632429,  0.57618499],\n",
       "        [ 0.32545233,  0.23536563, -0.09811139]], dtype=float32),\n",
       " array([ 0.,  0.,  0.], dtype=float32)]"
      ]
     },
     "execution_count": 151,
     "metadata": {},
     "output_type": "execute_result"
    }
   ],
   "source": [
    "test_model.get_weights()"
   ]
  },
  {
   "cell_type": "code",
   "execution_count": 161,
   "metadata": {},
   "outputs": [
    {
     "data": {
      "text/plain": [
       "array([[ 0.33073106,  0.33260202,  0.33666694]], dtype=float32)"
      ]
     },
     "execution_count": 161,
     "metadata": {},
     "output_type": "execute_result"
    }
   ],
   "source": [
    "test_model.predict(vectorize(states[0]))"
   ]
  },
  {
   "cell_type": "code",
   "execution_count": 162,
   "metadata": {
    "collapsed": true
   },
   "outputs": [],
   "source": [
    "test_model.reset_states()"
   ]
  },
  {
   "cell_type": "code",
   "execution_count": 163,
   "metadata": {},
   "outputs": [
    {
     "data": {
      "text/plain": [
       "array([[ 0.33073106,  0.33260202,  0.33666694]], dtype=float32)"
      ]
     },
     "execution_count": 163,
     "metadata": {},
     "output_type": "execute_result"
    }
   ],
   "source": [
    "test_model.predict(vectorize(states[0]))"
   ]
  },
  {
   "cell_type": "code",
   "execution_count": 154,
   "metadata": {},
   "outputs": [
    {
     "data": {
      "text/plain": [
       "[array([[-0.14307576,  0.53988099, -0.08345276,  0.15672588,  0.24964613,\n",
       "          0.12790012, -0.07451165, -0.20258969, -0.34309155,  0.31779039,\n",
       "          0.60426831, -0.50093889],\n",
       "        [ 0.5596348 ,  0.26232028,  0.15591896,  0.11767244, -0.25093207,\n",
       "         -0.03600758, -0.03117216,  0.58335876,  0.25778687,  0.56229258,\n",
       "          0.3730216 , -0.4971121 ]], dtype=float32),\n",
       " array([[ 0.17935   ,  0.10540307,  0.39597896,  0.24963087, -0.27444357,\n",
       "         -0.5804953 , -0.36762106,  0.07931638, -0.12631567, -0.3159796 ,\n",
       "          0.26089209, -0.00387509],\n",
       "        [ 0.19038658, -0.21856263,  0.11403145,  0.13949299,  0.04758941,\n",
       "         -0.23152837,  0.49736854, -0.26391017, -0.24368083, -0.2290431 ,\n",
       "         -0.42155778,  0.4701868 ],\n",
       "        [ 0.18658625,  0.34733692, -0.11857619,  0.00143213, -0.5228526 ,\n",
       "         -0.09826455,  0.40348285,  0.39495933,  0.40627801, -0.01568197,\n",
       "         -0.23384646, -0.09309311]], dtype=float32),\n",
       " array([ 0.,  0.,  0.,  1.,  1.,  1.,  0.,  0.,  0.,  0.,  0.,  0.], dtype=float32),\n",
       " array([[-0.40650415, -0.94694066, -0.32358479],\n",
       "        [ 0.66262436,  0.75632429,  0.57618499],\n",
       "        [ 0.32545233,  0.23536563, -0.09811139]], dtype=float32),\n",
       " array([ 0.,  0.,  0.], dtype=float32)]"
      ]
     },
     "execution_count": 154,
     "metadata": {},
     "output_type": "execute_result"
    }
   ],
   "source": [
    "test_model.get_weights()"
   ]
  },
  {
   "cell_type": "code",
   "execution_count": null,
   "metadata": {
    "collapsed": true
   },
   "outputs": [],
   "source": []
  }
 ],
 "metadata": {
  "kernelspec": {
   "display_name": "Python 3",
   "language": "python",
   "name": "python3"
  },
  "language_info": {
   "codemirror_mode": {
    "name": "ipython",
    "version": 3
   },
   "file_extension": ".py",
   "mimetype": "text/x-python",
   "name": "python",
   "nbconvert_exporter": "python",
   "pygments_lexer": "ipython3",
   "version": "3.6.3"
  }
 },
 "nbformat": 4,
 "nbformat_minor": 2
}
